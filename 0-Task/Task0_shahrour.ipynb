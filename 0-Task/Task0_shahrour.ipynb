{
 "cells": [
  {
   "cell_type": "markdown",
   "metadata": {
    "id": "xy6ORphRCian"
   },
   "source": [
    "# Task 0\n",
    "## This is just a short exam to make sure that you are familiar with python.\n",
    "## Good Luck 🤗\n",
    "## shAI 💚"
   ]
  },
  {
   "cell_type": "markdown",
   "metadata": {
    "id": "l1xZ9_te2ffn"
   },
   "source": [
    "## A. Input and Output\n"
   ]
  },
  {
   "cell_type": "markdown",
   "metadata": {
    "id": "CAABNDhU2sjU"
   },
   "source": [
    "### 1. print Hello Wrold!\n"
   ]
  },
  {
   "cell_type": "code",
   "execution_count": 1,
   "metadata": {
    "colab": {
     "base_uri": "https://localhost:8080/"
    },
    "id": "fBMK6SWq1evy",
    "outputId": "62b6cec1-0e15-470b-d0ee-e97676dbcfe4"
   },
   "outputs": [
    {
     "name": "stdout",
     "output_type": "stream",
     "text": [
      "Hello Wrold!\n"
     ]
    }
   ],
   "source": [
    "# Write your code here\n",
    "print('Hello Wrold!')"
   ]
  },
  {
   "cell_type": "markdown",
   "metadata": {
    "id": "EsRjEFRi3s04"
   },
   "source": [
    "### 2. Ask the user to enter his name \n",
    "### then print 'Hi, name!'\n",
    "\n",
    "**Example:**\n",
    "\n",
    "user input: Ali\n",
    "\n",
    "Output: 'Hi Ali!\""
   ]
  },
  {
   "cell_type": "code",
   "execution_count": 3,
   "metadata": {
    "colab": {
     "base_uri": "https://localhost:8080/"
    },
    "id": "iw1M2KYg3x_w",
    "outputId": "d69221c3-103d-4361-9379-b5bd96678218"
   },
   "outputs": [
    {
     "name": "stdout",
     "output_type": "stream",
     "text": [
      "What's your name? shahrour\n",
      "Hi shahrour!\n"
     ]
    }
   ],
   "source": [
    "# Write your code here\n",
    "name = input(\"What's your name? \")\n",
    "print(f'Hi {name}!')"
   ]
  },
  {
   "cell_type": "markdown",
   "metadata": {
    "id": "uw-x53ZoDISx"
   },
   "source": [
    "## B. Variable and Data type"
   ]
  },
  {
   "cell_type": "markdown",
   "metadata": {
    "id": "6-wFSqtN4ELf"
   },
   "source": [
    "### 3. Calculate the area of a rectangle given its length and width and save it in a variable called area:"
   ]
  },
  {
   "cell_type": "code",
   "execution_count": 4,
   "metadata": {
    "colab": {
     "base_uri": "https://localhost:8080/"
    },
    "id": "a1iSPBpH4Qhl",
    "outputId": "f3f005c7-a3bc-44aa-f5f8-6a93d999e076"
   },
   "outputs": [
    {
     "name": "stdout",
     "output_type": "stream",
     "text": [
      "area = 200\n"
     ]
    }
   ],
   "source": [
    "length = 20 \n",
    "width = 10  \n",
    "# Write your code here\n",
    "area =  length*width\n",
    "print('area =',area)"
   ]
  },
  {
   "cell_type": "markdown",
   "metadata": {
    "id": "VyJt9bF35uJZ"
   },
   "source": [
    "###4. Ask the user to input the radius then calculate the area of a circle:\n",
    "####Hint: change the input type from string to float\n",
    "\n",
    "###Sample Output:\n",
    "\n",
    "####Radius = 1.1\n",
    "\n",
    "####Area = 3.8013271108436504"
   ]
  },
  {
   "cell_type": "code",
   "execution_count": 6,
   "metadata": {
    "colab": {
     "base_uri": "https://localhost:8080/"
    },
    "id": "aqckCnRM5vyx",
    "outputId": "6b14e5c9-8e4c-41a9-972c-32c0bf657568"
   },
   "outputs": [
    {
     "name": "stdout",
     "output_type": "stream",
     "text": [
      "Enter the radius to calculate the area: 22\n",
      "Area = 1521.142857142857\n"
     ]
    }
   ],
   "source": [
    "PI = 22/7\n",
    "# Write your code here\n",
    "r = float(input('Enter the radius to calculate the area: '))\n",
    "print('Area =',(r**2)*PI)"
   ]
  },
  {
   "cell_type": "markdown",
   "metadata": {
    "id": "_OSnOhoSDaFx"
   },
   "source": [
    "## C. String"
   ]
  },
  {
   "cell_type": "markdown",
   "metadata": {
    "id": "0vSnVOqi6phT"
   },
   "source": [
    "###5. print 'shAI' from the given string.\n",
    "\n",
    "####Hint: use string slicing"
   ]
  },
  {
   "cell_type": "code",
   "execution_count": 7,
   "metadata": {
    "colab": {
     "base_uri": "https://localhost:8080/",
     "height": 38
    },
    "id": "VCpmsbqM6o3L",
    "outputId": "06a6e2e0-1030-4e8d-b44b-73e373645430"
   },
   "outputs": [
    {
     "data": {
      "text/plain": [
       "'shAI'"
      ]
     },
     "execution_count": 7,
     "metadata": {},
     "output_type": "execute_result"
    }
   ],
   "source": [
    "greeting = \"Welcome to shAI!\"\n",
    "# Write your code here\n",
    "greeting[-5:-1]"
   ]
  },
  {
   "cell_type": "markdown",
   "metadata": {
    "id": "1UKLm4yXFpAB"
   },
   "source": [
    "### 6. Reverse the greeting\n",
    "####output ==> !IAhs ot emocleW"
   ]
  },
  {
   "cell_type": "code",
   "execution_count": 8,
   "metadata": {
    "colab": {
     "base_uri": "https://localhost:8080/",
     "height": 38
    },
    "id": "JTYjqoO77Zrd",
    "outputId": "ae7b9e33-a21b-403a-8477-0aec6fa7c5a6"
   },
   "outputs": [
    {
     "data": {
      "text/plain": [
       "'!IAhs ot emocleW'"
      ]
     },
     "execution_count": 8,
     "metadata": {},
     "output_type": "execute_result"
    }
   ],
   "source": [
    "greeting = \"Welcome to shAI!\"\n",
    "# Write your code here\n",
    "greeting[::-1]"
   ]
  },
  {
   "cell_type": "markdown",
   "metadata": {
    "id": "-nS4RAvPDs5I"
   },
   "source": [
    "## D. Conditions"
   ]
  },
  {
   "cell_type": "markdown",
   "metadata": {
    "id": "UQYbNt5471Di"
   },
   "source": [
    "### 6. Write a function that receive a student mark and return the final grade as the following:\n",
    "\n",
    "90 - 100 --> A\n",
    "\n",
    "80 - 89 --> B\n",
    "\n",
    "70 - 79 --> C\n",
    "\n",
    "50 - 69 --> D\n",
    "\n",
    "< 50 --> F\n",
    "\n",
    "####Hint: use if, elif, else"
   ]
  },
  {
   "cell_type": "code",
   "execution_count": 9,
   "metadata": {
    "colab": {
     "base_uri": "https://localhost:8080/",
     "height": 55
    },
    "id": "SQ69JRik7755",
    "outputId": "3bf19bb8-2f86-46a1-afde-c731ff1d75d4"
   },
   "outputs": [
    {
     "name": "stdout",
     "output_type": "stream",
     "text": [
      "Enter student mark: 55\n"
     ]
    },
    {
     "data": {
      "text/plain": [
       "'D'"
      ]
     },
     "execution_count": 9,
     "metadata": {},
     "output_type": "execute_result"
    }
   ],
   "source": [
    "def  final_grade (mark):\n",
    "    if mark >= 90 and mark<=100:\n",
    "        return \"A\"\n",
    "    elif mark >= 80 and mark<=89:\n",
    "        return \"B\"\n",
    "    elif mark >= 70 and mark<=79:\n",
    "        return \"C\"\n",
    "    elif mark >= 50 and mark<=69:\n",
    "        return \"D\"\n",
    "    elif mark < 50:\n",
    "        return \"F\"\n",
    "    else:\n",
    "        return \"Error Mark\"\n",
    "# Write your code here\n",
    "\n",
    "mark = int (input (\"Enter student mark: \"))\n",
    "final_grade(mark)"
   ]
  },
  {
   "cell_type": "markdown",
   "metadata": {
    "id": "bCfvTbEY8ywo"
   },
   "source": [
    "###7. Write a function reserve a name and age :\n",
    "\n",
    "###then print \"Lucky Person\" if the age is even and the Name starts with the letter \"A\" or \"M\"\n",
    "###else print \"Hard Luck\""
   ]
  },
  {
   "cell_type": "code",
   "execution_count": 10,
   "metadata": {
    "colab": {
     "base_uri": "https://localhost:8080/"
    },
    "id": "TgSQ0Av883uQ",
    "outputId": "d9a6f200-fef7-42d2-a9fd-c4b31e414805"
   },
   "outputs": [
    {
     "name": "stdout",
     "output_type": "stream",
     "text": [
      "Hard Luck\n"
     ]
    }
   ],
   "source": [
    "def lucky_person(name, age):\n",
    "    if (name[0]== \"A\" or name[0]== \"M\") and age%2==0:\n",
    "        print(\"Lucky Person\")\n",
    "    else:\n",
    "        print('Hard Luck')\n",
    "  # Write your code here\n",
    "\n",
    "lucky_person(\"Ali\", 21)"
   ]
  },
  {
   "cell_type": "markdown",
   "metadata": {
    "id": "8NfRlB55ENkN"
   },
   "source": [
    "## E. Loop"
   ]
  },
  {
   "cell_type": "markdown",
   "metadata": {
    "id": "vwDHc4fU-iFY"
   },
   "source": [
    "### 8. Write a Python program that sums all even numbers between two numbers the start and end included"
   ]
  },
  {
   "cell_type": "code",
   "execution_count": 11,
   "metadata": {
    "colab": {
     "base_uri": "https://localhost:8080/"
    },
    "id": "O8XRKR5S-g5q",
    "outputId": "2ba6c090-dc99-4729-b051-9c66fe956ab5"
   },
   "outputs": [
    {
     "data": {
      "text/plain": [
       "30"
      ]
     },
     "execution_count": 11,
     "metadata": {},
     "output_type": "execute_result"
    }
   ],
   "source": [
    "def sum_evens (start, end):\n",
    "    return sum([i for i in range(start,end+1) if i%2==0])\n",
    "  # Write your code here\n",
    "\n",
    "sum_evens (2, 10)"
   ]
  },
  {
   "cell_type": "markdown",
   "metadata": {
    "id": "Om-l0ThEAWvT"
   },
   "source": [
    " ## F. Data Structures"
   ]
  },
  {
   "cell_type": "markdown",
   "metadata": {
    "id": "WdoiHJEIAXUb"
   },
   "source": [
    "##List"
   ]
  },
  {
   "cell_type": "code",
   "execution_count": 12,
   "metadata": {
    "id": "XPqmKNMNAbil"
   },
   "outputs": [],
   "source": [
    "numbers = [0, 10, 20, 30, 40, 50, 60, 70, 80, 90]"
   ]
  },
  {
   "cell_type": "markdown",
   "metadata": {
    "id": "JCXoOX_UEa1V"
   },
   "source": [
    "### 9 . print first element of numbers\n",
    "#### output ==> 0"
   ]
  },
  {
   "cell_type": "code",
   "execution_count": 13,
   "metadata": {
    "colab": {
     "base_uri": "https://localhost:8080/"
    },
    "id": "Lei2L5x1AgAS",
    "outputId": "94c47923-e78a-4f90-fee0-3f1677490717"
   },
   "outputs": [
    {
     "name": "stdout",
     "output_type": "stream",
     "text": [
      "0\n"
     ]
    }
   ],
   "source": [
    "# Write your code here\n",
    "print(numbers[0])"
   ]
  },
  {
   "cell_type": "markdown",
   "metadata": {
    "id": "guY2lx_dElat"
   },
   "source": [
    "### 10. print last element of numbers\n",
    "#### output ==> 90"
   ]
  },
  {
   "cell_type": "code",
   "execution_count": 14,
   "metadata": {
    "colab": {
     "base_uri": "https://localhost:8080/"
    },
    "id": "_0DjafQ0Aheq",
    "outputId": "2c29759a-87ca-4d4c-ff33-bd73a9119a9d"
   },
   "outputs": [
    {
     "name": "stdout",
     "output_type": "stream",
     "text": [
      "90\n"
     ]
    }
   ],
   "source": [
    "# Write your code here\n",
    "print(numbers[-1])"
   ]
  },
  {
   "cell_type": "markdown",
   "metadata": {
    "id": "aTxQcAhZEqDV"
   },
   "source": [
    "### 11. print the elements from 30 to 70\n",
    "##### output ==> [ 30, 40, 50, 60, 70]"
   ]
  },
  {
   "cell_type": "code",
   "execution_count": 15,
   "metadata": {
    "colab": {
     "base_uri": "https://localhost:8080/"
    },
    "id": "jnVA3v-tAjGi",
    "outputId": "b412e573-f832-4da1-deaf-b2cdf1f2daae"
   },
   "outputs": [
    {
     "name": "stdout",
     "output_type": "stream",
     "text": [
      "[30, 40, 50, 60, 70]\n"
     ]
    }
   ],
   "source": [
    "# Write your code here\n",
    "print(numbers[3:8])"
   ]
  },
  {
   "cell_type": "markdown",
   "metadata": {
    "id": "iTT0SlGEEu1j"
   },
   "source": [
    "### 12. Add 100 to the end of the list"
   ]
  },
  {
   "cell_type": "code",
   "execution_count": 16,
   "metadata": {
    "colab": {
     "base_uri": "https://localhost:8080/"
    },
    "id": "tUeXbdejAnWa",
    "outputId": "6cb51d37-8943-40a5-b0b4-23ef2b6d1dbb"
   },
   "outputs": [
    {
     "data": {
      "text/plain": [
       "[0, 10, 20, 30, 40, 50, 60, 70, 80, 90, 100]"
      ]
     },
     "execution_count": 16,
     "metadata": {},
     "output_type": "execute_result"
    }
   ],
   "source": [
    "# Write your code here\n",
    "numbers.append(100)\n",
    "numbers"
   ]
  },
  {
   "cell_type": "markdown",
   "metadata": {
    "id": "lIUKfLiIEySj"
   },
   "source": [
    "### 13.  Add 35 between 30 and 40 "
   ]
  },
  {
   "cell_type": "code",
   "execution_count": 17,
   "metadata": {
    "colab": {
     "base_uri": "https://localhost:8080/"
    },
    "id": "T057uBd4AqSW",
    "outputId": "bbc27ea2-8d4e-4eb1-a32f-361ae726da39"
   },
   "outputs": [
    {
     "data": {
      "text/plain": [
       "[0, 10, 20, 30, 35, 40, 50, 60, 70, 80, 90, 100]"
      ]
     },
     "execution_count": 17,
     "metadata": {},
     "output_type": "execute_result"
    }
   ],
   "source": [
    "# Write your code here\n",
    "numbers.insert(4,35)\n",
    "numbers"
   ]
  },
  {
   "cell_type": "markdown",
   "metadata": {
    "id": "fwlXExFGE6Ci"
   },
   "source": [
    "### 14. Delete elemnet with index 3 form numbers"
   ]
  },
  {
   "cell_type": "code",
   "execution_count": 18,
   "metadata": {
    "colab": {
     "base_uri": "https://localhost:8080/"
    },
    "id": "3vsE2BApAt6y",
    "outputId": "5de785cd-ec17-456b-be9d-ddde22f951ef"
   },
   "outputs": [
    {
     "data": {
      "text/plain": [
       "[0, 10, 20, 35, 40, 50, 60, 70, 80, 90, 100]"
      ]
     },
     "execution_count": 18,
     "metadata": {},
     "output_type": "execute_result"
    }
   ],
   "source": [
    "# Write your code here\n",
    "numbers.pop(3)\n",
    "numbers"
   ]
  },
  {
   "cell_type": "markdown",
   "metadata": {
    "id": "rtRi6jmOA3io"
   },
   "source": [
    "## Dictonary"
   ]
  },
  {
   "cell_type": "code",
   "execution_count": 19,
   "metadata": {
    "id": "UF8pLyMWA3Oo"
   },
   "outputs": [],
   "source": [
    "file_counts = {\"jpg\": 10, \"txt\": 26, \"csv\": 50, \"py\": 1}"
   ]
  },
  {
   "cell_type": "markdown",
   "metadata": {
    "id": "GkDtrU-BE-Hq"
   },
   "source": [
    "###15. print the value from file_counts with key \"txt\"\n",
    "#### output ==> 26"
   ]
  },
  {
   "cell_type": "code",
   "execution_count": 20,
   "metadata": {
    "colab": {
     "base_uri": "https://localhost:8080/"
    },
    "id": "ytypgEvmBETe",
    "outputId": "3360cdcc-b816-4554-cee8-270fb810a5a9"
   },
   "outputs": [
    {
     "data": {
      "text/plain": [
       "26"
      ]
     },
     "execution_count": 20,
     "metadata": {},
     "output_type": "execute_result"
    }
   ],
   "source": [
    "# Write your code here\n",
    "file_counts.get('txt')"
   ]
  },
  {
   "cell_type": "markdown",
   "metadata": {
    "id": "7y11dl-LFB76"
   },
   "source": [
    "### 16. Change the py value from file_counts to 100"
   ]
  },
  {
   "cell_type": "code",
   "execution_count": 21,
   "metadata": {
    "colab": {
     "base_uri": "https://localhost:8080/"
    },
    "id": "lMEAEqSXBtaG",
    "outputId": "9f0c25e8-42fc-4b9a-93b0-577b72242d36"
   },
   "outputs": [
    {
     "data": {
      "text/plain": [
       "{'jpg': 10, 'txt': 26, 'csv': 50, 'py': 100}"
      ]
     },
     "execution_count": 21,
     "metadata": {},
     "output_type": "execute_result"
    }
   ],
   "source": [
    "# Write your code here\n",
    "file_counts['py'] = 100\n",
    "file_counts"
   ]
  },
  {
   "cell_type": "markdown",
   "metadata": {
    "id": "PZlZsamIFFoz"
   },
   "source": [
    "### 17. add file type \"html\" and make its value 30\n"
   ]
  },
  {
   "cell_type": "code",
   "execution_count": 22,
   "metadata": {
    "colab": {
     "base_uri": "https://localhost:8080/"
    },
    "id": "BltCfC8YB4TH",
    "outputId": "cf6ee405-44a9-46db-da15-739f2d2c867e"
   },
   "outputs": [
    {
     "data": {
      "text/plain": [
       "{'jpg': 10, 'txt': 26, 'csv': 50, 'py': 100, 'html': 30}"
      ]
     },
     "execution_count": 22,
     "metadata": {},
     "output_type": "execute_result"
    }
   ],
   "source": [
    "# Write your code here\n",
    "file_counts['html'] = 30\n",
    "file_counts"
   ]
  },
  {
   "cell_type": "markdown",
   "metadata": {
    "id": "hVqKYSPqFJRK"
   },
   "source": [
    "### 18. Iterating over all elements in file_counts dictionary and print each file type and its count\n"
   ]
  },
  {
   "cell_type": "code",
   "execution_count": 23,
   "metadata": {
    "colab": {
     "base_uri": "https://localhost:8080/"
    },
    "id": "Mia_ARGYBJ6Q",
    "outputId": "4525b18a-3300-48ec-ab0f-85e31d7818ac"
   },
   "outputs": [
    {
     "name": "stdout",
     "output_type": "stream",
     "text": [
      "file jpg : 10\n",
      "file txt : 26\n",
      "file csv : 50\n",
      "file py : 100\n",
      "file html : 30\n"
     ]
    }
   ],
   "source": [
    "# Write your code here\n",
    "for i in file_counts:\n",
    "  print(f'file {i} : {file_counts.get(i)}')"
   ]
  },
  {
   "cell_type": "markdown",
   "metadata": {
    "id": "5M3bt4RTCLOs"
   },
   "source": [
    "### 19.Given this nested dictionary grab the word \"hello\". Be Keys and index, this will be annoying/tricky"
   ]
  },
  {
   "cell_type": "code",
   "execution_count": 24,
   "metadata": {
    "colab": {
     "base_uri": "https://localhost:8080/",
     "height": 38
    },
    "id": "FcQSZluOCMuk",
    "outputId": "adba9f5a-4483-4578-db68-3f9c13884bc1"
   },
   "outputs": [
    {
     "data": {
      "text/plain": [
       "'hello'"
      ]
     },
     "execution_count": 24,
     "metadata": {},
     "output_type": "execute_result"
    }
   ],
   "source": [
    "d = {'k1':[1,2,3,{'tricky':['oh','man','inception',{'target':[1,2,3,'hello']}]}]}\n",
    "# Write your code here\n",
    "d.get('k1')[3].get('tricky')[3].get('target')[3]"
   ]
  },
  {
   "cell_type": "markdown",
   "metadata": {
    "id": "hpAJsyGZsJqT"
   },
   "source": [
    "### solve these problems using **python**"
   ]
  },
  {
   "cell_type": "markdown",
   "metadata": {
    "id": "hmAWmNroryOn"
   },
   "source": [
    "![E1.PNG](data:image/png;base64,iVBORw0KGgoAAAANSUhEUgAAAlwAAAKSCAYAAAAH/gV0AAAAAXNSR0IArs4c6QAAAARnQU1BAACxjwv8YQUAAAAJcEhZcwAADsMAAA7DAcdvqGQAAP+lSURBVHhe7J0JvB1Flf8hCbussogLahRxQVFRcUNcRjPqKCMuuPPUmcEdHR3juPucMWjGf3RU0IwSsrDJQ1BQFtEoiEHUh6CQhOwbSR5LAgECCXD+9a3u07du375vy7vv3pf8vp/P+dx7q6urzqmqrjpdVd13JxNCCCGEEC1FDpcQQgghRIuRwyWEEEII0WLkcAkhhBBCtBg5XEIIIYQQLUYOlxBCCCFEi5HDJYQQQgjRYuRwCSGEEEK0GDlcQuyg9PV02cSJE627Nw8YNL3WHc7j3Hrpsp6+PEqr6e22iV095tn1dof8C0P6rKfLdeoO2vZHZkvTMiCf3L6uUTNOCLE9IodLiB0SHI0u6+4OTlfiuAyO7Nyy/5E5cAM5OCNEyeGqo6/HugatR/8OF46cHC0hxEggh0uIHRF3WKJzMtSZqWqHq9HRSWeagpQdpGT2KJPk3Aq9ilmsuvOyc6qPZc5S/exXoC7tZg5XSfdCt35syu3vyWcOG44HfFYxk1IZlnRv5gQKIcYmcriE2AGpzdxkDsTQZnGaz3DV0mlMt87xic5Fmkbm+BTH+3O4sh91zkzdsZLjNzyHK6NWTjCATTHdNK8s7SJ+tDlxKtPf5WMV9gshxjZyuITY0SgP5uXBfkBy56hK3NkoOUQZ1Y6a0+i8dJjDNZBN/ercn2ObHSvrEGfDmikmhBhzyOESYgejcSDv3+lopInjFB23LLx+6SyV0nnRSUmOuxId6HANaFO/OveXT3asMu1migkhxhxyuITYoehncG+YvWlGE4crmcWJzkl/6SWOlvsUjU5TBzpcA9o0fIermQ5CiO0DOVxC7EjEWaiK5cNkdmpg+ne4Mv+iST45jbNsnNLZDlfMsx+b+td54CXF6mNCiO0FOVxC7EA0OB8FQxn0mzhcdQ5Jll5dXsnx8mxRsVxXxM8coUKf6Mwkx4fgcGVplxyw4ThcA9iU5TuAk5joURc/HkvPlRMmxPaGHC4hdhRyp6WZc1FzTAYa7DMnpW45MkrZCSvHS5wNd178WFCq7BhlTkh+PDhXvRwvlPe0szz7c7jKeXX3cq7rOhSHC/qxaSCHK1A4lrmk+ZaPydkSYvtCDpcQQgghRIuRwyWEEEII0WLkcAkhhBBCtBg5XEIIIYQQLUYOlxBCCCFEi5HDJYQQQgjRYuRwCSGEEEK0GDlcQgghhBAtRg6XEEIIIUSLkcMlhBBCCNFi5HAJIYQQQrQYOVxCCCGEEC1GDpcQOwR91ud/1tzVE35tI73d2Z8r++cA8MfMxX9LZ4qMLCHNIaU6qPgjVFbbSFp2QoixixwuIXYARnzQHqSj1cBwz+uXoTpGfdbT1R3O6oe+HuuaONEmyuESQowQcriE2O4JDgnOw8Qu6+lz54TP7iB5eG/uYEx0R8TPaeJ0lGe4+OwOksfvDU5CPDf3FDKnAUcnS7POgUjPLfInOIub6U1IOL+7K8ZLnTbSLvJyR8l/ZxHqw0J+8Xu0q9r56uvtzcuoyuGq2dF/eSVhhcEVYa5PlMb0urrkcAmxPSCHS4gdgNosiTsRDOi5I8OAnzsJODnEq5tVwSFKHJyIhyWfaRpZfPLIHIgivSZpFU6KH8dJqimQ64yj485Xih/n9Npxz7POlki1k9VILd066nTLqCovwtxW18vLNwvLv2N/Hlilc3qOEGLsIodLiB2A2gDuTkTiTCROkMdjkK/NugQpj/h+TvkzHkpmpHLHpsg/iVeQhrkzE8Lq8o+OWzNHKXXI0nNSxy8PK+Jtg8MVqJVPzZFK86W8Uucvo5RvRdnVyr/RcRRCjG3kcAmxAzBUh2vAQb7sLCRpDMfhSpfX4vGKWaQ0vXpqtjQ6OfVkx7fd4SrI9a0qL8LcVj+ezlYV35My8Xhpeuk5QoixixwuIXYEcGoa9nA1d7hCYG1WKIgfL/Bzyp/xUD8OV76fqs6B4NyufB9W5R6uIFHXZo4S4SEOiebp+3lZkKedxwnEtPtNE5o4XHV5+LlV5ZXrRViRThLPC2GA8tceLiG2D+RwCSHaS+JwCCHE9oocLiFEe5HDJYTYAZDDJYQQQgjRYuRwCSGEEEK0GDlcQgghhBAtRg6XEEIIIUSLkcMlhBBCCNFi5HAJIfrHnyIc7NOE6Xul+lrw9GFIc2iphvj9nJC+p6v2vqv0vVr+rq2q92qNEoN+krN/W4UQ7UMOlxCif4b72obhntcvTV5G2g+1l4lWkaaXfO/rse6S7mk6/afZAgZZlqOulxBi0MjhEqLDiINmd/5fgmH09DeuF7NG4Xg281KbkRnoHAbs+nP6rKe7K74xvavnN+Z/Mh3Dy38Q7YN9+hnyim9bDw5Kr+vjysR484vZIA/OwKnpDlJ/rPZW+eQt9YV+NWUK2zkxfeO7J9QQ5jNVg/lLn8ThSsrL0+4NNne7nhVO33DrLYtPmVTk7fVCmZbexs+5dfXbfW5ia3V+adppuQohWo8cLiE6jDhQxhEyW8LKvgZHIg7I6YxMzYEY8Jy6v6DhO/FqjhXn15+TwGBPxOTTHQ6cimzgTvIox6+DeJ5vbgt5xsyTsJJ+Nfw4yTfqX9iRUBVWBbZ4PM5x3T282XGHsKHVWxKWlGm6DFvYyHHPvCjXtCyy/Gq2VuVHvKoyFUKMBnK4hOgwaoNmbaAsBlAG8HyGIpNsAB3wHB+sA5V/4JzHqXIkigG+/BkP+QCepFcRr0aFIxDi1exBSKekX4Gfz/H0nNTxy8PyfGpl04wsrWZx/HxmuIooFbYNud7mp/WSlktigzunaX5JfWblT/wsv0KHJu2kLrzIWwgxGsjhEqLD6HfgrhuYawx4TuUMl4cBv4OzVTWrVHagksF/WA5Xqos7Iw2Df1k/x20i+QpdE/x4rWyqqUonnc1K03F7qtIcer0lYZRB/J6em9VJzDKUZeMMV/49xPFjNR2q8ktpVr5CiFYhh0uIDqP/gTs7Xpu5yI4PdE4csPNzGuNlxHTzgbsOH+DLn/GQOytJen48n02pTxKdguNSpwunuD1BGhyPFMJDHE4szeJkQUnZ1BIPv9GzIs1SGrUnEoOeeVjh3HjehFc4M8Ottyw9nN1yvJBeKN+YJmWKY5Wcm4GeicNY2FqdX1rONbuEEKOBHC4hRCSd1WkdiRO4w5OURTHDNUSGe54QYtSRwyWEyGY+RmXglsOVks5CDdnZrZxBFEJ0KnK4hBBCCCFajBwuIYQQQogWI4dLCCGEEKLFyOESQgghhGgxcriEEEIIIVqMHC4hRD+M1FOFfZb8Y83gCCcMO1+e4BvG43uNL0Ft9j6wYbAt9gghxjxyuIQQLYfXHwzN/9lGR2/EHK6RQq/DEGJHRw6XEKIf3FEIn/n7omrvjMpmf7rzt5f7m8tT5ypzYPzczJmpdGriG9Jr6RTvpyKh/H1T2fH83CR++ub14k3qvLk9V6LuLfZ5WF8Pb24nXrCtSL/qr41qM1x1b27Pnadoa3euiztUvBU+T8TLos4eIcQOiRwuIUQ/pA5X7tgUs0fZX91kPkS9Y+J+hTtXaVgVjU6Y5xtIluKKdHC48gSLsHRWqzieLmXW0uQcd4pqeWND/w5X+RzCGvSocLjSvIUQOyZyuIQQ/ZA4XIUDlDpc6exSo3M1WIcrpumzR5nXkjgomWPns0vZ4QqnJgmr6RjA+fK0E4crO1xtQ416h6uWZIVdnr8cLiFEBXK4hBD9MJDD5Q5KlWNSO17nmPSLp1PLL3WCiv97rHJqqma40jC+NzhcafqpPU6VXbVzCOvP8av9P6UcLiF2dORwCSH6YWCHK+6FmljbwxWPxxmlZE8UDlA/e7jSfVZZOqQdfpNPPDc7xn6peLzK4Qo07uHK04lh3cGGRuepUt+CQThc4ZwsfXeoQlnF9IIt4Vh2TmKPEGKHRA6XEGKY1JyRHZU6x00IIfpBDpcQYpjI4ZLDJYQYLHK4hBBCCCFajBwuIYQQQogWI4dLCCGEEKLFyOESQgghhGgxcriEEEIIIVqMHC4hxBBJ/y5nsAzjnOQvfYZM+sLTIVD1jrCh0Df0ghnWOUKIsYccLiHEkBjOqxCGfs42vpm9HQ5X8jLWQTOcc4QQYxI5XEKIjPSN7rmvkjpKmTPib1Hne/Yeru787e7Vb34vn+Nh2fGCJG/SIY34m4SKN8HX0kjjT/Q/1Y7BeVjxpvkkDMnD+nqCo8Ob33Hq+n3TfGBQ5ZK/ST7GGWy5pOdk4UKI7Rc5XEKIAE6ROy61741OQhqWOQy174M5p5pGJyyZ4QqOiR8q0sEJyhMswtJZreJ4upRZS5Nz3BGq5Y0NFXoMslzIM0tz8OVSO0cIsb0jh0sIgTdQtwRX5Sg1htWcCRjcOU1IZ7FixMThyh2YeMxngxJHpUg7dV7KzpennThc2eFqGwqGUC61/AdfLrVzhBDbO3K4hBCBgWZycCLKjkMtLPs+mHMGwtOpOVypE8TyYEynyuGqmuFKw/je4HCl6af2OIMvl5pOaTpuz0DnCCG2d+RwCSEycFLSWSTASYlhyf6mGI/vmeMQ90KFOIXj0O85fM3DEtJ9VjWnJfxGkVSv7txBSRyVeucpTwe9YmCeTgzrDk5c2fmJP4a8h6vynDws28M1yHIpzsmiCCG2X+RwCSGGCY6Fz/6IGioXIUQjcriEEMNEjkU1KhchRCNyuIQQQgghWowcLiGEEEKIFiOHSwghhBCixcjhEkIIIYRoMXK4hBBCCCFajBwuIYQQQogWI4dLCCGEEKLFyOESQgghhGgxcriEEEIIIVqMHC4hhBBCiBYjh0sIIYQQosXI4RJCCCGEaDFyuIQQQgghWowcLiGEEEKIFjOCDlef9XR1W2/+y8K37old1tMXjvR0WXftQHN6u62LEwair8e6GhIM+XX1BC1aC7ZMnDhxcPZsA319WFIu0/7JzhlBQnpNUxxsXXUIvd1ZWxw5ht7eBn0dNFDKi/Y/kXYx+PYx2LyHr+PADK59hjbXqmY1nDZbXAPD6196uyeG/mKk217K0PqIQeN2F2VGfx5saVIGje2mRXoNhkHX8+iMGSPOkNtxG+tC1NEih6u+ggfdiQ+2IbXR4Rr5gbuCohyGcKEM+SIciDHaGTVh+3G40u+Dbx9td7gG2T5blj9s00A1nOthCNfvsGlFHhW2Vva5NRrrbTRsb8KI94Udxja1Y9FOWuJwlQe3eDF2d8eZoeIOKd6lc/eX3AEmDSm7M0yOpWFdXU0cru4gWZzsMDp5OhP7Tbsg6ODxJ8ZZhITimNtZTifoUJxbmwXD/vp4/elQ07m7NyvT7jxucZE16Jiek0XJSPQpDlSEVdhc6EycqjIJYVGfqmN15e5hzlq78KTj7KhjjrOTTj7ZTj59mp0Svp9+fX44go6JHlFP0szLKsmzZm+FXUUbC+3Fz03jpU6MhwWppZmDraH9Zmm5PeGceH5qq9dRVVhmS0w76k86/ZVTSppXGi/7XW4ftbYVJDemyDu97gpDa/ZTTvX2c6x5XTTLqwgrlRFRmrd916O/enYoE7/eQ/xetysvn/76l3gsD6ssjxzPP9qQ5lfTp7ktSTlwflU+iX117aocrz8d87royvXyNlB5ThpWLpN4OKv7Qm9+xOPzi/rLvie6xrKpnVujQi/sTXXJz3X6ekJexPfydl2TeLXy7qe8Cptq7a6WBjoHvUJYd6/rn8QL0liGXGON9dtY983y66edpvondjqxXMtjp9tXVZ9pekGyIkGvLL+ocwxMbXZdRKsZcYerJ16s9RUYL+D8YiicsWS5qrhY04bkFw8NiIaWhqUXbgENzdP2uCGPWiZ5WJ5eFtpAuuxRNStS079Cx6hDbnuaXzms8tyEUoeRRa3Fq9SxOKcG5ephHo8LzrMuviflWes4B5lf1bl19pWYP8NOnDLNphy1kx1/zrIQsMzOOX4nO/HCtdnxCHa7vnR2lJ+XY1Keyfcqu2r1V0uvZl+gKLMkzSrdsdHrKD0nhlW1sVp+tXh53nSenn5/5VRHlkYPnaXrEalqH4k+5bxDvFqZ1MLSMknLMaO/umieV7ndNZZbNTVdPI/yd4ewWtpeLoX+QTHPo0gTHYL+6UBfVR41sD3VIY/r9VZXf1V21c6vzAe98/M9jM9y2Q2sox8fIL9mZZJHrKWd2OLH69p2UiZ5vMHpVTuX+J6vk4bVpZfqUNKr6rr3Y+X0su/UY1n/VNeaTbUy5JxaeWbU4jnN88vPDXqV22mlnQkcb+hfi/KoqM+YX25fqc64MSvyqmu7YrQYYYer4k4mkDaqWiPO4td54t6QOD8PLzzwtDFWNpbkAkiOxwbr6VSENSQTG6znW77IEv2rdKzSoUrXynMTCltrHVTUq7jAK3RMyycn7XQz0vQCfk5ybt2FO5j8Ks8luBQ/Ze05dvxOx1v0tzZcaCftNMlm8D2BtLp6ekInEbrpcOcb7wzRp1SemY1VdqV34h4v1SuXmFZFvaUkNtaO185pbGPV9VbEq9M/P6+qnAqy8ue0rFw8YpP2EfQt9EnyzmZMPb9MSCttJ1m87LuT5VlRFxxsmhcHOZynXWonfk5VXjGssp7zH5F6exvbYL2tMcx19fNKcZBa2UKT8nXdUtujJG0w4uc3yadC70Y7h6Kjn9/snPpwL5OyDiGwsWyL+kjzq8WrnetU6eXxOFa2sz6Nyus00TWjPo/ieP5ZV5YV123te5VN1fqnoG9algPmV1HW1f1RjbpyLdkXjgYda+dm8ZL86uosjZMxuL5HjCQt2zRPQyk3LvBGmTZOKj4e94ZUNJSENCzEKzfMENjY0JIGXnlOQz6pDXxvbIiF3lU6Vjb2EFZ0xPnxynMT6i6o/jqCRMfU1pyqOijKOtBQ7oFaXQ0yv8pzEyr02jz3FNvpkCnGKuKyGZNsp0kz7JxpJ9qM+dnxSDiPpeNuzyN8z9IplWf+vcquWhur6V2pI+k01FsCutQSr+nBOal9Rby0zGppV9VBQZpOA4l+/CrOr8gn1Z/vDXl7mdRIy6SZbpV1MUBeUORXZV9FWdfODfZU1HONpEyStKvsLGzK4xHH41eVR43qeiz0rtC/ntr5lflU6J3qVmVLI7W2PVB+/ZVJXVhV2Ra2JmXSpM4zqvXKzgk2evoJaRqN6QWS/OL3ECFtr/3Vc+17YlvxPdEvOV4rr9SWCnJdBsyvSX27/lWU00ztq6zPNL9cr/Alty8ca7iOAoleorW0zOHKfmeNIG1URSMJlVx45kzzE5hUPA3Ij6fTsNnv0Ag9wYKqhkYDy89hOSQeT8IqPHt09WOs25ezKTfyLG4QT7tBh0BqaxFUPjeBc2Pc6o6gUsfinBg5J6uD+jzSMqnp13BR+7nhR2V+fk7Vubku2TmNF/j804+xQybPtc3h+7JzjrdDjjnOTpwyL/6ukemZ6ZJ+52djeXqcOrsKPUJ7KTrMJF6QTPcQVlVvDjaG87NzyvWR5uttrHm91ewJ+syvKKeq/JM0MvLz62b2PE5a5+iTHa+um/ry5Td2NmSfH0/jZt8HyCtQXC95vnHfDPGj1K6lgli3eXhlPTtuL18r2mB6bkP/kukd41WWR414ncZ8kvySOur3Oo75JPVazqdK71y3uvT61ZH4tO/smKfXLL/it5dJXp/x3KLucx344TomNqNrTCfmm+mY1nlGE73ytOvjZtSnkbaT2vlF3kXbSeL5yaV6jseKuknqsfhOvPJ1FCjKMO0/nFQ/PzZAfpX1naaTllMG8Yq+p5xOs/pM9Y+ZJPZxDsfr2kftWDl/MbKMoMMlxHbKaHZEoSOMM0lCbJfgYLhz09kMeoarhTQ6smIsI4dLiIHQnZ8QI0A2mzNmrqV0FqhNXo8cru0LOVxCCCGEEC1GDpcQQgghRIuRwyWEEEII0WLkcAkhhBBCtBg5XEIIIYQQLUYOlxBCCCFEi5HDJYQQQgjRYuRwCSGEEEK0GDlcQgghhBAtRg6XEEIIIUSLkcMlhBBCCNFi5HAJIYQQQrQYOVxCCCGEEC1mBB2uPuvp6rbaH5vzz/Bdxh/DD/ofz3u7B/dP8vyLe8v+Qj3o3dUTrBlZqsugz/piRiOVZ7kOBsFgy9zxf9BvQfn31076soJqG637135vAwMx2HgjxUi1SU9nsG1z6PmOXN0kOobCjjoM9foYLi3Op7c764v7y6d5OXq5VNfh4Mp/GH2TENsZLXK46i+uQXeIO5jDVQsbQw5XiwaG3u7gxAVHrrJaWzwYDYZBt+EhMth0W5V/c3ZEh8tJdB2tttfifAqHa5uorsPBlf8w+iYhtjNa4nCVL+54QXZ3xwF1onemPlMSpfHuywfg4lga1tVV4XCFjrpIzwfupPMunLRMz+5igPfzPB/OCenXpZPZUJ82YUHfrhBGHqk9hW41nbpCmkVwJM2XPINOpBXC+suzRtU5aR1k4VHyk9P0inrwMo/6Z2VQVfYZNXu6e0NeoZ6xOZ4f0vG0U/2Leg+Bnm7jwBKOhXNi/PzcGtiUpFuRT8Hm623a8cfYUY8/3k4++WSbMmOKHf/4k+3SDfnxnEGXTWJvdf1lZR3PjQfRtVyGQZrm4ekPttyz8Fo65XgB6jPoMDHXrSrNWpgPgLUyrrM9/96YX6nuC5J0imOeDsc8vxx0De0ju278WBq/nFZVWKZfLOLYNprbnUFZZnEa6y3X0dsYelTqWKOxTgOcU9Yt2uXXa8ir1/uLPE3OifVWn0+jHaSTlT3pNrczUPRJIX7eLl03zsubZfG9vhyzdGvljk5ZOcU+rziWnFfZBzpV59bqwo/nSeYss0snn2STp5xskyYdb5NOPMlOPGayzducHxZijDHiDldP7IDqO6Zax8a1nF9UPmXP1+RCjxdi4RxB3gGnYXQIDRd0cvEWcfNz68LQM+9sYgeRnYMOjZ2An5+kE88vn4NKtc7C7SnsCqQdnFM7Tp5eLhW6J3nWSM4p4nq88C3XJU2nUl/KnAGlyCvNtwKvo5hXkn9aZkmZ1ga0pMybpJ+WVx1FntX5OJvnTraTpk2xk3c6yibHXnmeTd7pEJtyfXY8Y/Blk+rTWH81+3tD+eFYBrcx12k4edTiVVHES8uvqizTa6NoS5Cnn56Tl2uqV+17Rfzie1r3KYndRd5ul7fNBHQt6ZLGb0yr1Obyc2PZhPKv9Qm1Y430X29+/RS6JjrW6qpGWnZ111QeVjuHPGrHPc2iXRHmifv5hd0xMLfJdU3Dqqn1SUm55WnX1XOenutaO89JyyVNs/l5Nbud/s8NXxra8ua5U+ykc5YFv+scOz5c09POudSmTbvU5ufHhRhrjLDDld+5pJ1HIL346juB/G4oSDzuHQ3n+51SlHBx+rF4atoROUnn09DZp2G1i70unSL9tBPL4xKvTp/Mhppd9bYgpNV/B5SGVejZJM8aFXoWnxxOyjCPV1kPHq9IK4vn55Z1rpVTk3IMeNr15ZPHrdO7nqoyinieTfKpY94UO2SncBfM9+un2VGHTLa55TviQZbNYOqvq6cnDNqh5HvCzQazFm7bIPNIw/ju51TlFcOK8oe0XHPS46kOUULcuvMz6sqxKOO8nirzq8g3J7Uh6wO8vgfQtZxvDCqnVd2OingxTsZAZVldbxX2JTpyXlVaHlaUY+U5SbuvOl5VFiGssD8KOiXpxKjN7Kwv7wbdyIN0yCM/sdCFY55nFtBYLoH6Nswx1zOTwp5IE31yW0mjPn6NzXNPsZ38mhZiDNOyTfPpBVRcyAG/0IoLLoaVHK6i801Iw5JOokbSERVx6zu5hk67lGambzin4Q6yvpNzquxKqT/ezyCapl+leyVVeua2pXbxPU+nUt/cbo41dHhpOk5RTml9l3TJv9fyK8VtYleqXx3N6qb4XmPZjONspxMvtLW22eZOPsQOmTzDzjk5cbqGUDb1YY31h14sb3cTGR3D96jnMPMoqCj3Il6SXt13pyirQEU6DeeH46Tt59S+5/VUmV/9tV6Q5k3ZxLy9vivOKeJk3+vyrUyruh152VTWUVUZkF5VvRXpJ/kkelTVVRpWvqayMNeppm9lmuhUSyg7XqV7mk5KRdxan4Q9Zd2ysO4Qp7l95fJI0inCaufV8qui+lwPL5Y8EzZff06c0Zox5RDb6eRLbYMts3NOmaEZLjFmaZnDlf3OOptmnZLfCTGtHy/6pCOioyrulvIOpgjjAi11LuForSNKOp/GcxI9006qyJt0Qtw8bz+MDYU+DQ5F/FE3I5WFh7Ty33QoRVwnlgHlUa17VZ41qvR027Kyj+eF3+wd4XCzeqh1wKRT07lyX0hd/ESnaEuqS5pfGjextURdeabkZRuPVeRTY7NdevJONmnGsvh93uTH21HHTLKTLuS3M4SyQdc8r8r6y49n4en3oZV/0QbyvJqVu4eTTn/x/BqCquuo8fxUX6+bWj1Vx0/qviCxgeW6eL6nU3EOuoZyzdIut4+qtNI06vWr1QE6JudWlVGednW9ZenHciP9pDzT+nPSsP7bTQjL9U3rqDi/siwIdjtyfdJ0knwq7Sz6pMShKeWdnue6pHnWX+t8klZ6LLGhsg90qs+FqEd95Miyc463o9i3NWmSHXfcyTbllBNtim/gSuwQYqwwgg6XGF3SjleIMYgGTRHAwavwt4TY7pDDNWaRwyXGOHK4dniKmcT8txDbM3K4hBBCCCFajBwuIYQQQogWI4dLCCGEEKLFyOESQgghhGgxcriEEEIIIVqMHC4hhBBCiBYjh0sIIYQQosXI4RJCCCGEaDFyuIQQQgghWowcLiGEEEKIFiOHSwghhBCixcjhEkIIIYRoMXK4hBBCCCFazAg6XH3W09VtvfkvC9+6J3ZZT1840tNl3bUDzentti5OGIi+HusaVILtp69vMP+D3xfi5V/7JZRp2/5Zfyh5N9oz6DYQTuTUQcdvBYNth0Okt3uiTcyvieaUr6NBMAx9s3Y5lLwG20YzvP6KemzQcRh2jiAj1r7GUF80+HYy2Gu9Kt7g+wnqYOJEromJ7bvWhRhFWuRw1Xemg+7ctjeHa5D2DL7zHxsO1/AHs1oeIzYgDodhODADM1gHYxiOyFD1LeIPPq/h1kdxXoOOw7BzBBmx9iWHaxDxKqDcinPb2a8JMXq0xOHq7a6/i4+dW3d3djfjFxYXXH53U9z1Jx1CNhuQHEvDuroqOrlw0Rbp1e6YyLucx8R4EH3zeHUXP5BWZks8v4ifpVHTLUieUS2fIDGtLH1+E6XKngzXO9EvTydPOsE7pixtyqoxX6jl7WHEy8qW/MplkdNv2ZB3d5B63RrLomRPDvkX6dXFr1HYEsJj/HKbKdJOw2pUlkXSpgodCAtpRz1CvN4k3wjHQ11nablTUJU3ZRLKNYTVm1Jd/vXnQlWZcq5fR3kaSJ5BvzbGsm1sR25/Rk237t4sr+48nyJecm5mf1Wdcm6SV64LOqOql3VdmTfoEcou16U41k/7iOeEvoXjNXtLcZOwKntq0XK9CtuSNNA11n9qe5Ck7oq6wYYGPRMa9KmVf/9hNdC1zpaYX3JOoRftKf9OvmW9sMvb/YDtmu98Nl7zNaqO+7noV2tb3b2eT32/EKnSVYjtkBF3uHrigOAXc0YcJPILqnDG8qUjaOiU6y7A/AJOw4pOJ4ULOs/X4/KZdkCejncmofPpJl5DetiS6dkb43jHy2fQ2xUnLE8/7RQLG92eJF4V9Z1/2hHWl2OWDh1crdOqyjcNK767jcH+aHcIS+NF+i0b9PG6y8u3n7LI7KnhYVXHatSnUW4zdecWZVuD4+WySOMV52NTng8DZ3Yc+/LyLmzOvnO8Ou/knIRUj9r37Pqoj5uUKd+jTh5viO0s1FfR1mOQp1tBoT95lQfKEJqsHVaWfU7NucqukZ5wnl83Hr84r8jTqcXNvmdlk+rdmGd6TnVc16mWZlpHte+N8ZPvQVev/zod3Iai/WdhRVupoFGfpF6T66hmV60eatTCamVe1caSc1MdHXT1Os7tqrSvSIfyGkCvhj7B42FTbjvHknKvawcca0hXiO2TEXa48sGr1AmlF3Wtk8zixzsrvzvyC57z8/BMwsVadAacWtGZpB2CH0/PifllHV7s3BgkuMPvzmY46jqBQNYx4Jww2xIGk96kY0j1y8MqbUzy57ifU1a9OLdkVzqgZNDBkUYtvCrfuvOKNDkXh5iBMXwPYelgk9Ff2VSULwxQFk4tzG2oxa9Ry6Parvw8l1ImVeegX1oH8XgSVisrbx8xsDgeToq2VuedlElCdfkn6Rek5/vxej2K/PoplyJeqgv51umaUNiX6pTqktRR3tbSfAvIN7QR2klf+J7NYmTpefyqMs+oL4/MFsI830yan1MVd35dmpG0rQa8zDK96nUodEx0raz31JZS+vWU0s8h77r06uL116Zq5VvdxpJzq/RK9PZ66b9dp7pU2VKVn4cl8VNdSu2gzg4htnNatmmeC7p8cYNfYOmFVgz8fjFWdRali7ZhEKm6+PlMw/Lv5NcVdHU9WD5wXQrII4QzExT1Ct8bdEvSrLIxnldOOD0/p3ZusCHvUOu/O7mNA+RbLvvsO/WDraQZvmN3Q/qk0axsmpSvZ95EJ6cqLG0DGbU8mtlVTiOl6pzwpSiLhnYWv7oOSful7msJxbjVeSdlkkDc6vKvqM+0vmNaebxBlG3ZxjTfGhX5Fvanx0r5xzC+91P2Ua+QJwfCd2Zevdw8fnFeUuYZtbSz71mejW0iJdWtOm5Rx/E7x0tlnH93verjN7aPpnbXTqroi2o06PObpByKc1O7vB5KoFOpfFMds+/JuVV6VdhVaV+RTqnsGvRKwooy8bDEplJ5FfYLsYPRMocr+511NulFnQ4SflfFckS8CJOLkY6quOvKL+oizDv5Oqou/izvLJ2kc45557qm3+ugs/HOMv2e2ZXpEe7qc5srbUSPeF52foMeTtSholwalKrZGO0KESrzrdMxLxNCOSc9PzlW0LRsqsq3uizq7MlxPWO+uX2NA1WeXlO70nIsz37U8oCqcxiw4vGgX62dpWVW0z8ObvG8xP48nVreSZnUUVX+SfoFnB/acp5mprvHS9MYoJ0V9mTncDy9fsrlFBLJ22WqU82WWh2FvEIeXmaNbTfLL83b83I9C32TMs8gfrA9t7E4luvmurutGam+gcq4ST35yVH3+vRq5Vgdv6ZrcjyIh1f1RbW2lFJOP/1NvVLm1fVQD+el6WflnelQi99vH5nYVWl/kOy468BnuX2mJLoWfYKHJTYVxwKldlBdZkJsn4ygwyWEGBrJgCXGPOz3bPBJRgqcllFvK2qfQowkcriEaBsa0MQgyGfyGmeYWo3apxAjiRwuIYQQQogWI4dLCCGEEKLFyOESQgghhGgxcriEEEIIIVqMHC4hhBBCiBYjh0sIIYQQosXI4RJCCCGEaDFyuIQQQgghWowcLiGEEEKIFiOHSwghhBCixcjhEkIIIYRoMXK4hBBCCCFajBwuIYQQQogWI4dLCCGEEKLFyOESQgghhGgxI+hw9VlP10Sb2NUTvrWCXutuWdpCCCGEEK1jzDhcvd2tdOaEEEIIIVpHyxyuzEHqtm7CJiLd1ku03u74u7s7+4zf44GSw+bxwrG+nq4ibpGOEEIIIcQYobUO18Qu6+FHX491BWepix+5IzUx87JyZwonqrnDlf1MjgkhhBBCjCFaPMPlDlKvdZccLnekar/lcAkhhBBi+0QOlxBCCCFEi2mbw9W4pJifk3/3fVtyuIQQQggx1mnfDFfDpnmiJWH5cT9W2zivTfNCCCGEGFuMoMM1SEpLhUIIIYQQ2ztyuIQQQgghWszoO1xCCCGEEDsYcriEEGOYzTZvyvE2ecpkm3TShbYsDxVCiE5DDpcQHcFm27A5/yoGz/XT7Kidpti84Gqdc/xRNu36ELZ5g8pSCNFxyOESot1snmdTjjvRzqmbngkOmLyGgbl+ih0SHa61weHayY4/Z22T8hRCiPYih0uINnP9tGNs0ozcO9gwz2ZMm2wnHXOI7XT8OcGNGCRrw3mTT7KTT7/eNuRBI0Kr0t2wzC6ddpKdNOXSfpYBS07nhrk2ZdKJNmXGFDtx0il2KYWz+XqbcszJ4fuldvJOucNF8NzJ9viTLx1ZnYUQYhsYOYcreYdWIfE9XL3WPYwXlmYvQe2yGTO6BvdEY1/fkPOohP99HPYjlIOzlXeKkYV/jj6hrJoqyfvUhv+us77mCQ+SAcpwpOq5U9g81yYfcrzlfkLBvCk7Dcrh2rx2rp1+8kk2eQZzPCNHq9K1DdfbhVOCozUtOFrNvKEmTue8KYfYUXHNECf1KDtkyrzwbbMtu/76kNY8m3ZMvqQYmWdTDjnO3I8dGL8mtq39bxstyjv/L1t/2XQrGPm+bBhlEcag+K7HVtJkfMj6vVa2nRakPQrtQtQz8jNcDQ1yOA7XUBvXCDbGUXS42kXL8m95h9fKDm0g1tqFJx1nRx1znJ108sl28unT7JTw/fRigG9k8/Wn20knTbHJJx1jkyYdH74fb8eX17lYEjtqmpWTGcjh2nD9hTblpJNsyoWDmXlaZpdODs7TlJOjHpNOPMlOPGayzatYsRxKumsvPMmOO+oYO+6kUB4nn27TTgnfmxSIO3Annz7X1g5ypbS+DJbZjONqM1hrzznedjpuRghdZucEe6YFJ+7EkHct6Q126ck72YkXDs5drF0T7WxjLcp7FByRHdrhKvJtZdtpQdpV5bX5ejud6z/0F8dMmmTHh+/Hh2tQq/Mjwyg5XN1BslkvP5TNYGWzWOU65+L1GbL5+YXc1xMah7/J3j1z985Dw6nNqCV4eJS8sVaFxeA8rKurwuGisfvxPI/KdHKHi2OeBrqW9PLOKf0s0irihrQawhKSMigumkSnLPtE7yKep5uVe60egsSTahd2pV5JHvUXay2v7l7ySNIo0s3rukHPlLwMU/s9np9XPp6Uj9vT1R3aS554aofnV9eemtqUMH+GnThlmk05ikGf7odN2v0N6DgCU2xu8ADmTQ6Ow8kz7NIZ02zGvHo3JjoOFY5Vvw7X5vl2zimTgj79zBIlbJ47xU5C52Xn2PE7HWXTzrnUpk271ObnxwuGlO58mxHsmzblqKhnLBFsOfHCCp032LxpJ9qkU2bYvMH5P5H6MphnU5Ilw1huce9Wczj/kCn9eMQF6TWRtf9ub0d5e6hqQzWqrrPadVRr01k6xb9shISK9lqcE/qfPK2iLZb7OwhttivEbfznjeS6iHFrv2t6l67FXDd0yeKU04DExuJ6q8VDl5pqebyib68qnxTKpzxG1MqvsY+iSKr7pph2LK9y/+a6JCTX/fDHh5pt2f8BN7adyvpz0vGh+F5VXl4etXIJWhXtqt88ILErO1zVLriGT7QpWacVrq+TbcalM2zajHlamh8hRsfh8sbux+riJI2moNaoYgcVTwkNPW/AHlYjbYQ10uWt3u6kg8lPLtJJ9UmOO+W84/eqdApb6vUvLrwcj59+ehzXs5ZmDGxIo9Y5el6Uc3Ihxu8c846mVs61tNOlxf51d72Kcqyi0LOWb28YXBhgavpV6ZnieiTHivqp162hfJJ65HhWP55eDO3XtgFZi8NyfLYZe8OFdtJOkwaxZOUzM9URh+VwOcU+qAvt+kE5XqeETnRyv05KZNDp+kb1WCB24Uk71faiVbLW5s2YbCedfLrNHcQ010g4XDvFZceBSa8JBrvse9IWK9pQjVp7r52TxqudX2uXST602+IcT6d2fto+Cz0r+imo9QvJ9376D248uD4zR9Ov2cY00uvFv9fKLDmnsm9P7UrL0glhhUNULr/wrYhcX44N1y92cqNVpF+VV42RGh9ivvFkdPayq+VdWX8F2F7ukxKbG/o+/4Sh51H3vaJdOMtmHFfcSImRY3SXFP0YjTb3rjPxxuDUGpU3nvpGRKPJz41pp40wJYnnF3TSyIo004bXoD+Ha405taEhHfLLbc3C0Cs5N6dsU+38Wl50YHVl5BEiFfaW9M7Sqb440/ywo8ijVJZVesV8KnUKlMqkq6cndOahiwidek9vOI/0K/XMf0Rcz5q+Mc94Tk23yvKpqsdU3yhZfnVl0J9NCdFhOWRKXP5bNmOS7TRphp0z7USbMT8cWzbP5s5blixpLbO5p0+zGedMy2aVwknMNE3m7jEhplnRsQ3K4XI29+/IbL7+nDijNWPKIbZT3Ei+zM45ZUbjDFeZAdINytspOx1icRJp2QybhAMa7D2RAumXDTb/0mlxufXCfjy6+jJotqTYHGYWjys7gEV7r293tfZQcc00aUM1qq6zga69gc5BVfIhLM07n/FI23pB/flFnKq4lEN3j/UEYYa3NitdnUbddZpfW2lYYRfpJrpmfXuVrSlpmMdNzknTbChHDud6eLwkfeL5uR6/Bjbn6W7D+FA7XmUnYZ5HJuW6yJxV4tWXZ3FOzK+iXAabR0nntLzKuiybe7pNmxH6i3AjFfdLhmt8yuS5Sb8mtoX2OFxVjbaOWqPyRp9eYCm1TskboZOG8b2fCyrVJxwvD7rES8+J36vSKdsa8qzdbdXw+OVP8IshDauiuKOM3zmHziO5EPvp6Iq0U7ujvn7xZudU6VWjoszTC5hyDPZ3e1lRFvFYlZ4prmdN35qe1boVVNZjkk5CdflW2JQw//Rj7JC882H57JBjjrMTp8yLv+fPON6OefyJVqwwbp5nkx8/Ke7bmjTpCDtx8mQ7serFnMFROa5u1onZpWl28qTgbBx1ok2eNsNKq5D9EByZ61OnLwNdj2Lf1qRJdtxxJ9uUU060KVUbuJpSnW4oEDvmkMlx2TQuVx5yjB134pTKvWHVbLa1188PqVdTdjrZNO9LhNn3/mavsiXfyYOb4EraQ9U1U92GalSdk4QV19ZA+RDm11nteOO1F0ivtYT6fiH/XhU36hSuSSKE793hu/d7VWmgd9rf8T29hopz0muwoMrWlBCW9glp+aXpVZYjeeflk9uZ6lrQoFeqU1LuSVkVeaTnFv1KQnFOtZ2V9ZcS0wxOr5dBokMtP087ySMpj/7zKJVvVT6RzeEm5fE2iX1boa844sTJNjn0GxdqmmvEaI/DRWi4QAuP3I8X1BqVN/r0AuN7cW6aXimdWrxwbmiQMWrSyNI0C328E6oDffx4nkdlOomt+TkNSQU8fvkTahcOF0aeZ5D6CwOS47WTi/hZUHJxprrFeOST2hUu+NIFXaVXWm8NOlG/Rd6Zfo3f+VnWM8X1TPQttxs/nqeR6lJVj9jh8Xw2td42P5amM0An2QBLaqdkzseQWGYzJqVP14mmTmf5tRD9DQQs+bozOBjqronGa6aqDdUY4BzaYhKWtbuqcwgjbn1bDCfVzbDF85P+p57kuqg18Iq45OV5pN+hIo08TgzLbUnjVe/h8rhVtqYQFuzOz6kvnzRf76Mokoo+s7AzOyebtcvPbZiVzNLwY9s0PhT9XhM7q+qvjlzP4kCiN45YqQyr2tWAecT2XTrWtA1VM/Q+UZQZeYdL5HDR+MUnRoXEMYsdTGPPNmjYezaks6+fZsdPSZ+SGzyb502x44byzqjNa+36uXNtbqU0nzEakFalG86cX5kmcv2gn1ocCtdPO27QTyiKdpM4J0Jsx8jhagnZHcpQ7h7EyFC7ux5bd2PLLjzFJl86fJdGJMyfYSdPy5Z6xVhADpfYMZDDJYQQQgjRYuRwCSGEEEK0GDlcQgghhBAtRg6XEEIIIUSLkcMlhBBCCNFi5HAJIYQQQrQYOVxCCCGEEC1GDpcQQgghRIuRwyWEEEII0WLkcAkhhBBCtBg5XEIIIYQQLUYOlxBCCCFEi5HDJYQQQgjRYuRwCSGEEEK0mJF3uHq7beLEiTXp6rG+/FD/9FlPV7f15r+GRci7q2dwuQkhhBBCjBYj63DlzlZ34TXhRA3O6err6QrnbovD1WvdIW85XEIIIYToNEbQ4WriXPX1WFfuhGVOVZdlPlHmIE3kQN2sWDj+m9xx666FZ05cKY/CwcvD87gxTSGEEEKIDmEEHa5mM0y18KYOV6BuhssdsIZjzRyu+EMzXEIIIYToSDra4SomqsozWXK4hBBCCDGG6IwlxRhNDpcQQgghtk9asmm+5vT04yDljtjQlhQ5FMLz71m4HC4hhBBCdDYj63CBO0sudTNe+awW0t1dN8NVO6+/TfNpvNrx7Fju3HGsiCyEEEII0X5G3uEaCdKZMCGEEEKIMY4cLiGEEEKIFtOZDpcQQgghxHaEHC4hhBBCiBYjh0sIIYQQosWMuMOVvbZh8E8L9vUN/TUOwzlncPRad/k9Yikh31F56YTn09vOP+MeoCyGSf2rPJpDvKHt4RuGvnk5DymvobSBov5ct0Ydh27nCDJi7as1bUUIIbYnRtThwtlKO/A4uPY3mgynw2+bE8JrJ/L3hLWUJJ/t0OHq7fYX3/ZP6x2uWvzB5zXcMvHzGs+XwyWEEDsGI+hwVXW6NechHViyQbf23qzsDfLd1p3Pjvkg0P85WXhGLbz23q+gD79z8fikWQ6rkQyM5XPD4BR/l48nNvvsXld3GMjyxKvy6+sJx9MXwqak+TAgklY8v+bs1WYRK5wXP7/unKRueOFsVKS+zLt73SZPk3O68rxrujfmHdIJdUO88uBdsz2PW+iWOq4D1H2VPf3amLWFmI6/XBdxA3IK3UJ4zMvf+ZaWk5+b65+e4xCW6Uz5JXYSJ3wWx2K6/lkjnh/KuS7vmFaedyk+1Lef6ri1ekrKx+O5/oV+Ta6fvP4zU/LjRb0n5UG8Cj2FEELUaKPDFb/UdfjZ8cGeU6M26KXfGWDywaZwMlIda/nU8ONV51brVehTxMuOZ4NadX6pvo0keoW0fQAs8kzyqU8/h3MSPbKvSbw6e/IyJyy3t6ZbUgZ+fmXepFMbhAuIm+aZf2+c4Ur0iN/ryzhdPk7bQLWNwXFLdKkdq6JWJsTz9Io8kqXD+jxymxzXJdiI09YdTiZ+LENvG8V5jecXcfPvWVKJ3kUaNarOiXjctOzzMBwmj1d8z4+V08u+B10brgGosCXNTwghRCUd5HD54F473v85NYpjUAwOpQGBMD7jXXrj3XpGk8EkplfTsXa3nwvHU70GyK9ukGwgKYskzeKcEFaXd+EU5VSdM4A9tbBAcX5an3ncyrzr664g0SPNq66uIvXnN9Z90KPILz+3mY1pnEhybmGLU7MvrY+afujl+bqzkpaJQx7d1tMTpC98DxHLDk3tvMbz07w9fmX7SqjXtyJuXdlDqY78eJFfUmZFW0h0DfHq8qDe0zZTYZcQQoh6Rm0PV22QoPMvD5xJWDI49H9ODeJ5WO17MghUDSKV+PGqc6v0Sig5LZnd1flVnl9Qyye1tTinbqCroOqcVI9CtySfku5F+RXOXH5+Zd5JOinETcsw/17tcDWr+zTtJF5/Nqb5JjTmWyuTtD48Xhq/cKCSc2pkenVFPcP3cJ7PFtb09PMazyfvsi2pPlWkxyvjlss+RKjZkNiT61fWoV7nGFhR76XjJbuEEELUM6IOF9TdcaedNJ1yDGdwygezPCwbWAnPzvPOv/9zsigZnJ/nWXT81QMGA0qhX+FQOBUDY3JutM2PF2nU9C1sx5Z+8qsNkuhd1iHJp9KxSPKJeeV6OgOdU+iW5J3YWDufMghx83ya511tA9RsT52X2veM6rp33dM0usO5UY9KG2t1Fs8JgbVzg7gBBXmbyeP54UK/kIefy1Jhll/tnJSYT5q310ldWRKWtKsc4ve7hyuI2+qk+jaLG/WIYV7eSbyasfV2cSzVIdG1qs0VecT6q7dLCCFEPSPucA2P5oP2mKHktDQO8FUEu7t39IFqO6h7IYQQYgDkcI0gtVmA8iyOaI4cLiGEENs/HeJwCSGEEEJsv8jhEkIIIYRoMXK4hBBCCCFajBwuIYQQQogWI4dLCCGEEKLFyOESQgghhGgxcriEEEIIIVqMHC4hhBBCiBYjh0sIIYQQosXI4RJCCCGEaDFyuIQQQgghWowcLiGEEEKIFiOHSwghhBCixcjhEkIIIYRoMSPocPVZT9dEmzixXrp6+vLjrabXukc1PyGEEEKIwTHyDld3b/57tJHDJYQQQojOZHQcrt7uONvFod5uZr66g3tUmhHr6gkh+fGuLuvKw7t6eqIjFePEtDPHqrs7SxPJskwdrux7dpy8Mvp6uopzPD8hhBBCiFbT8iVF978yRwvpsoZJqOiQZeE1h8wdpNxhinH4njtTecK1ODWHK6aRHo/OVeqQCSGEEEKMHqO3pNjXk81aJcfrZpxShyuffao5S4GSw1UkUwrv6plf4fhlTlt9flmYEEIIIUSrGSWHKz+WLxXGKIWj5N+H5nANdoarmpLTJoQQQgjRQlq+pIjjU3OK3EHCucodJyRxxAY9wzXoPVx+vKSfpyuEEEII0WJG0OEaLTQ7JYQQQoixhRwuIYQQQogWMwYdLiGEEEKIsYUcLiGEEEKIFjNiDtepp54qkUgkEolEssPJYBhRh0sIIYQQYkdCDpcQQgghRIuRwyWEEEII0WLkcAkhhBBih+Tyyy9vmZSRwyWEEEKIHZIqx2gk6GiHK/srn1a9qDT7u57s73yEEEIIIXZQh6u1yOESQgghRD0NjtHmTbZx4ybbmv8cLh3rcMU/oo5/Fs2fVeeB8a95wu8e//NpP1YOr/9Tap8hi2nyI/6Ztaefi/7vRwghhNjhSR2j1VdOt6lTT7NZs6bbGXPX5aHDo7NnuPp6rKvB4QrOUVePEVQ4UKXwuBQZvzdxuCKa4RJCCCFEPYVjtPk6m3XqLLtuc/YzsvpKmz51qk1DzrvZNq+7zE47LThj06bZ1Gln2Y2bVtgl3z3NLsM34/xpF9jN2Zlj0+FqdKDqw7MZrO4QKodLCCGEEIOncIyiM3WZpfNaN593qp0V3Yib7YKp023u4hBn2kW2JIQsvGCqTZ+70W6fO92+e8mK4G/Nsmnh05HDJYdLCCGEEDn1M1xn2LxN2U+48azU4Zpl162sOWU3B4drFtNht8+16dPOsrOmf9cSf2t7dLgyRyoLT5yqmFajw1X7LYQQQogdndQxyvZwTbVp05i9ut1sySX23XxJ8bSLFmZLiqdOs+lnnGZTp19pq+NZm+26WafaqdPnWjijoEMdrtwZwkFy6XdPVhZeHzfDXy3BBvvu7vA9dbDSzfNyvIQQQogdnirHqCkNy45bbdPGJXbZadPsvJvTzV+dPsM1aOodMSGEEEKI4TAkh2vjjXbJJTfaxvyn2Qqbd955dklvOreVIYdLCCGEECJnSA7XENhOHC4hhBBCiG0Hx6hVUkYOlxBCCCFEi5HDJYQQQgjRYuRwCSGEEEK0mLY4XBKJRCKRSCQ7mgyGEXW4NmzYIJFIJBKJRLLDiBwuiUQikUgkkhaLHC6JRCKRSCSSFoscLolEIpFIJJIWixwuiUQikUgkkhZLhzhca21NKWzN8uW2rhRWL2tt5YBxJBKJRCKRSNovbXa4llvvjz5hP3jVkTbzCg9bYJd98IP20/N/ZDNP+Jb1FnHr5aYr5tg1F//Iznjdt+zGiuMSiUQikUgknSJtn+Fat3aDLfrR62oO1w3ftzN+tCB8X2C/+eDzbM5VtbiNsjbE+ZJdW3lMIpFIJBKJpDOk7Q4XUudwXfGl4HCdb3Pe9y370/mfSGa+SrL8CvvpJ95nP/jg+bag6rhEIpFIJBJJh0jnOVw3fN++84mLbWX4vvL8D9q5/c5wbbDbLu7HKZNIJBKJRCLpAGmzw7Xcrv3+123mCUfad973dfvNDYQtsMvecYL939c/Yf/3wTm2KFG2fN6cr3/J/u8TczTDJZFIJBKJpKOlI2a4JBKJRCKRSLZnkcMlkUgkEolE0mKRwyWRSCQSiUTSYpHDJZFIJBKJRNJiaYvDJZFIJBKJRLKjyWAYUYdLCCGEEGJHQg6XEEIIIUSLkcMlhBBCCNFi5HAJIYQQYofk8ssvb5mUkcMlhBBCiB2SKsdoJNiOHK4+6+maaF09ffnv4TJS6QghhBBirCGHa0DkcAkhhBBi22hwjDZvso0bN9nW/Odw6VyHq6/HuiZOtIlRuq03BvZad/jdnf2w3u5wjB+93Xm8RGIk4ndZT0/teHbuUNMRQgghxI5A6hitvnK6TZ16ms2aNd3OmLsuDx0eHepwZQ6RzzJFh6irx/qaOUqRqpmpLH52Lj5c1zDTEUIIIcSOQOEYbb7OZp06y67bnP2MrL7Spk+datOQ8262zesus9NOC87YtGk2ddpZduOmFXbJd0+zy/DNOH/aBXZzdmaHOlxxpqnLCp8n/maWa3gOVxFl2OkIIYQQYkegcIyiM3WZpfNaN593qp0V3YWb7YKp023u4hBn2kW2JIQsvGCqTZ+70W6fO92+e8mK4G/Nsmnh05HDFYPlcAkhhBCiPMN1hs3blP2EG89KHa5Zdt3KmlN2c3C4ZjEddvtcmz7tLDtr+nct8bc61OHKHSJ3emoOUeIM+R6vkqNU+w2pY5UeH2o6QgghhNgRSB2jbA/XVJs2jdmr282WXGLfzZcUT7toYbakeOo0m37GaTZ1+pW2Op612a6bdaqdOn2uhTMKOtThCsTZqOD4RPFN8/hHXXlYl3V3h++pY5SeE8Mzh6sIy/dywdDSEUIIIcSOQJVj1JSGZcettmnjErvstGl23s3p5q9OdrhGhNKSohBCCCFEPwzJ4dp4o11yyY22Mf9ptsLmnXeeXdKbzm1lyOESQgghhMgZksM1BLZzh0sIIYQQYvDgGLVKysjhEkIIIYRoMXK4hBBCCCFajBwuIYQQQogW0xaHSyKRSCQSiWRHk8Ewog7Xhg0bJBKJRCKRSHYYkcMlkUgkEolE0mKRwyWRSCQSiUTSYpHDJZFIJBKJRNJikcMlkUgkEolE0mLpAIdrra1cvtzW1YVJJBKJRCKRbD/Sdofrpivm2DUX/8jOeN237MYkXCKRSCQSiWR7kQ6Y4ULW2m8++CW7tiFcIpFIJBKJZOxL+x2u5VfYTz/xPvvBB8+3BWm4RCKRSCQSyXYiHTLDtcFuu/gTNvOKxnCJRCKRSCSSsS5tdriW27Xf/7rN+fqX7P8+MUczXBKJRCKRSLZL6ZgZLolEIpFIJJLtVeRwSSQSiUQikbRY5HBJJBKJRCKRtFjkcEkkEolEIpG0WNricEkkEolEIpHsaDIYRszhEkIIIYQQ1cjhEkIIIYRoMXK4hBBCCCFajBwuIYQQQogWI4dLCCGEEKLFyOESQgghhGgxcriEEEIIIVqMHC4hhBBCiBYjh0sIIYQQosWMmMNV9eZViUQikUgkku1dBsOIOlxCCCGEEDsScriEEEIIIVqMHC4hhBBCiBYjh0sIIYQQOySXX355y6RMxzhcfT1dNnHiROvuzQNGlD7r6ZpoXT19+W8hhBBC7OhUOUYjQUc7XK1FDpcQQggh6tnhHK7e7olxdmvixC6r+US91s3vnu7SsXK4z4oRXpshi2nyo7cWr5DWTKMJIYQQYgzR4Bht3mQbN26yrfnP4dLZM1x9PdbV4HAF56irxwgqHKhSeFyKjN+bOFwRzXAJIYQQop7UMVp95XSbOvU0mzVrup0xd10eOjzGpMPV6EDVh2czWN0hVA6XEEIIIQZP4Rhtvs5mnTrLrtuc/YysvtKmT51q05DzbrbN6y6z004Lzti0aTZ12ll246YVdsl3T7PL8M04f9oFdnN2phwuOVxCCCGEcArHKDpTl1k6r3XzeafaWdGNuNkumDrd5i4OcaZdZEtCyMILptr0uRvt9rnT7buXrAj+1iybFj6d7dDhyhypLDxxqmJajQ5X7bcQQgghdnTqZ7jOsHmbsp9w41mpwzXLrltZc8puDg7XLKbDbp9r06edZWdN/64l/lanOly5M4SD5NLvnqwsvD5uhr9agg323d3he+pgpZvn5XgJIYQQOzypY5Tt4Zpq06Yxe3W72ZJL7Lv5kuJpFy3MlhRPnWbTzzjNpk6/0lbHszbbdbNOtVOnz7VwRkFnz3ANmnpHTAghhBBiOFQ5Rk1pWHbcaps2LrHLTptm592cbv6SwyWEEEIIUTAkh2vjjXbJJTfaxvyn2Qqbd955dklvOreVsZ04XEIIIYQQ286QHK4hIIdLCCGEECIHx6hVUkYOlxBCCCFEi5HDJYQQQgjRYuRwCSGEEEK0mLY4XBKJRCKRSCQ7mgyGEXW4NmzYIJFIJBKJRLLDiBwuiUQikUgkkhaLHC6JRCKRSCSSFoscLolEIpFIJJIWS9sdrjXLl9vKXNYk4fWydhBxJBKJRCKRSDpT2uxw3WC/+frXbQ7yjlfZnKvqlSvkii/ZD751sV1z8cV24/KK4xKJRCKRSCQdLG2f4cpkuV32wa/bnxrCcwkO18wrKsIlEolEIpFIxoB0hsN11dftjDnLG8Ndbjg/zoLNfN87bM4Va6vjSCQSiUQikXSodIDDNcDsVioLfmTf+9JV1cckEolEIpFIOlTa73Bd9XX7vx8tqA8rycorvh9nuM543yfsshuq40gkEolEIpF0qnTADJdEIpFIJBLJ9i1yuCQSiUQikUhaLHK4JBKJRCKRSFoscrgkEolEIpFIWixtcbgkEolEIpFIdjQZDHK4JBKJRCKRSLZBBsOIOlxCCCGEEDsScriEEEIIIVqMHC4hhBBCiBYjh0sIIYQQOySXX355y6TMGHW4+qyna6J19fTlv4fLSKUjhBBCiLFGlWM0EsjhakAOlxBCCLGjsuM5XH091jVxok2M0m29MbDXusPv7uyH9XaHY/zo7c7jJRIjEb/Lenpqx7Nzh5qOEEIIIXYEGhyjzZts48ZNtjX/OVw61OHKHCKfZYoOUVeP9TVzlCJVM1NZ/OxcfLiuYaYjhBBCiB2B1DFafeV0mzr1NJs1a7qdMXddHjo8OtPhijNNXVb4PPE3s1zDc7iKKMNORwghhBA7AoVjtPk6m3XqLLtuc/YzsvpKmz51qk1DzrvZNq+7zE47LThj06bZ1Gln2Y2bVtgl3z3NLsM34/xpF9jN2ZlyuLJgOVxCCCGESByj6ExdZum81s3nnWpnRXfhZrtg6nSbuzjEmXaRLQkhCy+YatPnbrTb5063716yIvhbs2xa+HQ60+HKHSJ3emoOUeIM+R6vkqNU+w2pY5UeH2o6QgghhNgRqJ/hOsPmbcp+wo1npQ7XLLtuZc0puzk4XLOYDrt9rk2fdpadNf27lvhbnepwBeJsVHB8ovimefyjrjysy7q7w/fUMUrPieGZw1WE5Xu5YGjpCCGEEGJHIHWMsj1cU23aNGavbjdbcol9N19SPO2ihdmS4qnTbPoZp9nU6Vfa6njWZrtu1ql26vS5Fs4o6FyHa0QoLSkKIYQQQvRDlWPUlIZlx622aeMSu+y0aXbezenmLzlcQgghhBAFQ3K4Nt5ol1xyo23Mf5qtsHnnnWeX9KZzWxnbucMlhBBCCDF4huRwDQE5XEIIIYQQOThGrZIycriEEEIIIVqMHC4hhBBCiBYjh0sIIYQQosW0xeGSSCQSiUQi2dFkMIyow7VhwwaJRCKRSCSSHUbkcEkkEolEIpG0WORwSSQSiUQikbRY5HBJJBKJRCKRtFg6xOFaa2sawiQSiUQikUi2D2mzw7Xcen/0CfvBq460mVfUKyaRSCQSiUSyvUjbZ7jWrd1gi370OjlcEolEIpFItltpu8OFyOGSSCQSiUSyPYscLolEIpFIJJIWS5sdruV27fe/bjNPONK+876v229uqFdOIpFIJBKJZHuQjpjhkkgkEolEItmeRQ6XRCKRSCQSSYtFDpdEIpFIJBJJi0UOl0QikUgkEkmLpS0Ol0QikUgkEsmOJoNhxBwuIYQQQghRjRwuIYQQQogWI4dLCCGEEKLFyOESQgghhGgxcriEEEIIIVqMHC4hhBBCiBYjh0sIIYQQosXI4RJCCCGEaDFyuIQQQgghWowcLiGEEEKIFiOHSwghhBCixcjhEkIIIYRoMSPqcPX1dNnEiROtu7cIsK7wu6unLw9oDucW5wkhhBBCbEe0xOGaOLHbou80WIcrjyeHSwghhBDbIy1yuHInq8Hh6rXu/HgRpyosPy8Ly503IYQQQogxSgscrm7r7s4dpTqHq896ukJ4V0/4Fujtjg5VnNWqm+HKHDCf7eolLT9HCCGEEGIM0hKHyx2tiV1dNYerzqmC3AEjID2WO2L1olkuIYQQQoxdWuNwhe9xZip3mIbjcNXiCSGEEEKMbVrmcPnSYOFwDXFJMTpiqVMmhBBCCDFGaaHD5b/d4YKqTfP14TGsbllRy4lCCCGEGNuMqMMlhBBCCCEakcMlhBBCCNFi5HAJIYQQQrQYOVxCCCGEEC1GDpcQQgghRIsZOYer6oWl8RUQvdY9jDfFZ+/x6rLiQcYW4E9RjuxbJ/qsL+rMKy2G/oRlodO53clTnP3h+Y0O6Ke3dAghhBBDY+RnuHinVt2IPByHa3jOylDp7R55h67mkAzPhqHqNNoOkBwuIYQQYuiMksPVHSSb9fJDtTfRNzoYPssTZ8jyl6LG37WT83MRd2qSd3x5vKpznSINzkfH7G+IiFbkX+iWOU/Zf0QSx/Mq656G15/js1W1tCtm1lKdwnd/J1lX0C3TkzSzcwu94/eSHoMss+g8defhIZ7XSaprcTx3mmNYTDIpb3eoG+peCCGEEDA6Dpc7BH6sLk443jADVpsdSmd8isEe5yE/38P4dEfBz6k8N6F2HB2z/KJuqQMRv2eOTjyfsMRhKS/71fJJzilsTG2t2ZhS6JQ4XHUOZMmIKrsqw5J1R8+DeFnaJftyHWvHs+98LX9GXFchhBBCVDK6S4p+rG62BSk7Hu6MZI5AGtedEB/gfeBPnauMJucm1DlcrmOd85DqkeuY2lfhaNQckeQcT59zE32qZveqHK40j/LMYJ3jUxDy8zwKBy8Jazi3QldCK5yqWnl7Wrk0KiGEEEKInPY4XA1xytQcgEZHKpA4Ie4A8FkOqzw3odLhQreG7yPkcKX5NGEgh6ug5AA1I0sv1YXvWR7965odL5dp+VMIIYQQA9Meh4vQdIakwQkpOTjJTEo8vcLhys4ppVd1bkKlwxUgzewcP17SxxOqcoZCWHZecyfG9Wmc2Ut08rTTPOrsyc8t8osxInV55LqmNnWHPAiuL7tqXbP9Y+G8JCw7J8TzPIJEHdOyEUIIIUTByDtcYruh5lwJIYQQYluQwyWaIodLCCGEGBnkcAkhhBBCtBg5XEIIIYQQLUYOlxBCCCFEi5HDJYQQQgjRYuRwCSGEEEK0GDlcQgghhBAtRg6XEEIIIUSLkcMlhBBCCNFi5HAJIYQQQrQYOVxCCCGEEC1GDpcQQgghRIuRwyWEEEII0WLkcAkhhBBCtBg5XEIIIYQQLWa7cbgefvjhOhFjB6+v7aXe1A63D1R/Y5Ptrd62575ke7atiu3C4fJKS2V7YXu0KSW1b3uxcXu0CbZXu8qU7dwebXWbtjfb0jpzGetsL3aU2Z7qaLBsVw7XQw89FGV7qcTt1S5wW8r2bQ9sjzZB2a7tybYUt81t3d7qEdI63B5sczvS+toebEvt2B7sScGW7fX6asaYdbjSykIefPBBe+CBB+y2226rq0QXP2cs4LbxiV1bt261vr6+aF9qG59jCXR2QXdsu+OOO2zjxo3xu9s21uwCtwnZvHmzrVu3rqgvjo1F0vpCaIfr16+3e++9t6ivsWpbmbKtXpfYmdrKp8cfa7j+bs9Yv+ZS3B7aaFpnyFisK9c7tQsZq/akeL14HXl9YddYt20gxrTD5Q1x0aJF9qY3vcn23HNPmzBhgk2cONH+67/+y7Zs2TImK9Ib4X333Wef/vSn7ZBDDrFx48bZAQccYO9///tt1apV0TbijSWoA3TGIZkxY4Y985nPtF133dX22GMPO+644+zSSy+Ndo9Vu5YtW2Zvf/vbbf/994/19bjHPc7+4z/+IzqVY60Nuk3Ux1133WVf+cpX7IlPfKKNHz/e9t57bzv++OPtpptuGnN11QyvH+zFUT7zzDPtDW94g73whS+0t7zlLdbT01Ncc2OpLl1Xr8vf/va39t73vtde9KIX2atf/WqbNm1atJd+1OOORdtWrFgR+8pXvOIV9pKXvMQ++clP2vz588dkfwLojJx//vn2z//8z7Edcs2dddZZheM1lvB6oj6QP//5z/bBD34w1tWrXvUq+9KXvhRvUokzVtrfcBhzDpdfZAgVRyU9+tGPjoMAlXbOOefYi1/84jiQd3d3190VdHJFpnahL537Bz7wAdttt93sn/7pn2KH/5GPfMR23313e93rXmd33333mLALXD8+qbMrr7zS9tprL3vKU54SHa+pU6dGZ/Kwww6LM3nE6XSbwMueerj//vvtH/7hH2L9/Ou//qtdcMEFsd5oh5/97GfHTF05bhd1waDMjczLX/5y+9nPfmaTJ0+OTjKDNjcFbtdYsa0KdMdWrrsvfvGL0V5udF7wghfYIx/5yHgd/vznP69zusYC6Im+9IPXXXddvCndZ5997LnPfW7sN7GLm1Vugvy6c+lkXEe/9o499th4rT3taU+zZz3rWfE6PPjgg23x4sV1114n25XqSH399Kc/jfVD+3v+858fP3fZZZc4zqUO8lgAPb0/WblyZezrGQOe97zn2eGHHx7ri/6Tcc3tSmV7Ycw5XH7xeCfyiU98IjbCmTNnxt8IS1QMdjTQ3t7eWMnERzqVtHGhJ44jdn3oQx+KNmEDgxuDAZ3maaedFsPctk4mtW3JkiX2+Mc/3o466qh44bkNDAZ0kNyhphddJ4N+6M4MAU4Incb//d//FTYxM/SOd7zD9ttvP7vqqqtiWKfXlYOeXi9cRzj5d955Z2HbhRdeGNshNwUM1sTv9PqqwtsZ+nOdXXPNNXbggQdGe3H+CWf25B//8R9t3333jXfmY6ke3bbVq1fb05/+dHvGM55hf/3rX6MNLA3Tf+KoeLv1+J1cl15nCG3vPe95Txy8f/KTn8Q+knrkhgdn5V3velfRf/o5nQq6UfYI7ZBJBNrdrbfeGvXnk9kg2udf/vKXaFen2+RgEzbQt7/sZS+LNvzmN7+JfeemTZvs29/+dmyHX/jCF6Jd3gbHin2DZUw6XF558+bNixcVnaNfVBzj+4033hgvQrxmOhY/r1OhUbmONEockkc96lFxmQq73DbusJleZrD7+9//XhzrZNw2dD/ppJNiR3LxxRdHvakrl//3//5fdDK///3vx2OdfqGhH3recMMNsQNhBmjDhg3RVsL5pO09+clPjsuLa9asGTN2IbfffrsdffTR9pjHPCZ+R3e3i1mFE0880R7xiEfYr371q1h/nW5XFeiMPejPjRozJAcddFBctnd7kT/84Q+x3bK8mC7BdSpehwjXHbMi9JWzZs0q2ic24FQ+9rGPjTMO7H8ljONjwTb0pB/BLpwudMdWt+3LX/5yHMS5GR8LM5Poh+BE+uz473//+6INYtMtt9wStyxwXTJOEN7JNjnYhf6sZtDHM2HAbwT9+Xzzm98ctyz87ne/i7+9vsaCfYNlTDpcVMby5cvjkhSOCcuK3iAvu+yyooGyD4NZB/bRlCuw0yoRffxiY+8IA5lfbIQx48UnHQeOJrNBOJrMonT6RYdu6PjLX/4yDlosjfqd6Ny5c+3666+PttPhP+c5z4mdP3fk5frqFBtTfej0WHaiPnzPCE7Xj370o1hX2Dh79uzYkZxyyinxeGpXJ4E+6IagJ0vyDGb/+7//G+0gjMGLa484LNcceuih8Rp0R9NtGwt4HaAzdfWpT30q3qRRX9iKzWvXro3HkP/5n/+J5fGtb32roT/pNNwu7DjvvPPiEjDXHY4yYe5AYwerADiZr3nNa2J79nrsRLy80Z02xz5Q2iAz5+hMmPeJ7J085phj4p7eBQsWFPXl6XQKbhOCjl//+teL6w7nHltoh9QVMmfOnFif9CccT+3qJFK7sGHhwoXx5o0JA58tTx/CYZKEfpTlYX4jfv72wphzuKgEOj+cKO4AcEQIo+GxsZeGyH4nfnPh0YnQmfzxj3+sq8BOq0T0QT8GNO4A/v3f/z1eSISxHMWyVFdXV5x+Jey///u/ozPpF2WnNkq3i4vN78z8AmOp5sgjj4ydJjMKdCbM6DGzRxidJ/G8vjrFRnRCGLz+8z//M842nnvuuUX4D37wg9g22fvkTtdb3/rW2DaZDSIOYZ1WZ15X6MaSBs4Hd9rYQFvkGqJtson3nnvuiXF//etfRyeafWvuRBM+FsBev8ZYouEaO+GEE4prjOVUBmvKAruQ1772tbbzzjs39CedhtvFdcWN6VOf+tRiaYp+kYdUvvvd78abOOzy2SBuUr2+O9E29MEG2h+b/9mP5jem6I0TQh/DTTh2sWxFHGZPsLXT7HJdvL54qIGbbfbV+bWEs8hyMPsnsZH2OWnSpLjvlTbKuW5XJ+F2IThYz372s+tWbXx8Pvnkk+OYgG2Mf4xrbJ1hXKMMOtG24TImHS42E9Io/+3f/q24Y7v88svjXQGdBg6WD2zMOvCbzXlUsFdep1UgeuFgsIGQOzZmeGhs3AHQ6WMXAzbLbtjF4MZgyGBHh9OpDRK90Jcpfy4kZrmwlTBmFLCLenvlK18Zl3S4yHAmmRHCYUkvuE6x0fVnZo6N1Tzt5dP7OJaEYSsdIu0SG7hDZSaI5UWeqiVup9UZ+qArsx/chaIrnT1h6IujhcOFbe9+97vjAIbwHWcFW4mHjAWwl7pkcOa64zrDKcFeZlvZqMzmee7Kr7322mgXzhdl8PrXv76ubXYa3kbZA4q+PO2GvsjHPvaxGMZ1x0ws8ahzZpdZXly6dGk8vxOhrNEX5wNHij2EDNTY9be//S22Q/oOwolHODNGtNlyf9IpeDvEDrYlUC/cABBGP8+2GNohzgoOFjZws0pdsQRO3RHWae3Q6wqZMmVK7Ot9/EJfnrikXrhhPfXUU6P99P8+VvziF7+IcTutvraFMeFweYNEaGg8ns7MiO85oFHSUNnUyvQ5m7K5o2Ng4zizYDgrbBClQjupAt027lq4q2GQZmqVhoauPOrMTAMd5hvf+MbYEHE4aZxcfD7gu12dYpvbhR083UX5cyeDnoQxONPp/8u//Etcz+ei45UXONA4ngz42JbuUyO9duN24QjT2bH8SZtEPxxGNoTiMLNMw5NgOMQ+WNM26Uw//OEPx3bZCfaA24SgF50jejJTh96Efe9734thzKjyyD2dJzMkHGNvGs4ZTovPonQ62Iyg60c/+tFom8+WYxObeAmjTbLMwbIxdc5xyoLr8Jvf/Ga8Dj2tduN6INjAfi2uMWbL+Y1w3dFPcrNGH8k15g8CsBcRW5n9oi17m+gE+1wH9KG90dae9KQnxe+EUTf0+1yT3MhRP8w+MxOGQ/3Sl77UnvCEJxQ3O6ld7bAtzRtd6Bf9gajp06fHdoWe9I3YQj+Jfcx0+bjGQwLEZ7WH+J1YV9jA62NoZ96uCGMihH2vhDHu4VCyVEo50OezGsIY4Evc7bZppBgzDheVRGUwaNOJcIfjFcpSImE8mUJD9D0J3LGxKZSLjrsE7n6YleCcTqlAdEFnn0rl4iEM8WU47qaZSaDjYJaEx7lxyjiP1yow+DErxO9OsQ0d0IeLB6eDpw99KZHZHgYwBmn2ARFOvWI/d0CcxxQ0Mwt0qjjW1DXSLrDHBRvo1HEiqTevLzpABmk6ejrAP/3pT9F2HlPHkUSYXSDO2Wef3TEdiZctNlxyySXRLh5u8NljrhmuHXfs6QTpKLkR4DokDgM5Mw48FcYNUCdDmWMv7QzbsIN3HLm9/sANG+Sx5Yorrohtk3cG0ZdQBsTn2rz66qtjOp1Qj94+0QcHhGuHa8ydYGxmTxNtklksZkZwULhBwNnCrs997nOxP6Ff8UG/E9op+aML9cHyIO2RzdWEYS/vXeTddwza9Cc80EE7xonGjptvvjnWKTdE9KWpXe2wzfNFB4R9uVw/6I2N6IcdTC7gZFFXLGPzxDCvY6F/JB6OM+fR13BOu+xJSW2j76Z98dCQbxHhGmJMwxb0pn0yruHs+1sFeHUQ/ST9UKdcXyNBRztcacVR6Mzy0Blwx0alIMzy0IGw3OEdBHF50o1OkjV9Gibrxj4zxoDvabezIskbfdGN5Qw6P3RDfy4w1ryZQfGn2wjnwmQqmWNsXibMn+5gAzrxvMzcttG0kbw8f3Rj39nuu+xhV+RLvNTRN775Ddt9tz3stOk/tNX33me/WXm7rb/nPnvDG44PjjNTyZfYg1sftKn/M9Um7LpLnHEhPbdpNO1x3CZs4LF6OgsebuCODTupQ+5AWbr2MOSiiy6Ks5YM0HQ+CHFoi8yMpfXULrxsaXPsf6Fz9JkA6ut973tfvJboBAkjLjcyOJIsczBY04myjMPsCTOable7bSvj9YhQZ9y8sF+QDdbYdvddd8V6PfTQx4Q785vtgQcfCvKgnXrqFNt1t13iLMSDIezaa+cFh2u/uAeFgbET7HXb6O+YmaNf9KeBqUecEpyQM844I7ZNwjmOI8LeNLZc4EyzWsDsA0t0xGm3XYBd6MwsMQ5G+uANN6a0Q5wp2iE6syWD6yzdv8uyFYM4T8pxXjvrzOsKwRHhhpQyp29BN2x7z3u6bL8D9rdrQp9/74NbbdXd99ip35wa6/CTn/xUjOPL4czepQ8atRO3jTb31a9+Nc5eMSuMXQgvuGZLEDP93OQQRlujT+Qmwfse2jAzeNzMle1qt43DpaMdLgqZyqBweWcTDgnevr8cE2E6Emcj3Tzo5/EoNMe4a+M37w6isTI7QWMgjLijjTdI9Kez5mLjbtk7OOQb3/hGdC5pqPxObWNWgc6UgYGlSO7IsZMOpxyXvEazcbr+CO/2Yebxc1/4rD2w9QF7KDhR1/3lL7bLbrvaW990gl23bqN9+uqF9vye+fakGTfaLaGOH3nQfva4wx4bO6EtoUOZ9Mp/sL323CuWDfa0C68zZg7oGOngfN+Wz3hw180dmpc7nxxnDwl1yQtQaXN0OHRC7EH0smon6IlezK6il8/aEcbyNXVIx0mYtyeO4fxzjLtTOn/aIhu0cTC5a3X7OwHXG51cL950zXWDjfxGmCXfdbfdbfLnPmvXrr3dzl58q33n2pvsnjAw/OPrXxtuHna1n/TMCTcEW+zss8+K9rPs7+eTNvmMNqltzE5Rj+m/bTDDw0wDjhVOicenHv1Gli0LzP6wb4/ZBlYFfN9rO+1yXWlTtC0cDHesaHMsjeJw+fXo+vLAgN/I4lzTpzB+YJsvD3v6ow15kj/C7D6OIM4v9YGcd875Nm7CLnbCRz9p77rwr/bGXyy1I2bPtz+uv8s+/+XP2+7jd7MvfT57ASqz5ZzPlhmvp3bYBKldLCXizDMb7o4VN5yMddzkEOZ1hbBniz6Ud48Rl/rD4WKShN+pbe2yb1vp+BkuKo5O4J3vfGd0MnjtA4VPOB0LDhQzIPxOK4PKYdqVqUsqmMrk4nzb294WL1pmg9JKHE1cP3TmqSAalT+VQTgNjQHdp47LtjG4cbeG7QySNFz2a/h6PumUG+hoga6IL0NxsT34QBi8Hwx33vdsttf/0xtC5/ho+1PvX+2s+cvtXb+62R591lLbdeZKO2PBevvDX/5khx32BHvmkU+3ZSuXh7u2W2MHy8wLHe5o2pJCvpQpS4IM0mz4pHwJY+aHu272WdBWvdy9jhkI/OWMvj/j85//fOwk/Xc77UJPlkMZdHFCvA4ZpI444og4U8C1Q7z0HGzHWaGeuT4Z0HAmub747Ut0xG+XfSleHwg3Ldxl+4tbCePO+tGHPtpe+KKX2C8Xr7ITLv6bPbtnoR170VL7bbg5uHPjvfHhjt322M1+/eu5sUxYdmS2k6c1KQ+3dzTx+iBvZjlwQBik3OmlP/B3prGEQxji53GcfoNZTPbl0R7pU32J38tstG1z/RAcLJ4g5WbHZ/IRbuq4jnAuy30ex7nJZtxgHKB9MhvLVgX+jaSdf7mFnujHU5RcP9jGzTdh9O9HH/08O+iQQ+ziG26yJ5+92MbPWmUHzFlm16zfZOuD3pOCU3LAgQfYpb+8NJYNKwn0Qf6wWDtsAvLFNmbvcaroP3z2mP4Ap5D64OEpwry++KQdfuc734njGPGwi/GeWXOeSKV80joei4yJGS4273InyaPLXkm8d4U7FZ9GJgxxvBK5yJimpJK5y6Nz5TeNnA6J9Ee78siPfNlHgV7sNXNvn0+cC/RjedHtSnXkN50iAzx3sj/84Q9jejRKnDA6fy8nGE37/MJi5pEOm8ec798aBt4tW+2Xl1xi43YdZ1/s/qrNu/UOO/nKm+xFF91ir7xyue185p122NmL7MtX3Ww/PGOm7bnrbtb1vi57IKTFxlGcAWZZqsqjlXh+CJvf0YNHsilvhEGXpUSWeX02wEFHP5djDNZ0HnSyviTHuTg2aeczGqS6cY3QObK85rogvPWZ9sUyTtqegPMRwn0TPYMz7ZLlHq5X7/w9n3bi9vJJ38F1hyPpuqE3+0W4OTs/OFPf+OMCm3zdItvrjJW20+x1tueMxXbm4rV2/Q1/tz332t2e8tQnhzrdGMuLgY66pG+hTXg+owX5Uc4MWPSHDFj+4A3irynh/WFeH66f1yHXLHvUqG/2rGEHMw3si0pXD0YTdPPrjL2FOFZsJ6GuCONmlJkt+nOf8Upt4zvxeBKTftGda25ySIubHo/v0krSfMgXnZkRxon0bSPYho277LaLXTH3V/bxS2+051y02MbNWmmHnLva3vSLm+280A7nr+mzJz3lqbGPZVzDTq5hxg3fqtAu27CDVSXa0o9//OP4G+GGhmuFfWe01VQnvqMv8T7+8Y/H/sP/55MtDbRp2gDHU7vGGh3tcFG4dGjMcLBswd2bVx5/pUKl+Ob5cgWkFcjSB42aGSP2qbCxkoZKxdJQR7vi0It9Puz/wGnkrhM9uNjY5MkMCvahu9uV6kg48dnDxaDBnhuW3LjwmF2g42RWhXxgtOwjH/Ri9o3y5UWRWx8Mdj38kC1YcIs96tCD7diXvMjWbrrP3vObZbbLmatt/MxbbedZa2znmavtMWcvt5OvuNE2hju8L3zhi7bX7nvZV7/y5eisMDPJxer7iEbLJsoQobNgjwHtkDs2wugMWLZm5oqlKPTyMgevN4RwlhupbwZn2jJ7Exj4mX3wWZb0/FaCTuTHQMvSJjYwG0D9Ec7rDyhv/prIbwbKZe62ef2QBu0XB442iK2+FFx1/mhC3uiAbcziMRiwhMM1RxiP4eNsvTd07v/5u8X2hHOW2mHn3WL7n7Padgrtc6dZ6+1J5yyx36+7y37zu7l2wEGPste+9nVxaYrZTmaPuCunHkfbVvKj3rjxok/EkeA3wkDOLANtzrdipPql5cJAzV//MLvOchBPL+LQsLSIc0O80QTd0It9TbQlXohJ2yIMZ4VZY/o76o4w4qfl7nbR1zJoc7ND+2QM4KlFlljZ/0WctExaCfkgtBNuVGg3ad/BgwB777O3vftd7w71t8WmL1hvjw3tbudZ64KstEees8L2nbnITvzlfPv176+JDpa/UseXhmnf1L3bVC6XVuB5YAcOO2VN38FsHWH0mew7Tveapfj5hNNmGde4AeQfHrhB4uEP339NHJexRsc5XF7wCJXFXRYduV9UCIMBDYsZHW+ofo7Dd68U4jD1jJfMOaTrL6KkQqvOH2k8fdeLJUBfEnS76EToGOlc/HHnKtwu71BxuNgcSofJ0il3b7yI0u8iWmkXpLbRSdMJ8p9fPkW+dWsY1IM+e+yxu11w2eX2w5tW2TMvYFaLgQy53Xaevc6OuHCl/XzZWlu2+X67N9TRPx//5uC47Wk/u+jn0bbDw90gF926MMilebYCT5tyZlBmgyeDGS/V9fqKS1ChU/AnMImb6uNpIH4O7Y3yocOnk2TphnR9lrKcxkiT6kR+LCXifLAPyfPHgeLmhP0v/k6mZnoRxjHqxztUnkxlFo/r1v8KJz2/Kp1WQn4I5e/24hw9GOzd+tBW23DnhmjrYYc93jZuutu+eh03AuEmYPaq0DbX2oQz19r4vK2++OdL7bO/X2yv/PDnbNcJmXOzadNdoT95S3TY2KCdllcrbfX0yQsnggdsGJjYJ0Nd0m55Ypb+gMEY+9N6AD/f26cvj+PccNPG6zFon1WvwEjTGUk8DwTHhOVABnCuHXTENgZ19GT/E3pVlTff3S76fJ6MxhZm3XE+uXbpO92ZLJ870pCmlzWOFc4S14c76fffv8Ve/7rXhz5vD/vVdX+x+fc8YO/61VLb+8yVoe3dmktfkHV23EW32D0PPmQzzpwZx5F3vOOdsQ9iaXHCLhPi0n6zchlJPG23jb3WzDjiuHMzQl1hL7OrtMN0T3IVpMNx+kbSYbkeh4vVBeqbtkBdcn6rbWsFHedweUHSWPwPLdNXHnChsOTGrBd7nQgbqMBJj/P5qxLSY5DjIvMnsvwup5UVR9roQT68qJSLjcbDkhRhDEoM6jiFzMh5OVThafknMxMMIv5oO/tnuHNK97u1EteVvLnbYtbGH1Mm/xuu/6vts9++9u53vMuWb7rHDjhjvj3y7NU2YcbKcNcWOpE56+KyzbiZq+yFP1tjR56/xL547Uq7tPdv9qTDs4FwfrjjZnPorrvuZp/9bM1JbYVtlCvpYhOfDNI4D7yvyS92Plm+YeaU9uNtxz/LEI7Qrpn5YwaQaXcGR97XxeyZOzfN0hgJXA/yoe2xiZjlUK4l6grxGWCe5qJO+yNNz1/HwtIGd7HYx2DAPkXK0eMio0WqHzPADLK8GgGnEodry9YH7atf/qrtFfqF/zvzDPvlgpU27W9rbLczV4e2yezW2jjA7TQzyKz1wRFbbf/628V2w/rb7d9O/rf4QMfp3z/dVq5YZYc9IXtPEn0U+Y1WXTI44SBxo8aGd8qaemTQpfxpt/xupouXj5/HvybQf/CUGGkzU0E6/rRYWpetwPPgkxsR8mYm2WeBuTHlmmH2jQG+WTmX7eJGgPdB4QzgoLLUyGoC4wLxPJ2Rts31cF3YyoIzwRi2Oi4lhhudoN9p3z/Ndt1t19CeTrPTb1hj77l6qb3hihV28FnLQ/8Y2iES22KfHf6TRfa9v91qa+57wCZ/9jOh/9/VvvmNb9gdt/eF9v3COK4xS+nlOJL2pHhZkQ/iN6ZsQ6DMCaOs2TrBeFvl3JbxNBm/GNf4Czvqnpk7+mFmBFtVV62mI2e4qCQ6Le6WWcLxJ0qoQB5pdqeJsME0Jm/oVDYdE3eizJIxkDKw+IsoidMq0JE8uGvksWs6R99ngX7+9z04S8QjDOkPT5M0uNPGFjomHADSZ8YBm4nTStADh9E32jKb6DawBDDxiRNt4pOeaHffcZddvnqD7TZzReg0brVxwdliqpyBLOtI1ti4GcHxmrXGjr5wgV2x4jZbcEu2FHn0C55v69ast/e+5z3hgh4fBxO3faD6Hyqk522GJW0GaTp4X6YlnAc2uGOjs3ZbB8LTRRjE6Ex4ItD/GJm9DThBg0lruLgOOIzcXTOwcsePTTiDDGDcVfKWdZ+16w/ScyEugzWdIu/jwlnjoQk6YDp/jnvc0cDzwjY6bPY80j55bYW3ndvuuNMe+7hH27OPeo4t37DJPjH3Znvy2Qtt59nMJjDI0T6Z3QqfYcAbP3OlHXfhQvvh31fbrbffZi99+T+EQfxQu/qq39pPL/p5uGHaKy7Rcj2QfqvsdbsQNrrTFr/2ta8VduFQsqyLM80fHnvZ9wdxONfLyp1lVhe4BrjBoN2QRytsctABXViOpu1wE+e2Uq7s5aQeWR4czLXndUBctqAwW8Y+TMYVXq7JeODOCeLxRwrSQkfyp/xwHLju4tOxW0JZhjy52Tr0oAPjbPld995j37h+le1+5i02IdyE0g7HndmXt8VbbcKZ3KSusV1nLLbL+u6x1bfdYS9+yXG2/7772196/2wXXfjTWD7sWWu2HWCk8LLCNpboqS9/d5bby9P0lLnvNfNzBoK6YB8XkxA8rMQrMFge56EHX5ZslV2tomMcLq8ECpFBh6dI6Pj9TeOE85JMwthT4APTYAo9TZu7CxwR7nSYheGvLxggcL48rYHSGwqenufP1CoOI1P03inTCFk6pdPE3sHq4WkipMUdKRcatrBhmYsaB86nrD3dkcDz9k+WUrjjpCOjsycM2xgMJoybYD8ITtj6B7bY8y5YbLv4zAEdyMz1wenKHa54B9cXBruV9swLF9vX/7LMZt243P77e6fbLqFs2IexZOlCe2y4W8IR587JO8iRxMuKevH9PumGTT5Z2uQO1Te7DlYH4hGfzoM7PsqMJzr91RH+4lfy8TRH0j63jVks7OI9deSHTnSOtBccf24APG5/oFsqzD6wTE4niS28GJRZBPapefmNpD1VpPqQH/axcZxrw/9ChLDN9222V77iVfFprz/Pn2+f+/1N9qHfLrB3/HqRTZgRnKw4wNEm85mF8Dk+DIAHnbXc3nPlzfaBS2+xK/7Uawcf+Eh7+tOfastWLLc3vemEOLj4//u5Dq7XtpLaRvrs46QNcT1wc0UY4k/vld851R8cJx7nc6PEzAK2MJDi3NA+0y0QbtdI4XaRLnXEgzf0Ycz4e544YQy49Jf0M35Of3gczqcsGMSxhT1UOF1cx4g/1TmYNIcCaSLkTb/M0pg/dcc73bZufcA+9e//Hq7HXewSnqZ/8GF765VLbPyZoV8M/eNOs0N/GW8Awg3qzHVRaJvjz1xnTzxvhX3s1wtsQdD9Wc96tj3mcU+0P//5T/Gpd+qfBwRSm0bSNtIhbcoVB4jXb7AlxleeqENmo7j+/d8OhlK+xMVh5OYN55+9kkyUsCXj7W9/e+xrPK3BpNcJdITDRWFRuF55OCNUEp/8RnCwKGSWcNhESdhQC5t43ui5q+HN2X6Xwx0cHrjnN1KQJ+lhG50wFwGPAKMH4TRKps0JZwmV8KHY40JaNHSmy+mQcCa506DDcmfB9RgJUrtYduDul1k1Hrt227gI4yzls4+0uzbcbRcvudUOPHtFuFsLnQcdSBzQ6mVnOpgg48LgNmHWCtv7zEX2s+V32KdD57gHjuo3TrVZM+fEAZ19ODiaXgYjBTZhA7NPPsi4TeRH54GTzj4SL9fB5k88Tx9Hi303OG+0aZa6mHpnRoJ24WmOlG2et2+kZr8Pbcb1YaYNZ4v/RqSjI/5Q8iYuZYHutHGuYfa8+VI+T5tyjDitxPXGLoSbGMqVGR8GaWzN6neGjRu/i33yC1+yd19yvT3lvGV29IXL7HHn5Us4oQ1m+7jCTUBcUlxn48LnYRettIPOXmlHXLDUzl16h5178c9t/9AvvWbSa2zpkqVxWZH8aP/ebtBjKGXZDC9jhBsO2kw6i4WwrEg90r9R3p73QPmnZUb69Ic8RcdASvr0J9Qp/YnHGUy6g8XTQmf+QgoHmRsRypD8aJPMymIbT056/gPh6SKkw1hCOvQhtE9eks3NR/ZS25GrK8fLilksnGOW3H3zP/K73/7K9tpzd3v12//Vbgs2nrt4nT3urKWhza3I2uHs4PzHfrEvSGiH9JvRAVtnE2autmedf4utemBzfLn0PnvuYZNe85o4U80+UcYC6s7L0MthJPDy5IaeJ5MpT1707GWIQ0T75OGE9EnswUJc9ObmlDEaR4vZeGa76H+ZTfc0R7K+WknHOVx0UjhVvEuGJRwKlELn3Ss4D/5/fF7ILoOBeJ4eDYNBgLso1orpSFjm4RhxRgrPk8bHdDEzdExf+wXAHSqDLksvfhEOxR4XzkMYQFm/ZzDlbpC9QXTI6RNKI4HnSefInSJ3IOyxyvLInn572bHHxs5xRRjg733oYVu+eYsdecGy0GncHjqL7I4t6zwYzJjl4m6Ox/AZ7LKnF3ebtdrOX77R+u6+0177ujeE9A603199VXyJKNPXLO15GYwUpEUnRbkxC+UzaQj7WGg36ZNA3hYHA/H8HMQ3KdMOGSjpVBiwGRRaYRftkIGYmQtsdLtwRGgztBfaods0lPw5h7QoFzbR44DTFnlCiTx9oCReK3G9XReeBqbOyDurM8JDW3z6M2zf/Q+0axYusddcdGPcGB/3bQUni+XubN8Wy4lrg6NFW70tDILBCQtxaJu7z15uR583365avd6+PiV7UfFXvvqV2J+wRMwer/vDYIQeXp7bitvFdccNKXnGp4Hztkjf6E/k+QNBnvdg8vd4nEOa3BTQ7zJzwU0B1xyvsSn3wduK54kwi8ENKEtRviSGzbxiwGft3HEfTN6uowvncR2wUoJtjC3M7OIwsJnd7RopXH9mtR6x9yPig01R/xB+R+hbjjzyGXGGrXfFKvv3uQvsiecEhz+0vZ1nrw7tjvZ3W2yHtLnoaMX+M7RDtmUEh+u1ly+zD196ky3euMku+OmFtsfue9oJb35TnKUeP36CvTU4l94+vAxGAtIhXX/tCA4rvxHs5UEc6ov65Pdg68shrp/Hxnn2vdFH0U/yAATXGN9Hur5aScc4XBQqU+J4snjl3A14xTHgMXNDYft+Lgp5qJCPC2njKXMXxbIXsxg0DvYscGykKhA9ubh4MR/pk5dfgOTD6x9wVpi2J3y4jYdz/Hw2g2IXTyrS+TPQ8fTKYPbkDISXH+lgAx0yy7Pxb242ZH9Mylu42Sez56572Ec+/nH7zl9X2j/8bKF9Y8Fd9kimx7lTS52twulCuKPLJXwfHzqZZ/xkoX3nhrW2YNEiO/wpT7UnTXxSdFRoD8wOsfF8JOzy8qOT526euyjqJdoUhEGGpQw65nSWdbiQF3eHPEnmy13+9yM+u+s6bQtpffnLgv21IwjtkP8jJd/Zs2cPu/2nZUi6zOgyc8wj3iwtUJ78BRdLl27btpRfM1wH6otZY8r2v77233Fj8oMPbrH7w/X4mc/8u+31iL3s57+4xH67dpMde9FNtgdtM3ewfMbV22FdWP571+CYveCixXbuio322xW324nhhm3X3fawWWfOCAP4e4PTs7f9+tIr7YEHR2YW1suX+uG64+aNGzWcc69HfyCH9uvOynDK2fMiXWabaDMsP/O0I/VI3+lbFbbVLiAN8iJNHibCEUoHasYAnD62g3BTTti22sUT1ax0MPPJdhVu8pl98iUx4roMlfRc8mNVhXL715NPjjby12VbQh4/PP0Htvtu4dr/5jfsspW320t+vixzrIp2VmqHRT+ZHedG4Nk/XWYf+M1imzxvpf0uOP/v+9DHbI+9drfTvvd96/7a12z3XRl3sr/WGcn6Ii3KitlybhJ9tpyyY4sJN4/87VxaV0PJ2/NAb9Lw16+w0sWLU0k/fcoT6XQ6yuHCGeEOik4SJ4UC5JPZDC549iZ55Q23cL3SOZ8ZNBoLlUhH5ZtMedzf420LngbOAXcAvKso7QR5dJ5wNu1j57bk6eeSLgMNd4FMkzP7xJ0VTgLO13DLLcXzoaPncXpmJP0/IB96MNzhPPCgPTvcBe+z/z62dD3O1gKbcGboIHC05uT7t7zzGFDY43WrHdmz1Jbfu9mu4Q9c99vfXvqSl8ZOjPbCIE672BbcJtJh6YuyS/e/UD/cYZMfb0P2TmC49QWcSzq0Cd9Ez0MhzKrRmfiekm2tM7eLqXmWNFjmTffZMZgx7c8+IA8fbp7YhJAuZeZPgvHOO5w9ys/vhMljW8qvGa4/M3g4fNzE3XbHHfbAQ6HOHnrQrrvmT/aIvYJTwititjxgp8zrs91mL40Pa4yfOYS2GeJPCLLnrKX2zl8tCm19vT35KU+2xzzqEFtwyyJ7+rOOtL323NdWrFgZ7RxumTqeBjOQzDIxM85MImWNEE79MhOAU+vlMJwy9rwQ+hNmgOirWILzv6KhPyHfkahD0qFN0NdzHTC40n48nGVpwtMlq+Ha5UK6zHriCPEaFNoqNvLXb27XcPIAzvPy4yEm8njBc59v929+wB7aEvQPfeTyNStsn332tGOPfZndH26Gp/15sR3xE15yumJwbTDEYal73JwVttvM9fbYc5fb4Wf83c74ywJ71nOeb3vtsZddefmv7ajQVg597GOiUznccktx2yg/HCrqhfGT315fOEKEl//ZYCh5e3yEdL0Ppo4Y17hpJA8ePvC8h5J+O2irw5UWJhXDI+W8v4lOnzCE5TeWJdiMzV4hP2dbC5YGQPp45cyS4DgwNYrz5S+iHG4+qY50fKyl+1OJ3jB8No/Bj2VFwoabH6R5YhtT5ixTsbTAO794yo6ZQ6Zg07hDxS8cGj97qHDk2ICN/rzk9P4t99un/mNyGND2sosuucTOWbjeXn7RgngntnN0tPyzogOpkhCPTmX32avsA3OX26at99u0b0+LsxYM4sxMcgEyM7OtFzXns2+FtkDd4IgQhrAPiPbp+2Kw1/MbLp4naTFlTjtksGRvGO2CmSGcJNpMqudQ8DxY1mN2DgfE978gzHoyO4ltPmuHDDWfMm4X7Z+ZEdoJDiz/5efLXRwn3kjh5UOa9CE83YZdzGTEvIJsCQ7Wm9/81jAA7m2/vu7P9uP56+0J57FXJnsazN9zVNkWK4Q9XTzR+JzzF9kf1m20a//ca0887AnhenuOff/737U9d9vdPvD+9xd1uC24bb6UyN4jnCEvR/Y74QgxKNFGvTz83OHkzzmkT3/i70RkQz59iS+3k/dw8vG4CGmwP4cb63SPK8LSGOHcOBLu+Q02n5RynqTvG8x5+pEn+2irDOLlfPxzINL0qQecVW46Lr/8svgXZ1uC47/xng1xM/hBBx5qvb032F3hRuCsRevtKewfHGwbjO01SFwxWGsHnrXM/vvG5fapPyy1vy1bbM888ln2pCOebGfPOcv2P2C/eJ1Tj9ic2jVUOI96cOcnfVKbT8abOKuc/90S+Q2nzjwun15XTJJwc8rMJPmwLEx/4u+/G0r67aCtDpdXBI4UmzO5O+MCJhyhsihQLgA23RF3JKFyyIc1dTxlHstnUODvLJhlozMbTiUSH+FiwyFwLzy1iw1/hPuj3J7PUPNqBukwyFKmNE72V+FM0ljdruHahg3cLbGGjmOSztrdeP2NIb8D7R9f+2q7desWe8SMJeEOjCly9h+EziG+c4sNoKXOoz+ZE84LA+Ijzlhid4eO6YHQaX30ox+L5cffPTHDxh4IL1v0GCzY4+dwPoMKnWP6HjE+/T8UeR3FSNVRCnngeLOfi8GMdsFsEK/aSAfPweZNPLcJG1gqpxP8zGc+E8M4RjjtEru8HQ41n4EgHdJl6YvrmFkEri8esiAcPUYiP0/DbcYe7MIp4fcWwhnU5sy2nSaMs//3zW/YL1feZi+6ZJGNC4Mbr3vInC72y1S0wSqJbfrWGP/pF6y0V1200G66Y5Od/7Of2a57PMLe94EP2kknvdfGjR9X/P/fcOx02xBe0YBdtFPKL9oW2geOM9c6SztxyWqYeVXhefuf5LO9gwGOwZaZjLQehwLx0dOFV/ZwTaevaKCvwklnxpf8yQcZCciftCg/2ie28TQmDwn4Ehk6DMU24nm6nMuMHOmyqZw/73/4wYftgVBef5r3x+i8vuPd77Vf33qnHT7zRnvhL262J/asiBvhoyNV1ebqhDjEzX4/9ie32sHTF9uLLl5mx5z9d/v5xZeGvHe2N7zxeDvt9NPjdccTmtg7FJsctw27uKHhxpTJEHe6CafM2AfKzWLqjA81rzKcT1oIbZ3tJLQ/HmyiX8OZ9LrqZNrucCEMKtxhsPmTxuDhFCaDDnce/ObCHkm8IZCu/2kmG05pLAx68+fPj/kOtbF4mjhypMlfUJCON0pmUegcmS3xOw5vmCOB20WadIwsF9GZsY8Lp8vflj6cPDmHJ2BYimXPgy9pEI7NrK9j8yW//7197o+rbAJvSWbDMZ0CA1TsSPg9mA4lE55YZFnx0Wcvt/MX32abH3rY1qxdG++wmbHhjnu/4FTyGDvLnEOxy8uJdsdrDGiH6R/hItx54wjx2g2cSy/fkYQyJE8cEnTgrpibDZxJn5YfSr5uF+ny5Cj77JhpZWbV7cIWllJoH16Pnsdg82lGmg55MXtGm2cfDtc5MxbMLIxkeaI/wpYArl9muNjfl4U/EPeFPuFxh9kxx7zEbt90t73/igX2kp8viDOu4/KlxPgi3kE5XLRf/pKqL85ysbl5QnDavvH3PjvvpkX275/+bLwOvvbVL9qLXvySuK8qfeXLUPAyZADj/WgsJaZ/SeOzlMyiE+5tdyTK1dNwHXhohDZJ34WzhdPAfk0v+6Hk6WnSBlgeorz8yTMEO+iraCv8r2dq10jg+SP+mhbKlps4BnP2wKbOyUD5ehzioz+OIzOsOHP086wAEE49HnXUkTbx8KfZD+b9zV59yS2hn8z+3iyb/R9k3xj7VGa3MgdtHDNd4aZh1xlr7MRfLbVNIb9vf+fbtvuee9j783GNmXPGta3B+UPPoeBlxSwTTjA38ulLuqkfXnbMmD0S239S0rIlH/L17QLkidPlN1cD1VM7GXWHywsNoXBwCCgsniSiIBHCuUtjGYwlFv+bm5GouDLo4/nhbNGBcHeMY8Iy5lA2+LqOCAM/FzADdfo0GPnQUTEN6gOppz/SoC/lyd8pMIhzl0WZUt5cdKm+/VGuM95dRnrp34XwyduFdw8X23+FAfXTv7vF9jxzaehA8juwOIh5ZzLIDiUKe7jW2S4zl9mTzl9hb7h0sb33yiV21Zo7bdW69fbYw55gjwkDzUld7493kkxzYzM6ofdg6gzdqSPu1qgz/2sUwnFQcC6ZgfWl7laQlq//+TMOIK8XIH///8aB7HGIR1rojLONs5M+HcsnL8ulHv2BDeIPNv3BQnqeNk4Xjgd7xXhil4F7oH9VGAjSd3F7WZploMOJ9Hpk4/oXv/iFMJDuZmf95AK7ZdP99tGrFtnzLloU21f2viO/MUjbXz8SB8f8M2/b3GC8+YoVdl/I9/h/foPtMmG8feLjp8Ry5sYrnV0eCLeLuAz8/q42NrFjkwtOCunz8AX2In7uSIIe5MeDHbRPZu9xbJnR8JUJ4gyUr+uGEJ8/26dd8HdrafnQ79NPMqiStp8zUqQ6INxYMWvP9fIv//Iv0Ua2S/g1g/RHmhZO5Lvf/e5YL+zVzcpmiz2wZWtoh1+KTuRZod54ge6jz14Y2g6OE09qp/3lIKVof9l3nqQ95meL7cNX3mg/Wbja3vimE2z3Pfa0733/u7ZvGI9e8IIX2qZ777OH83YyGIiHDQh7XH0iJC0bf4qVvcoe7mU8UngZowfbSHypmbGa2VF/0GKk8x0p2upwcVfB5k+cKu4+vUIR7n4pTO6eWlFxjutDnjz9wuOmDLys5eOYDGUK1tPhYmNjKc4bT2fR+Nwu/hPKnyJK94m1yjbXh/1OdNYsKVKu7FNLL5b+8vd0EF5kyZ0NTiN3bX4+ZffsZx9lz3z2s2x9cA7+u5e9WqHzYOkwdghJBzEUoRNh9iF0KHQk4+P/2t1qr/jZMrtgwQo7/6ILQ2eyu7120j/a4Yc/JU41065c34HKFd1xjrkLZdmCp7/8XMSf+GSQo7xaUU9Augj6MGPB8jadP/VEp81gOxh7HOKhr/81CrN2tDevL/ZxMaPAAwet6hwdT5friE6adkgniRPIe3rYUjAU21I8bfQnDZ62JP30P9vc3v33PcDe8+6T7Ferbrcnn73Y9j5reXDkl9u40KZ4xJ79hfFlk0MZ7FKhnYd03nDZKrt/y4N2899ussc89tH2tKcfGfex0Y78b44GY6/bRlz29XETiNOW3gRSp8x64WD6tgvEzx1JSJd8qS/aDf0Y76SjP2CQTfuD/vLmmKeFg0yfi/7pTSBtEgfSx4DBlNdQ8TJyfciTGzb6bWYM2abA0mL6ZHx/Ong6xOUBMOqb/U20e8L4K6kli5fY4w97or3sFcfZig0b7LGzF9vOs9fEdkcb3JnXQOD8D7cNxpvZtaFdr7Ejzl9th8xaahfdtMheegx/1v1Ye++732u777mbfeOb37AH4izX4MoU27CBB3lYSmRZOX2oh3pk1pMbRG7sPNzLd6TwMkbQh5lRnDx/qAPHa7DjdTtoi8NFQdG4GQR8MPNGSUHhpbLezKZCD/NzR5q0AhEueqYqcQKZWfDpe/Qlbn86cD76sm7PYInTxh2b20Cj5ALmjtDfCk34QOkOF7cJwQlh+YhBjv9cZBB3Z9B1KONhfKKrvyONPQ6+dIdwjP+7pMHPnjnb1t59n/1izV22N4MYswaxE6jqHAYh+V1bfI3ErDU2js5p1go79uKFNve2Tbbi7s32H5/7rO26W/YiVDp/Lnx/h1uVbfx2IY4vafMvAPxGKBfsZbmNR9FTZ6UVuD6kT94sOzMI0V7Y78Qg4O9VSvUvk6bDfxsySLO05u2QtBGuLa49HGjCm6U3kpAPeuCs00nidDGgMmhz/bsOQ9GDuNhK2jgcvCqBAdzrH+HpvWOPe2W4lp9gC1etsU9fsyIu4WR7CddbfMdWMcBtQ3sNaUyYsdZe+ctFdtPG++zuLfdb71//HHQ6OL5ugCUd6tQfTkjrskxqF+/Q49plMGPvpNtFmaU3pmmarSDVieuf64LyZrYS552/zemvP3E4RhrcCDKbS9tm6ZDzXKhLrmVWPojnaY60bZ4m6aMT1znv2MMef7qb2S53cvvL39Nhrxn9JDNllJPXy333bba3Bkd17332sr/87Qb71vVrbJcZq0Kb6cuWEtnfGt9FmDlNlW1sQCGdILHPXGOPDDcUv+27x2684W928KMfZUc/+7l25DOeboccerAtXLCo33L1cLeLa4oVAGxj2d77EoS6px3y13Jur6dZlfa24PogzPyzasPNst/U8FAJ/Yzr3km0xeGigth8zIXmjdkLkMri6TqWhxgwBmrkIwn504kxRc+A4H8vxB2kOxj96cJxOnccNfbM+B+rujCw0yjZwO5hrcQbHEJe6MMMEK++4A4Fp7C/pzvS82nAzJIxbcufZVMvLiyNktbb3nai3Rs6x//Xu9yeev7SMJAxoLFvq6pjGKTkHQd7a7K3fYcBMtwN7nvOSnvCuSvsjZcstr57N9u73vGu4DTtWiyZMrPTrO0Q5rqzbIETyitB0v1NzDK98Y1vjBcye6CapTXSkIfXB3VD+8PBRUcGbe4qXfcqfVx/OkccNdohs3Yeznk42rRD/1P40cJ1YMmWmS32HOFQMrCmT0gSZ7B4mtxQMCPBHhXqFLs8vTmz59ieu+9pXz71v2zyVYvt6J8vsfEz+ceDbO9VHKT8yTBeWzLswS5L79kXLbKjfrLQ3nLZYltz/xb79v9+N/Zn7KHjpoT+ze1EqurR2wHxGEg4L93fxDFmyxn8WIprpVOSkurFcjAOPUu4CP0KD340s8nx8/0fP5h1T2fHaLueHrNLnl6r7HKbXC8GcWZK0A1nkv7k9NNPL/Twc1JcP85ndppzeFWC1xXtkSWwXXedEJySr9jX/7TU9p3Nni3+U5Y2R/9Gf7kuWxmg36toXwNKaMP+rwj83+LeZ6+w9/52hZ3215V2/oXn26577maveNnL7dBHPdqe/rSnxj7P7S/jNvlxHiRjIoR+w+1CuN6oK8ZJ6o4wP69VpHqRP9sU6OtYMUtvTl2XTmFUHS4vIAYNBkb2xfiTIC48NUVjZWlgNCouxfVDD599Y6YL54t9XeldeBnC6DSY2uRCra3bZ+mxn8RfN+BLKBwbLcgLYb8ODZILhE6cqXM662Y2+Xn8nYff9flsCXLPpnviBkrSu/5vf7dfrtxgL7t4WexE+MNVlgG3yeHKJdvUfGvoRLKZrri5OQyMT/3pMvvUb/5uf7llYfGk64EHHRQ//S3EZQhDdzpz7tLTgcKFd6exf4QbAh/MRgNvXwjtjSVt2h+zotQXm4cJb9YW0ZNjzNbRfnHyCSMen94OmW1hEBgtu4C8XHAmqSMcJMoZp5KOk2Nlm/rD02M/EU4NS3bYTxh1TP/CjPXzwp35uk132dPOXpkNaPHJ2WyZOmtjvLV7+I5WlNDO45JkPpAefNZye+dlC+3qFWvtpK6ueN1R7sympu8arLKXMPRntpybHNqh1xfhXIM4Wjg8lCVhQym3bcHbEnmyj5P64waO/oH3MjW7OeW328UYwI0p7TpdmuIY//9HXX7jG98YlTbqeiGuA3s6/caZmy6cedpSlS5+HnXCOMHNDKs2hEV5MPuz+Oe/4Hn2+MOPsBsXL7OT5y6MT8eyXSK2QZyk6PjTv21DO+RcZmzzWS7aNO+Xe+nPVtmd9z9on/vCZ22X3Xezpz71GaFfGR9nSCljL2dsSXHbWOXheuVGyf+JAsFmVnLYq5w+ievSSjwP9GDJnfZHe+I68/9bxq7R0GWwjJrDlRaOr7v6+5sQCsY7R6bPaaB+zmgVFrq5PnEZ4thjY+eI0NgYrMr6+G/O5W8h6AD/7d/+rZiCRuhYmS3hGOvbfk6aTqtxHXEe2FdA+dMwsa189+b4OUzvUy84J+lSDW9LvuJXl9kjdt/DPve5L9j6rVvs6PNDR8JehHCRMxs1Ug5XrRPKOpI4BT97je02k/dz/d2m/WWZ9Qan6cBDHm177LWn7RY67ONe9fKob7ms+Y7+7Ivijs03IWMrQifC1DnLP+lbrUcTL3ucePb74WzRkVNnzA6jU9ku4BxmPmhr5ZkPPhkQqHPeYTPadrm+CNc7D1mgJzYxwDKD6k7IYMEGZiAZ9Olks5mS0MluDWUX6vFfT/6Q7bvffnblFVfab9ZtsgNm4XAxIOWzCD4bEDfM07ZwmPI2N1QJ5487M58hm9Vnjz57iXX9er6ds3CV3bZ5sx378pfZnrvtaXvvs3e8nvr7WxLCGTBoh/Q96VOJSHxAJTjU1OdoDyqeF3rQz+EM0j7Z04VOOGFlu9JzqGMGaWbFfRkS2/jkeuXGiZsg/weJNJ1W4LoB+aELOnLTzLXCLCL2+f6gND7wnfNYSqTPYD/onRtxOoMT83Cor60P2399nQcN9rAP/fAs+8FNq+39v7kl6yO9f0zbYFXbGqwUaZFukLx97z5nhb33ikW29s477dgXvyjO+O69//52wCMPiMuD3rbKdiGMhb4dhRdcE9dtZgsO5cMT4qwKeBourcbzoc/maXXqiTpgfKM/Ge1rYyBG1eGiMqg8LrT0lf8IBeMbarlgvaBGE68YBN0YbLmzQSc6Eu6ivUE5fCeM+AyMzG5xx5aGs4TDXWr6BuN2Qd6U7bvf/e44yHFXQOfvU/qpbq4/76ahDHgLuofxuWrVGjvsiROjI7b2jjvtP8Jd29MuWGY7xw2gOFw8pkwHso2dSFkY2EL6LFnufCZ/4BocrzNX2OsvCo7X979nu0zY2fbYcz87MHQmf7z2uoby9jJgtpEZFp9xRLhwubOmXFjCwc5yuYwWXtY8AcaMMHWA8Ncn3vGXwS7aKYMf72zyuiKc1xJwt86MJHtVoB12kSd6MVj7MjWOF7MkviQxWKgvljKYifYlYV4B8eCWB23eH662gw8+MC4333Hfvfb8n8wPjhbv2qJthnbEEk5V+xquhDTjck78vdb2P3uVHdGzwp7xk0V25oI19ourrrFDDz44tM/dbY9dd4uPs5fbFt8Rwpnpob59CZ8whJlAZl+YLRvJdx0NFdeTPp29VtQjNwXsNaNuXS/H47O1gcGbfYQM0rRNbw88Kc5sib8Hb7Ttch35JH9eYYLTxQBOf8nMd5Vd2MC7+hjb/Mnbh+NLTnkSf57tstt4O+Ftb7d3/PLv9vTzl9guM3jvGw5WaIPRQWqxhD7ziHMW29Vr+uzW4DQdeeSzbJfxO4VxbbfoIPbnSPrfcnGDip2EUTbcELz85S+PT6ry4mZvo2kao4Hrg7D/jnqiztiywEyl6zTaelUx6g4Xd3UUCFPqXkEIm0GpVAYTOlGOjXYBeaW4rjRCHs1HXy44OhWvPMfjoi97vtIXOrpwd4Aj5o+pE9Yu0BcdeBQbu+gkmR3waf3UNn5jFzNAxGVPndv0wP2bQwfzIdtzr73tlxdfZnc+vMW+f8MS22vmovyuKpvhip9VHcA2y3rjLzCyGTRktR0442a7PTgS3OGMDwPVbo/YI743KLUJ3C6W1lgC9t8IT8syYLDfBifU67ecxmjgZU190fFTB8zIMa3PQFWlE22WZV9mCNhs7bbROTJji3OdvkS4HXaRJzahF04SNzNcXzyg4MsVg4F0uOPm2mJWmfSyMnvY7t+y1Z717GfGDevr162zux/aYs/uWRraSd5+ZmZ/RN3YrkZAQvvP0s7b5uzVduiMm2zhnffEmcWdd9nV9tx7j7hvMNO3Zi82IdjCrAF73Gp2ZcLLmSkv9oJ6f+LnjTbkjQ485MF+Q25U6FPKs3epXbz5nzgsA/HbhSUpzud9d4wB7bDL80PInwed6Cdoozi/PP2a2gVeBtwU+euNHgxtcEuQB0K7e9tb3hrs3cPmXDnXXvazReFGkZfrBmeLthL7yRa1w1RCHs+4cJn9dPFa2/rgFps5e3a0CQeZmzP6Crfb4Tu28BoQ+p70KVLqi/deUSY8ye3h6fmjRaoTYyxti3bky5yuVzt0KzPqDhfTl/7GWwqIcBo1jkq6l4Zj7cT1pZFxEdE42ezqlefwHUFfBjScLr67DbxQFW/bl0/L5482ri9lziwX08F+wVXZhs44XNQZMyZu16JFi+1RYfB+xStfbecvuNWO7llg//DLJXbIOavy2a0g8UV8eccy0uJLP3FPF4/z32on/HqxXbKsz2bOmmOHP/lJts/ej7Df/Po3hc0O3+lI6Eh5UavXC508LzvkLpV38hDeTrz80Y1ZDW5G6CDTJfcyOFzMEnDXmb4ew5fvmFXxwaydoLu3JZbFuBvldSzMNlbZ1QwcLm4YeDccacW6DQMKf9a7R7hmvx3a7vW3bbTZi2+3Iy9YYbucyQ0AQrsptakREZwsbjSCxBuP0DZnrraX/XyJ/f7WjbZm7Wp7+hFPs/HhemJmwXUuQ9kwE8nmceLwG+EBCK5XnjRmubjZ+aOF1yP9CftB6ScYnP1/+1KIi744XMTjGnO7sIX2jW3+AEUn2EU/wVNvTAagM04Gx1Ld3C5m+rGBcx7aStt+wC6/9HLbY89H2L9/8pN214Nbbe8z2HLBuwXz/0scDWcLCe3wiecss7OX32mzFt1uP/3j3+yIpz0t2kSZ++b5KrtwuHBi0vdJZi9vPSo+yEM/Q1ml544mrjc6oJsvcdOPs83Hj3cCo+5w4YFyQXKXRuEQxlo5g8GnP/3pGNZJBYQ+XEDsK+BpGvRNcV0R/geS5Q3OQbCVxkxHlE7ZIu2CvL1hYheNkxmCZhcccXnRHXXGND9hnPfmt7zF9t7vIPvRn260p52/OFzQq23c7BVxg+bOs4LTFQa08TzuPFJ7uFKJSzd5Z8XANoeNoevsFT9fZKdet8g2PPSgnfZ/P7R99zvAfhM69bJd4HXq/9uGnWw+xk5vh+W6bhfojj7saaGTY2YEp6kK4jFDwEwWTprXIXffbABmyc7t7QS8HbKnhw2vDNzluuoPbhS4k+W9d27XPXffY09/2lPsmc94ht1+x232s1vvtV3PpE2GQS7u3cJZx+lqwWBHW/f2Hv/j7rbwfb1NCHm+LtyQ3PXwVrt78z1hoHpGfH0JOlfZSxjvuuLfHLwt4pSwT628VNJOyB9BF/o4NmEz+8Z2jKo2Rhgz5Qz0PKXIb4R/FSGs025MvX2yb5Ixin1CfszxeOy38zp94KGHQ9vrswMPenQIf7ZtCsd/tWKdnXwNDxTxf4nclOZPxpbbUEuEG4ysj97tjBX2vzesDe1pS/F/u77XtQz1wOw6Dhf7jz2MP48mrFOeBvS80YPy52Eh7OJJ0XbqVWbUN82zdMWgxl0tjZQwNk5ykfLv8x4PaSeeP59UIMtM/DVOuWG5roRzd8Nfl3iHwd0oXjab1N3WduP6IujEvjMapg90qY7YgDBlTJ353gTOw86XvvLV9tHLe23iucuDA8Rdfbiwg8RNydEZyi/0yg5gW4XBMne68pmEw8+abz9d0WcfvuIGe+cXvxn/sPXqq69qsMttZ88Qj3C7nTwRxmzkL3/5y6IO0/PahevLXSUzHswG9+dwMUvHHhkeQgHs4DfOtduKdALogc680JNXlgzV4eJGgZsanEyuU9K74/bbbK899rDvnz7dfr70dnsm+wr9XVtI3LvFgOdtaQTFZy087fCdm4MJM9bb+Jmr7Lifr7ArVm2w5zzzWbHtYXu5bSLYwXI3e9O8LeJc8jQnN3bswfO47cb1QE+e7sZxYuax3MY8HnsJ6e9xYojjtnr989vjtgvyRg9sQny5k32sZd34ThxWN3iNRKyvEPbX0P/vudd+9tX//pp99aoF9onfLbBnX7Q03oxmfRftI/9ebkcjLSGv+JoeboTPXG/TbuyzzQ9utRPf/va4r9O3T5Ttogx8Ww0Pp3gYqwPl7TPpuaNJWWfKn6e0GdcYs9qlVxWj7nAx/cgF6S9II4z/HGQKsFV/DLwtoA+NiRkDNuTxPcXtwhY6UL8jJYynVpiK5mGA8nntxnWmo6Nh+p4gxPHf3H1ywfGv/X4eG3Zf9oqX2cJNW+yws1eEC3lVGFDyQa3qgm+1hIGN/7R73SW32NQ/LrTJpwaH66BD7Jo/XFNpF/WB08iMgXcWvDLDHa7yOe3EdWGGywdcOroqqJsPf/jDxXvgOA/72B+V3jB0km3oxEM0zDgOddM8e75wuIr/Kw3p9d1xRxjodrcz55xlb/k1bXJVcLJGYVBrKgyqzGast0fOWW5X922ypxzxtDi76vXheN0Qjk28eNn7Exwu+hf+uNrD0nPbCXqgEzNc9BW8y6qsm+vLthL6e260/TxWD2jbzWZa2oHri/hrB3iXloc5fKe+cLZ8S8mDD2+JDtcjwjmn/s9U++If5tvh5y4IfRT/mUh7CJI7QNVtZoTF9xXOYtVhnb3swpus7/4tsQ2yrYTZ09QmcLt4az51ysykh/GwEX0ntpbbcDtBD3TiXWGMa74q0ymMmsMFGM6FiMPFXhIKhjAGOC5AZhg6qXAAfWhQbMTmjdjlxsV3j0Pj5S7N4zAFyzQ0704irJNAP8qfv+TgDqfqjtntopPhgmPPhYe9+MUvsZcc+1Jbe98We/XFC8JFzL6EfJar6oJvudCZrLbX/OIW+95fFts3vvlNOzjUGa9IqLIL29lzweZ47EHYYE87xPEqn9NOXBfeG+YDbrP2hF0f/ehH47IT+yHdVgZungrztJBOAD2whZsVBlw29w9FNwZoOtbiXynCuXfeucH23nMf+8GMM+ytv2KAC84Os6ANbWZ0JD65yHuRwuB60NmL7br1d9lhj3988cBGaq/XDeHM2rEXz+PgcLOJ3h1uj9sJoAflzyt/6CuqZipdX55o48aGp9/4jX3MtPPkJfXZSbh+9A3sn+SJbbfD4Tu244CwrMj3rQ8/ZH/7299C/7+nff0bU+1L1y61XWZmy9mZ40NfSZtgabuxzYy44HDRN7NhP/w+9sJb7M4HHoyvK2IyoeoGzm3/wQ9+EOuULRcexjiHg8l3pFNw/XiPJzdi7DtO66rdjLrDxQVF5fHoeuwgQ+GwlMgFyD+Md1LhgFcglce/yPOdsFRP/02nz8Zft4sN9ywp0gnxu9NAJ9bwWW5K95g5/pvXI7BezyPR/Ma+V4aL7YXHPN/m33W/vebSW2w8+7ZG64mbKgn5HnLuanvhz5bYd3oX2Zf/e4odfNChlXc4bgOzdOy58zplLyF28hi+h3UC6IHgcDELxIbpZu2JcP7iiBsEBjZ+YysdJO/l6iS7AF3Qib0vLJc2e/qyGcTn2kwffrjzjo32iH33smnf/197z5XMIPAqiDa1yyDxP/J42SozXGettKvXbbJHHXpw3LfmOpchjFdmMFNJHMrEl5R5OMev104BXdCTvT3ctFQ91MFv7OJGIHVeCOMpU5ZPO83hAnRkFYYZLv6CiN+pbXzHdh5yYNb8oYdCfQVZcNPN9oi99rHur02xL/9xSegjeUcbki9nRxmlGa64bIlzFz7nrLHnX7DQbn9gS9wGw/JgVRv0umHfGmM2+7U8jM3yLCnyPS2LTgCd+GN+9ibzAEYn6TfqDhdrxQxqDApeWUzXcpHymHOnVR76cDGxNMj7mfhd1pHf2MJdGh2k28XUOQ4Xm7AJ6zTQkQ39PB1adcfsv3GE2XPB2+aB8vjHSZPsuc892v5+12Z7+S8XxXdhZR1JewY2ngT7WOjUeB/XtOtX2ue++tVQFwdZ719662wCflMfvF4h6yCzuzRm8OhYOs3xd33Z/8ig5I5TFYTj4LNMwJNinEvdMjPG3SzHO9E2nAhmHJs9fdkMZmaZoS3e6/fgQ7bxjg22/7772tRvf8dOu4m9Uwxy1e1mdCRb7mZw3SXcmJx5y8aoM/8j2Kw+COemlHjYRRxWBxjoeGiiEx0udMYmHBP2GKb68d3jsNTNzP+MGTPqzmPgZ2as00BH/quSJ9V9FQZx3AZuhJil4zth8xf8zfbcZ0/7/Fe+al8IfdMEXoobHe/QR8abU2a5cieost2MpJDHrfHvrPh8wQXLgsO1Nc7KMbOc2pOCLb6lhP9dBdojM3k8Le22dhLo9JnPfCZeO+wX7CT9Rt3hooNkNotlD68sZk644+FvOTqt8tCH9W0uNt4dVm5gfCcMYbMy76LxOMww8AQVd32EdRroyPJUugxaZRsvosXhYubHw97wxjfYUWGAXHnvVnvOTxdlg5rftVVe8K2VzOFaGh2u7/SutMmf+5wdesij7ca/Zhs9U/hNp0GH4R0kwhMtdCxVywbtxHXhyS/2TrAU1Uw3wlmux+Hi7eT8xlYGat7r5PXcKaALOuH8Mts41BkuBnZm83iiL6vHh+32DXeF6/AA+9qUb9qnrllu489khqu63YyKxAE2yMw+O2DmEvvIVbfY7nvvH1+EjK1V9mILd+ksl2Z2PRQfEOApVfYJuUMzlLJqJa4LfSA6u5Po+HHs4OltbkT9Hy4QbsB5MIk9eZ0GetP3MSnATFdqF7hdOP08aZvZ9HC4/m6xvR6xl/3nF75oX5m32MbPWpkt7Z15e2gPzHrSNpjhar3DFZe142t61oS+cp299MKb7LatW+zlLz8util0LuN1xkQIkySsAPCbuqUN8ifxnFcuj3bidcGYy1jMKpPb0QmMqsMFVBYXm29AR6hIZpB4Gq6TKg/Qh1k5LjbWsvvrSPiTWRwsny1i6pzfLA1wvNNAR+5weFovtckhDHv5f0vsx/FyW9/y1rfY057xdLv5rvvtwFmLs780iQNL48U+KhLyPuTclbbnGSvspnsfsH//9GR7zKGPKv5KqQx2MSWOA+Pt0F8Lwcsp+V11XrtAFwYq9mKx+R39qyAeewa5u+NllPymPfoj651oF7Ywu8Wb/30v4WDBNvY5MVNLOti3cePtdsjBh9hXvvoV+8w1q/ObgdYPak0lXhM4fevtoLOW2WeuXWjj99zHPvvZz0adq+wljI2/zAR5f4Izwp/z4pz6TOBQyqqVuC7M8rN/sKqd8ZtwZrhwyni/n4cxI8FMO+9h6zTQkaVEnA5eZcHvsm3YwMZ/bOA7y4qLFy+xvffd2z4T6rln8Tp7zE+W2oQzeW2OPzE4iv0ljl2cUVtvu8xYa2++7Ba7Y8sDwXF6UWxPVe3Q7eQGlBtuf4k09vGGeV41w/dOwvVjQoebTlaZyna1k1F3uCgMf4w7a5jZUg5O2A9/+MOOrECm8hmImQL3hplWov9mUz0zdf7EBzMS2MpTY5zXaaAjSznNLhy3i6eJmJX0JV/ivutd77bDn3KErdp8vx17ybLYiRT/Ul91wbdaQodyyDkrbLczV9oX/7DMPhrumB8dOr/5C7M7nDLYgLPJ03t8R9hgyQMdP/7xj+PvqvPaBbrgwNOh884p9KuCcF5Dkk6n0/ZwZjpxz4Xrx2ZwlsqG6nBxLk4z+2c4D/vuvGuDPTo425//4hds9sL1YZBbHtpImx2uOODdGh2u7/15kY3bZbe4J9T7kzKE8Tg+M+ven7DcxrWa/tNA1bntwHXhIRx3OlLd/DiCw0X75F2M/CYuNwls3u5Uh4sXB+N0+INDiOM2sCfPnU1k6fJltu8+e9unP/Upu/XhB+21lywK/dOy0Cb4L9h8SRHHazT6zNgGcfDIe7W9+MJb7LYtW+z5z39B0xfwup1ssaD/99k9bPP9as3ab7tw/dgTSF3wzyGdpN+oLylSGCwBvPvd747fCeN1Azhc/rcJnQT6+assuOi8gaWV6Haxd4aG6Xef/hZsZvM4r9NAR6aGm63F8xth/wKOJGv5/CZu1/veZxMnPtFW3PeAPbmHu7b8D6Xb5HDxwtWuecuNV1M889wF9uZ/+YA94fFPKPYxlcEG/oyWjp/vCO+ZoZ75D7tO6ki8Hug8GJSYMW3WnrCDmREcfTaM8pu4PI3ZiXsu0IXlMfam0fEP1eHCHh4kSGfv7th4tz3mcY+xT3/2s3bWwrW5w1XdbkZF4swCn6vt4LOW25WL1tiEncbFemrWzghjBoiZZf+fU57gZNmVpRx/mnMoZdVKXBf2MVGX5XbmxxFmapl94L/5iIfw6hz2v3bqkqIvq/nGccThOzbQz3t/QtjKlStsvzCunfLvn7bbHnrQ3nDxfNuVlYDoZOFw0SZyqWo3IynkydORc7KHm444b6GtD9cdDry/ZqQK7OBpUhx/VjrcVvaDsjLSSf0keHvi3zZwuPgbs07Sry0OF0sA3Al5w2TvDEtv7JHqpMIB9GFmgYGYmR7XOYXfNDzeLcZF6Z0hT5Ux8PHCyWYNul2gH7bQgb/yla9sahfCnY3vsfN4H/zgh+ITmavv22zP+smS+Khz9pc+bZpJCPmOj39kvcr++/rV1vUv/2qHPf6JtmRJ9R0OYTyhg0PsSzYswVF/vFm/kzoS9EDYE8gTpf4n6lUQj7cs0+78kWhsYQmApzKr6rmdoAtOFrNUtMOhbprHHjp+f0T94Ycfsrs23h6c7cfZJz75KZuNwzWTN3u3d4Yrvppizho76KwV9vP5S23c+HHxDd7N2hm24PjTHv1loDheOFvUoz/N1yl1iR7oyMxH+v+PVfBCXgZDZmKJg/D3Mey5weHqFJsc9PGN49ddl/0Zfqqj/2YZK91Ssmb1Kttv373tIx//pJ150zL70G8X2C4zeE1J1iayWc+knbRU1tq4M/uCs7Xedp2x2l518UJbdf/WuLeT/Y9V4xM2UDc4Wjhc/jARYexXY/9rJ/WTgC7oxBsD6CuZTe0k2uJwsTmSOyF+I9w1MPD5FHMngb7+h9v+Z6upjm4D4XQgOGZsbuU8HuPGLn/hZCfhOrMnpNlmarfNX/rHAOBhH//4x8Id6aG2ZvMD9sk/sjch3LnFlztWXeyjIzvPDp3JmWts2l+W2Xvfd5I9+QlPtGXhbrrKLuylo/EnqvjNej/1zP9fdlJH4vqiHwNVf+91I66/ZZn/rPNz+T9QXinA906xC9AFJwvnHR35PhSwhzbM0jjfHwoO153BQZkY6v6d//YR+/DchaFttm/mNUocXHlP3Vp71OwVdvFfF8b/UuSFks3aGbawl5D26P9zisPF0jCzEr701il1iR7YwjvCqI/+2hlbLZip9XZMPG+zVS9MbTfo6P+24S//THXkO3F4Gp3+hCVg3ge39lb+WH1v++BHPmJfmbfQvnjNfNt15krbac7KzAHnpaexbSRtpVXC7FbIk60fu5y50v7h5wttzQNb4xOKVX9ZB24nEw3YlT5MhEPDU6Wd1E8CuuDwnnjiiXG7CH9v1km0xeHiqTgf5BE2K3NHzp15VcW3E3RmqYmLjaVP9EsbGN8RGh5T5MTjBYXEo1OkE+GN0Z1kV6ozdzjcrZTtAo/HRlFmuJj54TdxPzP5M3bIgQfbLfc8YK/9xeIwqIWOxJdOqi74lsta2yV0Zk86d7H9bu2d9vZ3vsOe8sQn2cpV2dvWU/iN7byolhkEZliwielnHGafeeiUOvN6wPFnFoC/xWqmG+EsRdHu/KWvhHG9pU9klsukXaAHMzg4XMyODGdJkVkf9jW5rRvu3mBPedLh9tr3/Kt96Lfzs5uBtrXLICznxP9wXGeHnLXULvjT323n0O76W7rGjrPOOiv2Jwwa/MYZxeHCofE/+R5KWbUS9MAWHF9fukZSXF9eb8I+LzbKE4cwtpMwO9SJS4ro6P8ny7+HuB0O37H9P//zP+M+LxzjBx98yNb1rQ/X4QH2LyefbN3zFtgX/jA/ODur4vaH7C3z+Y3AqLRN8socvJ1nrrY3/GK+rbt/qx1++OFx75nXQxnCWOHg4Y10SwlLdv7Oyarz2gW68MqUt7zlLdHhoq11Em1xuLjT5m6W7wgvp8ThYiDppMoD9MEhZCBmOrncMPmO0PDY5Eo89nwRxtIidnEHwfFOIdWZ9zOl++lSPN6vf/3r+BQpd+Qe1v2Vr8T9Cj23rLL3/XZx9oes7dw0HzqUXWcutWMvWBBf6Pe2t7/VDn/yE+3W/A+cU/jNXRDvs6K+2ICM/Sx18JvlDY4T1gl4mfOIMy/z8/fBVYHODF6pw0U9s+eiam9Nu0EXBlk6b942X35/00BgD3u//BF1ZNOmu+K+rle84yT75Lxl2eP4DDiV7WYUJA6q2VNiB569yubMu97GTRhft0Tv8B0hnL0ztEfaJb8pGx4s4DF+X3obSlm1EteZemD5umwXuL4Mgjxtm/5zBzNIDOqd6HBx/bDdhbrwJ39T2/iOHczYEYflXn7zn5777XeAdf3Lv9hXmeH6w83R4cr2U90aHB9uUEepXYb2F1/AeyYPkay1Y392k61+4P642sRDXehbxu3E4WKPNQ8Tua08uMMspddfp4AuzDByM41Tz+xwJzFqDpdXHo2XKXEuSr4Txl4THBP+h6uTKg9oUDyZwoXE3U25gaV2MdBxF8S6MfH8Ldi+X61TSHVmEPY/NU7tAo/HzB5TytOmTYu/icugv9u++9l/hbu2o85bkm2Yj3dR7RvYdp253F760wV22/0P2AlvCQ7XEUcE57evsMPhO7bjaO68885FB+kPR3TSn42D688rLpgF8Hqo0o8wZk6Id80110Q7sA3nsurpsXaDLiy9s6+TJd7hOFw8/MCsj9t6990b7alHPNVefMKJ9qyfLAhtMrQPllQq2szoCA+UhLYVbkgOnb3EZv52XlxSZCN2uT74jhDOX57Rn9xyyy3xN2XDww/MSvvS21DKqpW4zrzeI/2vR8d1RbjOeF9V+i7GOXPmxFn0TlxSxBZmvakLfwgn1ZHvxPE/7saGBx9+KDiPd9g+of8/qev99rV5823yHxbahNmrckcrtIs5zHSFz9G4ScXhn81MK9/X2tt/s8bu2/KQPfYxjy3eE1kud34TzusgcLh447yH+b9ZVJ3XTtAHh4sbTPo76qKTaIvDxV1QseciCE9TcefOCxs7qfIAfdjDxIVEx+d2OP4bu3iRHxclT5NhF8sjPI3jb8HuFFKducNJO74Uj8dDDThcPrPCef/v/02zCXvuZbMWrLL3XM0erlvDgNK+9x2xYf/lly21vc5YaGs3hzucN51gRxxxuN1+W3OHi6Ve6tVnC1gKpv5w/DlePq+doAeveWCmkffBNdONemTmhA7S/2wcYc8FT4E1O69doAsDMJ0jd6UsBwwF7OXhB39EnTfN37PpbnvqM55ux7zhTfa5eYttl1k8is+AU912Wi5xQF0bl5LedeVSu+wP18YZLt7tVHXdAeH0O7RH6p3flA2v9uAhAZzUTgIb0JHVC//rqdQuvrsw68CNHo/u+3k8Ac4T3lyD6XmdAO2K7SL0Ff7/pKmOfCfON7/5zXgDx8NSvPgUx3+/ffe3d7/3PXbVrbfbiy642R519gIbH/+VI3uIIntisdReWiEhj8zRY6ZrnZ1wxXLbtPXB6DTxgt1yfYHbyQoHN3DplhKWT1nh8DidArow7tInMGveaa8ZaYvDhbPFXgSvZP7kE4fL1/Q7CfRh0yAdnz9iijipXUy5Es/vSOkgWUemA+J4p5DqzLSw//VQahd4PB5qwOGi0+E3cb/PbN7ue9p//G6BPXbOknghj0rH0UR4ueUp1y63R5yx2G697z77pze+wZ72tKfHPzJ2O1KwnYcZqC8GL45zcdKp0plwvOq8duB6MMOavp6jCsI5zvJM+s4gbGX/l//uFNCFJSbaIbNwQ/3LGtoijhpOCN+Re+65154ZHLCjJ73e/nPeLbbbDPYXVrebURHyDjciE2autG9ev8r+8MdrY7vjdSvN6gM7fve738X2eP3118ffLHP7X7HgmHQS2MA1w56gqv/sdDsRHBIcLvYB8Zu4LJ+y/8m3Y3QSlDuz3tQZG/7dDofv2M7Gf+orxgkO16Z7Ntn++x5g73znO6wv2LjXGUvtA1ezxJ3t58v+xDpvH1XtZkQlm2WNf+8THK+X/GyJ3fbA1jjuer9eLncPmzt3bnS4eJiI39QXfw5NWLme2w264HCxH5SbOLb1dBKjvoeLhkmn4UsAhLEujrfciX+Bg348Dsv7cBgY+I2kuF1Mi3NRsvSDHYT53pROtAuduMPxP+Uu47aydw2Hy/fYYRfTyxMm7GK33Hm3veSiZXGGqZ2DGg7XSb9fbHv/eIndeu899vrXvi4Mwk+zu+5qvMNxG/gbEjpIBgDC2OzKJnr+csXbZieAHggPb/B4NrMBzXSjHtlszUwY/+DAb4Q9F3SQblcn2cYeJR7h5g+oGdyGohu2MVPJni237b4w0D37OUfb01/xGvv8HxZl7z6KSyrVbWdUJDhctNH/uX6l/fbq34V+YoJdeumlTW3FLq47+hP24nk9slzHww+dNhOELpQ//d173/veqGtZP34j6E59saTPb+LyP61ce2zH8HhIJ4Bdvj/LHcJUN74Thz2u1FecBQsO1/33PWCP3G9fe+vb3ma3PfxQ6JuW2tvmLo3tgL/YGXfm+vg5KvsLY9+cPRnJHq5JF99sKzdvCX3CvoUjVcbtxPHHMWOPsoex2kEf49dcp4AuOFz4GOwTZFtPJzHqM1zeabAPwSvLn77ihY6dVHmAPrNnz44DnXdyqY7+G1t4bJaLkoHRO0genfW3YHca6MeFxCbxKv3cNvbYMbPCe8b4zXlnnjnTxoVB4++3rrNnXMCmZC5qOpDkIh9FGRccvvfNW2F7n7HMVocB9zWvnmRHPuNZ4S7znsIOh+/UFy8qpL7ckeYpMO6y/cWi6TntBl2oBxx/Zlyb6UbdcINAffnfkBDGnwMT5nukOsU29OBFmCx34jgNpdzdNmbvePLZz90c6v/o5z3PnvaSlweH6xbblafCKtrMaAp7HBlov/XXVXbl3F/HmxWWaprZil28goD2yYDHb4S/MMJZ4Sahk/C6oB59qbBsm4exr4aHdXxvK3LZZZdFZ4V3zfG7k+AmgHffoV/VHjN+0/a4CaW+4taT4HA9cP/9dtAjD7Q3nfDPdluwiVdC7HnWqtAe8huAfMZpdBwuZtN4bQ/53mrHXbjA1m++P95I+96sMl5f7AVlnGDJlN/UD/tI039B6BTQhX6c9/KxTxD9Oom2LCmyoY0LzjtINiKy14lBoZMqD9CHTcj+BE1ZP34j2MKeDC44f+EkDZPpf96CXT6vE0An9vr404dlCEPYY8fdDHd5/Mauc88518bvPN5uWL7antmzNFzU/BlrPkVedcG3WBjMPv7HxbZncLhu3bTRXvUPr7SjgsN1332Nf4HCd+qL9pbeVeOM0AER7m2zE3B9eVoWfdlMTR1U6UeYv6iQza7EQ/ifz/RfEDrJNpbqeb8Yf/eFneg7GDiXuMzesRfR6wwbjznmhTbxhS+3t/+KV5Yw+zoKg1o/Ujhc16+yX15+WXSc0z12ZbCLvVv0J+zl8np805veFJ3LTlt687pgpYIN1VV2eRhOCy9HxRY/j9lYHBpuvvldPred4HBhE/uzeIVJlV20vTPOOCPa4CscD2x5wA591GPs+OPfYHcEB2y3GStswsxbbcKM20J7DE7XHF6COkp7uHKnLr50dfYaO+m3q+3ue++LfQLve6sqb8KQefPmRYeLf0bALuT73/9+8S8IVee2C3RhhottSyxvD3WLQqsZ9SVFKot3ZLCG7x0kdzV0uCzxcLyTQD+mXHnMvsrhcghnTwYXHA3UbWUzL4+td5pdQGNk1oM7nGb6YQcdCA4Xf7ZLPOrtpxf+1HYeP87mL19lH5rHW95X2M5z2riPKwxojzx7he0R9Fi56S477uWvsOc++9mVdzheNzghODC+ERa7WHbzdkhYJ+D6MkDTvq688sqm+hHm/33JrIHXF/v0sLUT/xKG65+lbRwn7xMGA/GwjxlJnnLMzn3I7r3/HnvZC19qz3vpS+yT1yy3cbNC24wDTfskdbguupj62T0+jNLMVuziRpT6ZrmN3wizQty5824uzh1sWbUa9PDrh36iP93oR+kXufF2uygLnEt/EryTwC5uwqgLX6JKbeM7OrMSQhxWOB4Ov7c8uMUOO+wJ9vrXv842BpNedOF8Gx9nW9fbuOB4xbYxWjep5BHz4gW8a+yTf1htG+++O/YJbFFoVubYxtI2Dlf6zwDZlpLsXxCa1XM7QBccLv6yzv96qJMYVYcLqCzeS8VaP98pIL/DZRNls4pvF+jHpkLu3AZyuHhfCRecd6TYcvTRR8d353RaxaMfdycMzHQUzcqdeNx1MhPG3ibiYcsl2Bo6yD/8fb4ddT5/Xo2z1b4lxaxDuc12n7HEVtx1d7jDeXl8Gnbr1uypt7Te+I7wHiDqy/9RHttY2vbNvC7txnXD0UJffwFvFcRlZoulUWbC+E198SAAAxr/gtApdgF6sATDDPfHPvaxaNdQdCM+9cgeMOzk3M333WcveWlwuI55gc28+VabMHNFNthUtZtRknRJ8dzzsyVfHkZpZi9h9IvUNzOWxEPoO5nNY98bcYZSVq0klnsY6HzrQX/1yCDNHl62ljB7RL0xqNM+/V2HnQT6cROWLqGltvEdnVnKp754ryRLivzrwZOe/CT7x0mvtXuDSV+4dpE998JFWV/prymJDtgotM34+gkcrjXxXVzvv2qd3bo+eyrb/7KujNvJig3jn+/1pTz8r47YZtNJ9YW+tENehMzrpzqtLbXF4WLPRfrStHQPR6cVEPrR0HAI/e3OzfDHuHk6DDsQPG0qn0baKWADQsfHXQpLof3ZtXDhwrik6nvssOVXV/7Kdhm3s1371xvtWT08ds+GTC5u7tzaIKET2/3MlbbPj5fYqmDXi158rL302GPtwYcaXzOADdQNsz7UF/Z5mdAOfTOvSyeAvjhQDEosLTa7TtCXvUFM9/vMCPXFqy7SDrJT7EIPls7o0NMXYQ4W4vM6GRw2P3fz5nvtZS97RbjZeYHNuunW7GWTozGo9SPjzlwb9xl+44YVNmvOObbXXnsWm+Gb2cvTbukMBPHoO3G46DP5PZSyaiXowQ0c7Y4b1P7s4r13DIb8DRAOF3F5EpO2zX4hfncSXD/chDF75w91pLbxHZ3PP//8aAOONO/hejCEP+2pT7N/eM0kuz84YB+44ib78FXMuK6P//u60+zQLrlJjTeqLZaZzKqtzhyvOWvtpT9fbPOXr4z6+pJ1FdjGWwS4vvy1TcQ999xzY3/i+187BXRhFpL2lb4JoVMYdYcL43mzbdpBsoeGO9ROeyM7oOPkyZPjksVADheOFjMLbFbmPITNe/6nwZ0CNqAP+0C44HxgLtvGb4QZIGa4mFYnHnV01VVX27gJu9ifb7jRTriSGQTe7+KbQbmTGl0ZP3OVffRPS+0tl86361avtRe84EX2ile+PN5plnH7mfWh0/A9FwiPElc91t5O0IMyv/DCC6O+/pqAKojLJmsG6osuuijG49yvfvWrsa6p806zjWUkHC6us6HqRnwGeJY8/Nx7NrNp9pX2zKOeaTP+ttJ25bUQbXW4brXHnr/KDjprmXVddov9kPek7bN3nAlpZi9hOMfMqvgMNMJMC6sDVe+DaifowQoA7ZPXI9DmmunGjR59Ii+/ZlsDdnENcq7frHYS2PHOd74zzn57faW28Z1wZoq47rj+Hn6Q+nrYnvusZ9krQ1u8Oxx/5YV/t3+5eml0vLN+K/SVM9nPVd+XtUxmrw599Nogffb+3621mxctjGXuD2WUcTu5IWLJ369P6pbXeHCuv+S7U0BfHH/+jcG38qR11W5GzOHyyhmMMFPCG9i9MLiTw+Fif0J6B9EJgo7s9XnCE55QrFeXxWGphzs839SM8BdG6SswOkXQjU6bQTjdE1QlLG2wh82fPsIWZlm44C676hr713DndtjsW+ywWcvscbMXt02efOYC+9J1S+y95/423OEcbZNe99pgV7VN2MDMJTZwB4f9hLG3MN1bUnVuOwTdfMmCv/hpphvh3GH7zKXbxWPcnOt/E1N1brsEB9L/aWKouhGfAZ4bAr4jm++7317zylfa05/5DJtx4zI7eMZi22fWiiDL2yIHzFxqn/7jYvvw75fZ6X++2U774Y9tv/0fEf9cvD972VzOQxz87Q2/ifuhD30o3hSk7wTsBEE3npxkY7n/KXcz2+hH+b9FtlqwREc8buroi3zfYdV57RT2HaerMmUhnNd8cI0xw/zgww+GMnjIXvD859kxx77E7g390DPOWWKPmLnM9pu1KLSLFbZvaBv7zwxtc/ay1kvIb+/ZK0Pe4Xtoj/8xb5397aYbo76+jFtlF0J/g8PFlhJ+U7f+LwjsM+yk+kIXHC72b/EPFEPRbTQYMYcLw6iI9ELjs0p4xJYO0qeT165dG18Q6i8+JKxcGO0SdGEzL08G0VG4DS5pXPZusSfK18Sxj5ee8ncXnehIsjeLiyb9C5hUPB6OGdPp/MkpdiAMFhPGT7Bf/vY3tv6+B+KU+eYg94dz2iGbg9zz0BZbvek++58r5tkznvUc++fjg+MU7zQb2yM2MOuDY+IzRpQB7zjij569Ladl1k5BF94gj75sMq+qL7eBpSri8dcx/MbWqVOnxrr2f0FAqvIZbUEP2hIOPe95S+3y7x6vSojDX2rxUAd28vu+BzbbP0x6tR155DNs+R132tV9d9vv+za1Ta4J+f89tMvP/H6pXbJohX37+z+wRx6wX2x3qb0ubi/77VjKxz5+E5ebVRwu6tHjeVm2Q1xnhNkO2hgbqtG1yjaEJUW2WuB08UQp9YY9nMusLL+r8hptSXXmXYo8rFBlE2HozI0r11284X6QtrjVXhLsfMELXxj7x69fe4v9YsWd9sf1d0eZF9rFtX132R/D53Utlj/GfIKEfH8bfv/05lV23Z/+Ep1c/yeDZsKWC7Za+B5LbMWp5FxmJrHfy6tchqMt6ED74i0IjL3o6nZUSVqfnN9qRszh4ukn9sRwF8BsVTPBscLZomGyL4qKxHvmNxsuiUNYJwl3mSwV8h39kbJdCMukdBrcrXsYSwLMenFOOd12CXrxSblz0aB3lU1uK/VE/TCo+bkHc26w9cBH7m+HHPwoO/hRB9ujYvrUaZvk0IOCHGr7P+pQG7/b7rbX7nsG/ettcmGJmEGeO3KWo9x+7MRp9t9pubVTqAPaFfWFXlX15eHExS7icy7hXHO0Teqc3+X02yl+3VAf6I/QEfIeKt5ozUwkn82EGUmuT2bI2LD9xc990Z56+OF20CGH2ts+9Cl70ls/ak8MMvGtH2uTfNyeHD4f+/ZP2Akf+7S9+h8n2R6P2D3OVqE/jj+f2JnaytN+9IncqUe7gn3MClGXvKaAMOLz2W5BD1YCaJ+87qG/OuOvZFgWZS8a+4L4zUuvufZOPPHEoh47QbADfbjhpp2ifzPbeOEr7fid73inffkLX7Avf+mLcWXkcY9+rH3+i1+x//zyF+zzIc0vhs8vfekL4TPY+WXywd7WyhfjZ3fQKeQfvn8ufH7gAydFfam3/uoLJx/H//nPf34sC8Rt5V2G5fJKf4+2oBvtieVfnoTtzy6OsZ0Gp3/MOVy8q4nOnI1q/G8bwrp3f9JfHE+jE4S9ZVU6Dleq8hgtqdJnMJKWAd9J6x3xd/j+zncHydIu5zea8s6gw7tyHdDrHaHjc51cd5eqOiWeh1edQ1i7xPWq0ruZpOchfCcsjYOk+Yy2eP5lu3C42PiKI4XTwY1Lf0KcIt4eeXj8JHzPKLvvsVf7ZK9cv/B9j6ATeqX6DyR19uW/0+OdJMPRrZPtcRlIR45zs4bU2mAIC5977u71HtphbJPEJ9zDWi17hLzCJ3qRd9Bptz2Cnrnu/Ynb7fbxOVBZtFMGo5vbgvT3mp2RZsQcLn9Xx//+7//GdXleIinZvoV67tS6HqxuHqccd3uwa7BxO0VSfVkKYLacZQzCeNS7mfhxP79Kyue0S4aiW3osjdvfOaMtrldZv/R3lTSLQ92nv9sprl+qU5XOqfjxNI5/rzrWLkl1KUs53kCfZSG83ZLqUqUbs1rsuWNWla0XY9Lh4kkjpop5QgBh75KLh20Psr3ZsyNLVV2qftsnXvY4XCz7vuxlL7P/+Z//icI+NP9eDkuPVYWNVSnb0Ok2bYt+nWzbYHUjXipVcTpBXLfB6JnGafa9k6SsY/m4h7Mcygw6/z075hwunlpjzwgbC3nvFMKLJyUSiWQoQt/BwzPMcDH9T7/C/i6JRCLZFqEv8f6EfWnMcOFw4WyNOYeLJcVvf/vb8X1VPNEnkUgkwxFfUuS9U7zkUyKRSEZSzjnnnOhwzZkzZ2w6XHiO/KmlT89JJBLJcIRN8zytyBNU6k8kEslIC2/Yx+HixcIe1mpGdA8X03SpwyWEEEOFvgOHi9dX4HCpLxFCjCT0KfwjzJid4cLhYobLX9InhBDDQQ6XEKKV0Kcww8Wm+THtcDHD5cqPhgFCiO0Pbtp8SVH9iBBipGGGSw6XEGKHRw6XEKKVyOESQohA2eFSXyKEGEnkcAkhRCB9SlF9iRBipBnTDlf6WghXXp2kEGI4lDfNqy8RQowk28UM12mnnVYor05SCDEcqt7DJYQQwyX1SxAcrjH7Wog//elPxQyXd5ASiUQyHMHh4k3zqcMlkUgkIyX+4lMcrtG6qRtRh+vAAw+MDhedpWRHkq2ZbK06NooS8ucvYbbyGfRBKuNJOl7oAN3hyup08HW5lc+tD+WfucT2kH2Pnw8+VHfOqEjUg3zz66UqjmQ7l/q6z9riKAnXUHottOMa6BChP/H3cI3JN83ffPPN8d/92XfxlKc8JcoRRxzRIH7s8MMPL773F9aJUmVPlXSqPQPpVWVb+ZzDoxCnnBZh7ZGnossRhwddnxZ0e3JyrP+2iKT2dWK9oS96Ia57aotL+byxKnSK/BH+c57zHPvoRz9qH/vYx+Jnf1LE+ViQj3/cPnLKx+xjHzklP86xU+yUj3zEPvTxj4Rwfn8kP9Z6+cjHPhTy/Ej4PMU+hi5N7MEGt6NscxpePtYuSfX4SLAv1dHDXfo75uEuVcdHW8p69Kd3+XtV3I999OOh3mkDH471Tzv4MG21FK81Qn4ftY+H6+HjH8ny92OpzlV6p+Jx0rruNEn1aqYj4f/8z/9su+66q51//vljb4brgQcesJ/+9Kd24okn2tve9rb4WSUce93rXme77babPe95z7O3vOUtMWzixIm2zz77xN9vfetb2y7ogbz2ta+13Xff3Z761KfW2VC2CaEC+XujJzzhCYUdkyZNsvHjx8d0PM1yXqMt6Ioe6HrwwQfb29/+9sKGKrv4/rjHPS4uGROXNN785hNs//33tUc/+jB7y9tCXNJ9y9vCsXbJiUGCbm97sx370uNs3PgJ9oZ/el2DHQg28Ol189znPrc4/oIXvMDGjRtnb3zjG0N61eXXLqEd4nCV7UmFcOw74IAD4s0Pv6nr17zmNfH8o446qiPaoAv6PeMZz4hT++jlduFwMbtF/QxWdt555/g5YecJNn7ceNuV3yHdnXfdySaMHxe+7xw+kfCdeOMmhHYyvuUyftwutvOEnWyXncPvIOND/uPG7xp1oK25/mVJj/HdBTu5M0/jdoJQh66z61qOk0qz44M5t9XiOrge3raqBLuRNKysP/W1SwjbZcIeoS2Ms11D2yN81zxeVbsZSZkQrodxId+dg547Tch0Hh8+Y94lXV3KZYB4HXtY2e5OkKr6KIvrz03d+vXrx94MFx6iT9fxvT+58cYb4+DN3wD5Oe9///uj8XfffXeRhhdCO8R1nT9/fnRK/uM//mNA26i4Jz/5yXHAwAElPjN/VOy1115bd35VnoOVNM+q4/2Jn4cuOLmveMUr6tKrEuIyEPrMA2H3bNpkzzzySPuHMJBf33eXfeXP6+1Lf7ndvtTbJvnLbfbVP6+zv6y702bOPisOtKtXrbStD1XXGXb8+c9/jnXzrW99q1i2+vGPfxzDli9fXldfSFV5joaQ95YtW+INCU4IepV1cyEcO5gZetWrXlXE5Snigw46yP7rv/6r7vyq/Fotqb7o+ulPfzoOSJtCmyofu+222wq5/fbbG4Rwrju2M3Dn2tfXZ+v71tlXv/bfdtD++9vll11uVy1cZlfdstTOuWGRnfdXPhfb2UH4PDeEtVrO++siu3rpSlt1W5/dsnSZHXPMC+35L3he1LXKNv+9Zs2aeHPKzc6qVauinX/5y19i+zz99NPjbz+/XYINscyDLm9+85tjH3HTTTfV2VEW4k+ePNkOOeQQu/rqq4tyoC962tOeVqSZ5tMuQY9LL700lvnvfve7+Ltsj8fDbuqKmzXKg7Bf/vKXRf9/zaKldt4Nt9i5f11i54Q2MWcU2yBt/+wg58X8FtvfV66yxz/+CfbqV7+6zt6yXS60w6c//enRJmxbuXJlnFFnksFtTeO3S9ADv4IyX7JkSQxLbSrb5uM0/Q19U6sZMYcr7VD7g+N/+9vfbP/QGU6dOrUw9kMf+lBsrHfdddeoGD4Qbsvf//736HB97nOfi3r2B5XNDAR36vfff3+MT6XjTf/2t78tKnU49vl5iKczkD5VpOkwA8IFx/cqPB75nHTSSdEhZhAk7N5N99lRRz3Hjj3uWDt7wVrbZeZy22n2Wttp1q1tk71mLbPv3rjOTp/+fZuw827WFzqChx9qtM3tuuGGG+KFOWXKlMJONlBSX7fccktsm50AutGe9thjj+j4e/1XQTh6v/jFL7bjjjuuiMseS9rxV77ylfi72fmjDXowvc/s2+bNmwvdENfdpQrCcUYZvOlDHgoO9sMPb7XvfOd7dsAB+9uVf/i9/cfvbrYP/G6x7TVjoe0xY4XteuYy23XGqvC5PAi/Wyu7zVxl+/xogT1jzk12/Nm/syOe+cK6uqmyjTDK401velPsF7kRJYyBjjY7ffr0hvJpp6ALDteR4SZs7dq1RbhTjss1R3vs7e0twv7pn/7JnvSkJ8X2m8Zvp6AXT7NR5tw8p2Xu+G8cZFY3jj/++KKf5EaHc5lkuGTpejv6wkW225m32K4zl9huoQ3uecbotMGsrSNrbK8zlthp1y+zRz/mMHvDG95QZxPi+G+O+0w03xHG6Wc+85mxfZbPb6egCzcjLBXec8898XcVafxmcVrBiDlcgwUjuRN45CMfGS86N5hOlz1gneZw/fWvf426fvnLXx5QLzxnHC46Hne4VqxYEQdwLlp+e7pDhTtb7rQQ7ppwWoeTjuePLji9dHLN0knjfuADHwh3RI+PHQm/77v3Hjv6uc+xY8LAPmfhOtslXNQ7z1wfHB+crpEWHKqq8JqMm7nG3j13qV29ps/+53vftV1CJ7dx4532UIVtbhedIJ3h1772tWgTct5558Uw2ii/OwF0vffee2Mn8oUvfKEYkKognOMvf/nLo9OFDYQxsOGUfP7zny/COgF0wVFi9s4HqWZSBeGcR99BGyW9hx7aGu5yTwvtez+78qqr7St/WGCHn7cktM9bbdzsW23nWX027kza6pog65oI7co//fswJeS55xmr7IU/W2w/+NNNdvQLjrZXvfofi3qoso0wHK4TTjghOlwbN26MYQzq9Ce8fqcT6tH1Rxdmdliy5sazP72Iy802s5L0a36+O5eeZn9ptBrPH71+8YtfxD5h0aJFTXXjN44mqwavf/3ri36S8YNzueH55dJ19uKLl4X2RxukTfUFoW+raDMjLTNDfrHtrwuO3go7f9E6O/iQg2P7Sh3cFA/j+Hve8564rQabCGM2+tnPfna01cM6AXT5zne+E29OGYOb6eW2uYwWbXG4FixYEGdX0oGOZQXeu+Mdy3Dx9FyGm5ZXBMtO7Ifp7u6O6fXHnXfeGRslHcd9990X469bty52kDhJg9WHOEx1cjeLU7rTTjtVCktEP/zhD+2OO+6I57jN/eF2MSuw1157xbuxwZzDoPjYxz62yAP7nv/859tzjz46OFxrg8O1KlzYXNTh4q4TwhjY6GDCIBfCdp65OnPOwrGs8wkdz2wGwPA9DISE7TR7dZDwm45iVvgewnCqdprZF47n6aX5hOOPnbnQvvyH+fb1b021XXbb1TbfW33BeVlxx8pa/1e/+tXCrgsuuCB2kHSU/N4WPJ+yDBXS4bpgHwnXzEAOF3kwc8keSeLyG+eSa46lHH43O3+0QY/3ve99cfDlu8tgIS6DGzMLzMJG2x7aEq6LH9l+++5jv/rt7+xLweF64rlLbbfZK2ObymZiszZT14ZiOwptcibfaX9rQluj7fE9a4PxGOLO2hzSYND0m43GNGmv+8xaai+9cKGd+v/bOw84qYrk8bN52UQQEDF75pyzngFzvtMzcWfOijmLWU8983kmwu4SFFBBBFFEggiYFZHMsnnJCqIgkurf335T62N4M/Nmd2Ye/v5T+6nPznuvX7+q7uru6urq6k++lz333d8MVI5lIRLAFwMGloWtttqqsY2jzCAHDCrR5CCVAA3wgp8q/pAs1UQD0j777LN2IosiwvsgPn3I6MYin8oXvsn0E/X19Y20uenTa5bWsNCdeOKJsvr3VbLGpJ0+Zargrzfh03EydPY8+eentaYfMzJiJ6coXCE5UnkJyVBmoww6/aSTjv+OHGpfau+ZvJx+Egyl1/wa8wWdPLB0vT2jXlqbCTfy5ac/weUHdxlNi/VoP9P347bA81jgVW6xgHfc74Hue17AfcbM4uLiqOmCgkAUrpkzZ1rlqlu3bo0FyJIdnW4iFC7ef/vtt60yATYFyIO8Jk6caC1Bao2LBljnULgw06rChRLGAM5AHut9BdLxPTokL0UrHLGqvfHGG/a9WN+AL5DZM34zLH/SiKIB6W+55RZrIdFv8P7BBx8ie+65p/SdMVdyyiMpXDT0UEdgkc6CQcnM1HvXSXbvKtMBzJHCXlVSUFppsFpyS41CZtPxrnnHKFnOu2bwohOy1+HfmCu7vF1lrW33Pf5vKWzZyiiVKFwbloeWATNWOlK3HA4bNswqyDoQNAf0Ox9//LGtnzFjxsSsHy8gDwYx6Hrqqad8dZBYLvHj0rQsjdPmbr311ibRkCyAtgsvvNCGgIAuriPx5gWkReHSzQTkAZb2KpXWRYXyvinzK0bPkqLyKjnmQyOjRjnKKvtDZtaTIYvcQ14XWTnLsLK22BkgrZWANCrLDHTmmjRGLh3lbMM2kGUmCv8cVy1HvTNVvqmfJ7vvvoec+XdnKSYSwBeTLsoGq49ajZYsWWLlAAuRllfQoHVwzDHHWCUfWeVeJNqgm/BB+PESMFvTXnDBBXZyG61cUgnQBC20XazLKFRKm5s3pR++kUM246wKrXBUVswy/X+OjBr9kdz75Txp1w8LF/Jl5Mwq7k6/1ohWZlD6jXJkZZV+0KQJTUgzrWLFPdKY31hqeUfftfc1nzAMKXe55TXSf0q13TSFfEXqT5Qv+Ljqqqus9c6tcLHB6Mgjj/RVX6QBvb4TCdzvuGmJlg/377///kY5ipQuKAhE4cI/BmvJ3Xff3ViI+JZQSHQo3IunoDS9Ig7POG+qQtIUIB/oGj9+vFW4cKzmXjTAzwKnT8ysun7MPRSbN998015HAqWdTrZ79+7rKVQgPi4oPCCKKZ2u+zmzXpTMWDQqXyxRkcf5558fU+EiPZYRFEB+kwcK12GHHSY7G357T2+IoXA5g5MdyEwnQYeT12OGtOn2nrQ98TrJ33xnaZFdKBnZRdIip7W0PeZiKX7oXWn54tcmLUuVzPTIm84GCxkdTvh3TJ5ls2Ta4p/l/m73SetWra2lw6s8uAdWVlZaZRg51I5kxIgR9h6KdrT6igaaP3VZVlbWWEd0xE3Jk7xYSoIutWxEyoe0PGNZGydX5QurMm1OA4l6gdKtmArgO9CKfyB0xftd0jPYqwOvzWPtGundu68UFRTKBx9/JP8cU21ko0rOGFll5MSUoypcXmgHQeSMwaneKEv1ZpCrkeyyejMxqDHXdXbQyyxzBkTH+oWVVq2xYfkZxDJ74OAKeezzmVK9aKHststuct4F5zfy68Uz95CfLl262OVSlqtIz1IOk4THH398g/LSvBKN0UDTQOsRRxxhJmEHW9eKaO9yHx80rBA4kysfWCi5h/U92vvRQN9zv+u+577vB0hPGy4oKLCTZ68602uskIw77AheueI3WWMme/XVRlZMux36/nA5bSQyE1LSrewgL/SNWEFB57fTzxklvq+RPSNXuT2rpeULX0nR819K3ouTJLf7bCOHtZJRhiuFSWv7RiYG5OkoVeEyaNGlcPX7fo5VeClz7SPCQfmCZ/oNLK2alvEDl4VDDjnEPvcCfR/ZRWG76aab7HU00HfAuXPn2okvxhjeB/GxZXzHoOFOqwAtrJapccD9bGOAQBQuHMmpPAqGQgGfeOIJKwBNVbg0H36j9LiVkaaA5omzOwrXiy++aK+jAUoWjoWYlBFI0iMYzI569+4d9X393ocffrge7eC1115rOyYUBJDBc9y4cVbh0TQoXGqOjwV8C2sc77A2TyOKBqRn1kA5kD/Xv/22wnSwR8r2ZkZXNq0+usLVl47ENHbT0WAFKHnmc8nbs7NktWwr2S2yDP2gm2e27WZLdscdpei0W81gWR0aJLWD4n/YNwyiiPWYvlBuveVGabdJO1ljHag3LA/oB/GvQ4m54447GpUYrFHc000OTQHeA6lL6p5yhi8UrqYAtFZVVVm6cAjVOvAC7vMcaw+zbU2rkxx28nHPC/RdfacpGC/wLaxxtFn9bjxAeuqOdseSlnWaX7ta3nhzgBS0LJAPRoyU+79uMMpSnez5XqWRE5YJjbxEGpQsMpAtsANTq6fHySaXPyNZuxt53fU4ydn1KMna63hpe3u5FPacYxWyFr2RfQZTr7wMGnktKq2WR76YJjULF8muO+4il1188Xrl7AUoHhebdChcKNykpz8hpA4T1PDy4jf36Ctwym8O4gNI34Dy5AdY/mQABlFMogF0shsYlwad2ID44Ll9byKVSzTQMgAV9F5T8iQ91riioiLLl9f7mi/PUfxZZlv+G/3/GqNszLVhSAYOGizXjjGKkpFDu1zYl76Q/tIoSVZGQkqX6cNYgs41Cn6bh4ZKwXFXSu5Oh0tuh20Nbmf6xO0ld7sDpfDYq6TkP2OMQlZjJ7EtdBJq5TqCLLoUrvJvZ9klxcsvvzyiwgUob4zVyKGmRQ6xbrGs6C5rN5AOlxqW++n/sKjFAt4hP3xO9T2QPlT7UcY5fM+wKGq9KvBb3V+i8RUUBKJwoTRQmNr5g88//7yd3ajCFQ+QHsTs3rVr18ZKUmwKkB90jRo1ygqKDnTRACGk48d/Rre4M/umE8FqFY0v5YEOVulmgKVctIzCkRkVS6akVWFkrT0W8B3eJX/8ZxDMaEB6ljCoH6UTCxcd83Z/+YuUTq2NrHCZe47PlTOjK/z3J5K7+S6S0cKhNxPMyJQWmUbpysg2mGPum8Zln5t72flSdO4D1u/AmtnV78HO6tb/zmb9quWTuUvlmuuul806dpJVpowkyi5FZlCUwc0332zLgDJlmzoWBN3k0BTgPRQcOgatS7A5ChfL8NDaq1cvmz/3vID7PO/SpYvd5KBpKyoq7CTn6quvjvi+vosc499GSJR4kElGvMD3sAiw/BmJrmhAeuoOB16UBH6vM/m88867pt3lytAPP5K7vsJKNU+yy2sdObTWBeQmJEONvw0aOcotr5Lim8qkcJcjJCOrpbQw5Z5h6zDT+U9by8qXjKJ20urip6Tg5alGxjVfjzZgkAH00hGTpdYMQPjCXHPlVY38RqoL+g6UEJZbmRyQHiUMa4vX5geuQfxF3XLXVER5wDrhB5AZrFuHH364dQuJBtDIMh39oipc1BsWDCYo5BWpXGIB/S4bXnB0x/cKHDp0qN2R3NSx5emnn7ZjQCRFUmmFbyYORx99lKz47VdZu8b0s4sX2Xbbr/8b0m9WrZEt009a/62G0MYNlRlkzyhnZbVS8NL3UnTq9abvyzOylitZpi6yTH+YGeoT6TNbmD4zq6ijFJ92nRS+8J2VP9vPli8y/aS3DKrClWMUrp5fTrM8oZwgZ5HKRXm76667rNXIti9zTVsnjAcuJdSfF6CsMwnSscmvwsXGJbcc0o/iqkM7cN+nHYVvsuM3Yxq+dNH4CgoCU7hYD9bOH0ShUbOtn0IiDajv0yEhEAyW7koBmwKaN0tMKBrMyLiOBszM2BbNDIeGr3kwO8JCFo0vTUsnpHR37ty5UWgiIZ0TA6u+g1CTjz4PB72PckpHcOWVVzamjwQ8Q/GjfjQtCtcxxxwrW5lv95xcHWNJ0XQGpkPJ6VUpBfufapSrFpIDvZmmIWa3krZn3SqtHxsuxU+NlbZPfCwFOx5m7qN4oYAZZTKnUNpe85zpoOicQoNl2Lcyy+vl6s/myLiGn+Sfl/zTlAkzHG++uAcf+GRQBuyQpSMB2caNDOkmB7+g5cJ/OhoGK60TxeYoXBrCIta5X0oD9eqekWIhY5KjO/m83uceyDewNiNL8SDKarwALShKujThRVc0ID3vobAx4Ns81q6Rd4cNl7y8fHnn/eGyefkMxwqgcmPR/LZLO+a3/g8tN5ac+6hk5BXYQc0Z5MyEwPzOsIOd898qXQyCZkKQs9Nh0vLlyUbGI7WBBinsUSf3j59pFK55st02W8nNN61/RmQ4cI+2jwWCAYf6Iz31Sd24VwcUtCwSpXAxyPlVuBiADzroIDsJw40C8OIL4D6KEJY6XDaULybgyLj2nZHeV+A95Rl87rnnrMwji+SjfOA6wS5Y+mb6cz95A5o3G6bc7i7hoPnBNxNuyuCXZUy4V8uyX3+R7Nw8eaW8XLp9MU0KelZbGWGp0MpKOf6BRkZCylDx819I1pZ7SYaRqwzkztCfQT+IC4m51yIT1PtMtHMkb7sDpPD1KdYq68i5lwzyDce/q2WvanltwiRp07pVY98XjS8tA1xZSMs1/T/jE24LyCn3ND1I34oypnUAUi9e4H4PZLy1/Jk2hl8gVjLKnjzxg6UuNU8MLPqe5kUcTBTfSHwFCYEoXChHaKfuzp+ZO35KuhsnVkHxnHdpnDQiOgetJK0MxaaA5s9MCQEoNw0mFk34MbAtmgEEzZv3QQQklg8Yz4YMGdJIM3wwM4sGvAMy+9D36MQwx2q5hoO+oz5BLFcimNGA9K+++qqtH2bY5E2Dw5K35VZbSfdJlbEVrt510uZuM3PJyjMdhTNg5W13qLT6z3jJMbP/rJBJnN2LOM8Xn3u3ZOa3tgoX1q/szXeX3FfMwNmn1uTl0amY65yyauk180c579zzZIe/7CCr18LrhkqTlgGKEZ0xszztSPAZwOfuvffes2n8Amm1vnHC95LD5ihcGqR14MCBEesW4D7I4EWcI02rCte//vWviDM/fRdLQzjtfpDOMF6g3Fkap81E4ysSkJ482DGryxvgBx+OkNzcbHl72DDpPKzSyuB68mJlBr+r0BK1uUZ+iq94UrIKHbmzcpqZJ/mb7yT5+58iOUedLy0POkNabrubHegcvlHGsqTktFslW/26wr6D9WGPgbPk28VLpaphrmy+5XZyV2i3aCSAL+qJumAiiRuG1g+Df/hAA/CbPFF86Yf8ItZB/jOgwpPKLhtqaOd+gH6YOmCA5Dfgps0N3Kevo50RTBSaqUP8hPi2X7cS5RekH/Nqc+FIGpZKmRzHAs0fH0/aEhYsrsNBacWlBAUEK9+yX36V1evWyG8rVho5NArX66/LKUMrZau3ahplwpEVI399nQ0XWPELjrnEKPXZ1qJlLfxZ2dJyh/2k8LQbZZOur0m7rq9K0Zm3Sv5OhxjZzLX9aAbyt/fJkv/aVJMfsuwl6yDL6fPk1A+r5NOpM8241kZuuulmy5NXWStf4JNPPmldSqgnrpno05/htsCYwH2tC5Ro/JjD6yOawqXvXnHFFY3pvSaHXDMhhBbyZ2Kr/tKK+HKq5c397sYAKVe4KAS21+JcqP5D3MPEjLKANkshxSoorSRCMIRbteh43ddNAc2fgRdfA+iLRROCxy4dnEfdChcd5GOPPRb1fZ7hl4VzOjQjTLG+x3OQmZ3y6lfh0gCKdNzUQTQgPY6jmPvpgLnm/wknnGgVrte/mxNF4eJenZlV1UpmQSfTSRg6Q5atNq/8IBl9q6z1K6P3j2Z25uzysss/pXOl4NhLJKNFjsEWkl3QSorvGWw7J2c2GP6teZJVWi/9Zy+Sv515hun49pA1q73lSMuADhSFi0ZOGXCPcBCUITNwytAvaJ7MGMM3NCg2R+H67LPPbH0NHjw4Yt0CSgcBUt0+d0xycExnJ1g0hYv08O9FfyxsisLF92ivjv9V/B2k0ozvENYFpz9ZJ6PwxcsxCqoZ2C8fXRka4NzyYtAMQlmlRu768nuutLm5TDKzih2rFsvcOS2l3aX/kbyeM4w81pg8jFLWq1ryX6+XkvPuMTwzeQgNKrkl0urxkY6FIfw75QuluOds+XntGqk37a7TZp2MUn6/pTsSKF+0TxQulqi5Brn2WhrWd6hf2qcfZOAE2cXq7kcJaslA5rc+6O8ICYHVQ5eWI73LfaxwKFyjR49u5AurHW0nltO9gqbBX1HpjoaqAPCfZexYoPmzQ5vlrPDlKwVNB98oXMgiChcWLsJDFBW0lP++/D95d06d3YXtWFdxjfhDVvDd6nD/EMnILnQmmVaRbymbXPqskbdZJq2zBJkdmpjm9qiSTW5+TTLyC0xao/xnZkurq14yz5hAuGRP0d43E9uyuXLLp3OMPFVIK6NwqaXUiy+A+zxXlx/tJ+GV6PNM4lBetQ5ZzmOc0DJnZ7T+jmXhwprqTq8y76ZNv8OkljTIC7Ep9T6IDzXjML/d724MEIiFi2Mq0Ewx/WkhsW5LA0QZ81NIzOKwuGjlgFQ+ihEzJff9poBWFgMcy3wccBmLLjo6tsoyY9dZGvn4jVQfL2j+KnygKlw886JX77OsSwdLZ0Ijigakp1xJr4ok1rxTTjlVNt9iC3nlm9nRLVwGC/7zibTIY1bCrCxHSk64zFoEnB07xN4K7bIJzdDYjt/qmudtR2J5M+8U3tDdPEPhWmRw/fwZUA99v1rGNSyRE045WfbdZ29ZHWWXIjwwE6fB4jenSgjxqqjvWLtKw4G0DB4oOVoXWDbJXzv65ihcKDPupU4vvgDug2xy4PvaQdKu3MdOeb3PPTo9pR+k4yLorx/EiuYXlE7oYzbqjlgdD5Ce95jk4KZg81izTj75ZLRRuHKk31vvyEWjjVIfya/Fytpcye01R/L2PsHIG8uI2ZKZVyJtbiu1vleOgs/uMuTUkT8C/bY6r5tkZIYsXZlZUnTiVWZAw8q1/jfwrdl2QKU8/sUcqTR93yabtpfHH3UmYIrhoHzhX0j/gY8c1yBhIhpjjnm8Gw/wvi4Hap0zQXRHVY8GPAfp71jWRcZR5PS+F5Avm1OQZzaWcI0cYEmivbB0FO19Bd6jPaiiSDuDdpa/sOBrHvBC3C/KUXkE//vf/8bkkedYz/B/jOSbpt9B8UBRpSx/+XmZrF23RtYY5b+ouEj+/fxz8vL3FZLLiRz0c7b/cixOyGZu95mSv9PhhgcULYNZ+dLmiidNv4rf4QKjbIV8YfsaOTZ9JjKbXV4jJSdfZ94xMmiUtJbb7i35ZRU2fbgM6rI5mzyuH18lU4w8lbQqbtyhHQ3gjV2lGB60vKhjwh9RLvzGgd3tRoEbDSFoCLOj92JZuDA48B5pGcujAatauiGJSSTvK7Kk21QXhWRDIAoXjYE1VraDayG9++67dgbPlk/SxCooFCH3jIUlCd5BeMId55sCSgOhFlDsMIHHogk+ULaY4ehsiHv4YOhMIpGgNNLJKa8ItX7Xi159h52OlDc79LzSuYG8WMoiPUu+XNO5nHba6dJp883lf1/OiKxwmY4l0yhT2eVV0qrXLGnX9XVpf+ZdUvz4GNP4TXo6HnWEtx2J6RTKuJ4vbW7tIy2yi8VxWM4yCtfr5j6dlUeHYr5d1GO2fNKwVP7a+UQ58ID9ZNW6VeJV4loGzOzprNXSyj0i+NOxYNGLp754FzlUpC7o0N0KWHMULpz4mZAwUCn9XqDPGHTwuUO5gg82CGD+J7gkdef1PvdQrJVeEOU9GaB0Uu7uyZcXXdGA9LxHJ0vnz29wwoRxkpWdI73f7C//GuNt4bLLieVGeTcDX9vnvzPybSYD1gKbKa1OutpMCEiHsmXk0U4EjLLFdV9zbeS05SvfS8tt9pScFkZJM3Weu+1+kvcay97rfyfTtI1DhtXIsW9Pkel19dJ6kzbyH6MAaBl48ax8MWgR4BilQe+hWHJAOb+93o0HeJ8+wF3n+NNSL37y5zlIv8CyJNaFWMt15KsTCAZkrvkeE0cULiYHfoB3WD5ytzn6KeghTzdyjwHdPUlHMVL6IwHvsrSFAkCf7gWah7qUsLS6ZNnPNizEatOFFLdtLQ8/+qS8NskoVT2NTNBPorxb+TPXRokqfnyUZBW1sw7y8FK4y2GSb5QtGyS1z2KD5n9fXDP+6GMzjXwWlFZI/mZG0TFym5lZIO3vHSAZUcKe4Ot6w/gamTRlihSVFNmJUqwy4Bm77Ck7nZiiZOnJAFhCGdMpIy1bldcJEybYOuVeLIULtyLSwT8TxmhA/oyrWu/af5OP+hLye2ODQBQulg2Z1WqUc5CZChXjPj4hGqBwUdA4qGONYPah7yXCwkU+0EUDRpPGbBmLJp5DD1YBdf5HEBDKaPGP4gXyVXTHeQLZLut+Hg56H4FFgWK3k1c6N0A3/mTUDxYQ0tO5nHHGWbL5FpvLfz+fLvmlNY4yZAemsIaOMsV9M0gx8Nmt9KYDsdujLaJEhTqUUPgHOpaiCx4yPOWJ3clY2F4Ku5k6t+mMchf2HXu0z9g5Mr7hRznksION4nuoM2hEKQMGBqxZzJBsWsMnSyuYzvWsumig+bABgRmVux7wlUIGcHDWe81RuBiYULgIV6Hf9QLuQzc+F1g76Ri5ps2hcDHJUQtEOHCPpUilF8WT8kgGKA/QRkeNlVHvgX5B82CJiKU2frOk+PkXn0t2Zob07NNPLhtN3KIaIyPIIMoSCjuyiizVW+tB+y4PSEZmtuConJFVKCUvfOXIpk0Xip1kJwb8N/fM/6zSWik6514p2usEKTjtJim47AXJeX22lcf1sUHyetXL5aNmyOyaOmlV0kpefumVqPwqXxoQmokA18gpCir+VZHe9QOaP4q81jfI5EPz9ZO/pmEZEKd0jvfRQTnSu3yXFQr3EjnIiQ/xTLp5Hj6hIR991wsZiDU91hS9Hwko7y5duljrsG4G8ALywKWE5XH6/5+XshLgLG+3a7OJ3HPf/dJ9RoPklCI7TE4dOWKZGrksvPstycgtCC1nZ0hBl4dtX+kEQMUKZtJbGQSNHIf+Z5u+tODEKw0/KP1Z0rrzRZLVmxMVzPNwNOmxwN74aZV8M2mSFBUW28Pso5UB9ylTJmL0P0xSuaYPQQYZ2ygX6p8+j/FIl6JBdqFqecdSuAgNpWlR8KIBLjHuzWIalBbEyqgR8CPxFRQEonAxQOGoyRqwDnSEX2BA1zPsYhUUihmzJK+0iVS4dCkN+mLRxHMcyTGtq/M//OE7g/NrogSAfMgXKxWzX+WTGQjPooHyxdIZ5U0nF4sm0mtAUHyBSL9q1e9ytpnhdNq8k9QunC9dxpgBzXYCYY3cCxvToXjRmZgBzVq1mMnNk8w+dVL0v6+k5bb7WFM5DqS5W+8uBS/9YNIyYG64pEhnUmhme6PnLTXlv5ccdeQxss5ML7144x5IGbLshtUHHkHkj46BE+djlQvPUdr0+CWdbeHLohMA8tL6aY7CxUkFKFA4pEaji2fwgc8Fcqs7vmhzDNTMSiMpXLzHMoHSy0YUZq7JAmigDvCPYeMC14p+gbTQTV+CcmsHezPIff3tNzb+UY+eZVI+Y64c836FGZwY6Ige78iL/W+U/IJeZrKQg6M8S1PZ0urwc+zh1sgYuxZt4F3z2y5Lglb2WF7E0Z6YScg+ztAMjihoIZlslM25UtSzSl6aVCmzq2uksKildC/rbiYDjnxG4pf7WH0IOPzdd9/Za8qLAUUnq5HejQW8C7qXErGIEsMr3jxJj3zpqgU0RgO+S4R55FM3gYD4udLHEMKEPP3QobSDaq2JBm5/VzBaep7BC5NYfI5jKVykZeLlbv/wRR+NpfLuz+dKYZ/qkGWfPsz8N/LCcWYtu75m6KH/MJiZI63v7mufWflhIqrK1npyZWTSyFZeF1xKCF2SJZklW1t5XC9dY3p2RxqFa3y1fP71l2ZCVWRProhUBtxXpP+hvigDeKLfw3eOeFfwqnUIugHfUy3rWAqXhjiKVS8Az7EmkpZ+V10tQCaW9AdK+8YEgSlcCCUDEEJKIWHuRQGgY+HaT4FruvC0iVS40LQRtFgDHUB6dmdgvVPHTwYAZkfM4P3w5QfIh7hMCJabTw2GGAtIg3M45U3Eaj98odzSGfJdrlcZvv5+9jmyWaetpXrefPnXGDoSBiY6EY/G7kY72DnO8Zi4ucYnho6ioNdsaXPNS5K35a6mA8k2jcnwltNSWj04zJnxmQ7DDnwbdD5zZdd3ZsvkH3+R3XbZWToff6yRLco7xIQL4BeED3w+UEL0HpY/Zs3E3olVLjxnhuiuA+oaqxB58zxRCheKvztuUSQgLc9RGKlfVfz5jwKFBQKfHe6FA0sm7q3czBKZ0SYToIMBCV9Cfiv6BU2PoohlEivDOlPvkyZzaHCe9Hj1NZm9ZKl0+ww/QwYiZIdlQvxizKDXb54UP/yB2JhHbL9vkSmFVz5vZIxBzpEzfA3zyyqlZekci3ml1ZJTSmyvUBBVI3/ZZcgm1gsP+Tdp8spq5cHPZ8mMykozMSqQN9/sH5Vf7lGPegIHu1S5R3+pmwz47fWuHyBvrGc6SQA1LmI8eZIWVIVelzqjAc85tBr5ZMeZjgEM/txjIhkrDwWlHVSrXzTwq3ApX9DG4I0zvO6+jATQjEsJioD68PI+juD4gfWvWCTt+lU7ctI3pPDz20wgC2941dBDKAt2cOdIq7vesYpWVpn2dd5yheJWeP4j5j3q0ShcrbewsrpBWpteFa4qGf/5Z1bh0t3z0coBvnCpoW402CgKFysDKFy6msP98HziUbhYHiYdMhmJHgWeY7RR+XUrXFjdyIs0sfJJNQSmcLHOjd8VCgmFRPwjBnRmPl4VFw8kUuEi/hZ0+Zn50biYDbFbCh5Jzz0GOs6sag5fSg+IUoBQuXkk0BubEWLlz3OQ8AfwFW2Go8A3aTg0OFUmVq9eJeeec7Z06riF1DQ0yKXsBLOBST0a+gZoOg/TmTgBAOdJwTMTpfWJV0vbzv+UjJZtzAyPwS/HNqbcTXaQNle/YBQyDrxeGHovtLTjztN0XO36zJTRdT/JdtvuZDvJteu8neYB7sMHnSGRzrVscU5GAYh2dib3eR//BJZ7tA50c4UbEqVw4d/gtkBE4wuZ41Bzyo+lROilU0QO4TVc4VLekVm3H4bbrwrED4wlZVDfcWMkmqIB72GZ0qXtePMgPfyiNGPhZSDAwjV12hTJMvL60sv/k+8WLpF7J840MmTkzg5gIcUIS6lR+Etu6234Jf5dhnknWwpv6m5kbYHkdp8jxY9/KG1O6Sp5Hc0EAH/C7CIp3P4gaXPOnVL81DjJ7qWDGwOit/yjlLXpXSn3TJwt02YZOnIKZNCg2MdwUTZYfZgA0D8qr1ilsKQ3tcwB5FzrGcQq3xTg+yBLOkwAWVbywxcWdvofwu1wDTL4c48+RvONBjxHRt18qI8pqEA6rrHOEKdL07LRItJ39D7vMfHAqqjW4nBwpyUsBkurKFxKB301AakHzlkkxRrWxshLo8JlZKTo+teNooXChYUrS1obmcww8mSXwTUq/QayZfLoWyct//FHWKCM/BIp7jYsLF0IXQrX6HGfmP6k0B4VBo2x+MKlhv5fNyPgUtIldOwUSlgk8KNwKbgtXH5ALVwg9AHQxuaIpvqEJhsCUbiw/rCbj3gldkZq7mFxobGxtt/cgkqkwoUDKXTpDDMakB4zK6Z13WlDB0kDZPbVHL40L7bKskTpnpmiIDCg8jxW/jwHURbgi907ft7R+kFRgw8U5fMuOFc2MwoXO68uG1Ut9nw5PwqXafhYEHD6JH3LG80AZzqZzAx8aLLtMiJ+DC3bbi6bd31F8ko58DW0/Ej+OmC68sTacJHpSAbMXCSdNt9MzmBpY50pD0OrF8ATfFCW+P/wG8SChy/QI488Yq+9gPv4ELgD8IG8Q7m4IVEKF3KIBcd92K8XcB856NOnj60v3fWL9YpZOopo+HZ/5Z2dq25+OB2B+yhD+L7gM6HItUY7V4xEUzSgvPClQbFoSh7KL+0LfrHIrTH5zJo9U7LN9X9efEFe+HKm3DlxumSXIp8hRZ/wIqEBr9VlTxt+ncEuq1VHKX50hJQ8/5Xk73ms5OSbCUAWTr/O6QdOuzOYkSvZJZ2k8JALpKQUvy2WIPENW18urWyabxw5ZLZ0+7JaJv8wRTJzsmXY+4Ni8kp54NeCwkV7VV45UgXkd1PKHKDutJ4pN+q6KcD3QZRxnPkJ1Ard0YD09GN8t0ePHo3yw+DPPfoazTca8BzLL+/AB3WjiqibBtJxjVLu7je1jUf6jtLAOMWKTCTLsKYjLzYN0M7oj5UO+hh84+7+cr4Uv+GcxfnHpBFFap60un+oZLZ0An6CLc+9yyhTztKgc1KHh8Jlrjk9oWi/k8w7oZ2aeW2kpNuQ9dM1pv9D4Rox6mNr4eLYIqU/HPQ+csYObMpZ/etQuNgpi8LFWBcJUq1wQSsTOBT/aHUbFASicDELISo0u/mYkVIw+M5QoezCUkFtKiRS4dJOgEjfsSqP9Gj9WBLcCheCwZIHz+MRANK6EcuW2wIB0hnjUO1OFwugg4CDzFj0jMho7/Fc60cVYvj65z8vkk3bbyaza6rlEmvhQhHyaOgbIIMSS4nOTp2CrmZ2l8kWXzDPzvDszkRDX4vsIin+axcpfHh4aNnGKz+DpjMp7lEpYxrmy2btN5Eu51/oKFwefHEPHkAsgxxRodcoXFi92CXDtYKWrSIzWa0DyoUZrObrhuYoXO7vIYfkpYo/6AXcp27wjaF+UaKgidk5lldoCFe4ND86X6UVJD6Z2+nfC3lOzDLNQ9EPkI5BDN80lnCh0++7CqSHX2a0DKbwyXb8yqoqq3D9+z/PyCNG2bp74jTJRtkiyCSKfl8ziCGHWLKs07EzYGW37iibXve85Hbc2cqfE8bEYJZ5TggIZDOkdNkYXOYbBXt3lpb/m+QocgymYbLJEtL2g+rklA/myBdffyu5ZmIxauToqLzyjPKgXGjjtDvlFdmj/+R3POVFWpD+133sFAo01s2mgOaJYk8++OLFqkeeIZe0G2SO9GA8k1tAv83SFhs8lB+cu7GW4ZAPYu1lgq/PkTd8rfR9r2/pfehiNQaMpnApD1iQ8ffCqMA1dYTlD/m8deJc2frtOisPzkYhlChkZq60fO4ryWyzmZ1sZhrlv+UW+0hxr5mmf0QxcyaydlcjPl9Wxph8Nki7f492jp8y8svmooy8Qim+f/B68meR9813OXy9q1G4hn80QgoKikzZvN7Iqxcob7gyUDeNLiWrVtk+D/9LLN6RwO+SIthUHy5QN7WhCCIL0U7UCBICUbjQ/lnrRuh1FxVO8AwQFFxzCyqRCpeauVE4YtFEeioaPx5ddqHBMTti5hMvX0oDSLmELyPiTKtHY8QD5MvuJPiik4tFF8+YkVI/GqgQvi6++BJrXZtlBreLR1fZmfwGDd0T6TDwxSKY3zwpubGntLrrTaNUDZPCh96X1pc8IYU77OMMcIZPnEFz2m8nJQ+ZWaDtgDwUO3PdsrRaxtbNl8LWreTiiy62lo5okebhASUEa4GWM3LIrI3o/e4y4bemoaNxB/dDCY40y0uEwsU3OcsS5SZajDWA+/DF0ib1q/4wDBbwyvIISyvu9zW/8Hbj3kIPuq0D7nukY2laywf0A3wTWvCR1JhI8YLyy5I98oklj3qvq6uXzKxMefyJJ+WVydVyyvtTJb8X/jMMcsgfsmr+l8+X3BNQuBx+svNbSWE7M6lheSfLDF57HiNt//mYtH5giBQ8/IG0uuQpKf6L6ehRwEx6jvrh9ISCfU6UApO/k3eYbDI4moHu1A9ny9iJn0uL3AyjQI1Zrw7CgWeUB5sfqHfdnQqvWGSbEthR6+a6665r5BdEVppS9gDfB9lMQ/9ESJ5YdPEMCzH15T4rlp3B3NPl03iAnepunqIhk8xIMbUUlC/Km4Ed40Akf0bSQT9p8R2i/2eZTd/Htw1l4raJ8+TgYUxM6a/ow7Qva7AxtQoOOMO0Jyemlg1ketRFkl86x/R5WElD1tl+9JtG8epdLyUvfyt525h+0lpcQxbYvNZS3O29DWXQvMNpH+3eqJHbJlTIe+8Pk5ZG4SotLW3kNRLAm7r8sBTMNZZprJlMTqOF8YhH4VIfLjAaPQDP8eHS9KpwUUco3AQGpuxj5ZNqCEThYn2b9XNmabrNVBugO8J3UwsrUQoXFYYvD3ShcMSiB7qZ4WFa1/AJ3FN/NX7HwxNpQRxLWU5y80QHwHo6eWp5+QXyJOAggqnLRtGA9PiHUQ4cdaTfvPyKK6RDh/Yys3JOkxQu67hcbgZG05lYMztKlFGouG4Z2nJvz1S0OxUz7Yn5JS9OcjmSutAMdHROr02qkeyiQrni8itk7ZrIEdVBeKBuKEt+c08PeQ6Pm6bpGRQof1U+6ET02BUvSJTCxZIbCrZaWiN9T9Nj9XR3kExs8EPBmqcx4hR4zrXSqYgixdIhO+XUWgCy44q83GnxL8NxNRpt4UA6LAHIlcqh33cVSE/nz/IG/DpLOWtk3nwjW+b64UcelPfrl0lhrzly6sc11i/GsSoggwbDFC5n8MqUzJJNpc3tvaWwZ61Vlhx5Yzmo3shmlbS59n+SbS0SRuHi5ISsltL2+let1WE9uQTNN7LM+zd9MV/GjPpEMrKz5KvPP4vJK8+xALF0rbukKSOsKJQ//RPXfoH3UQTc0bxRwskjnnzcQJ4gS004UMeKXA7wjAkK9c5EQgdG/BSpQ90YEi2PcGBg55QOrIF/1OWGyG5x/CDDl/7DgW+DpMNFhGXFaAoXCM1Ysuj/1YeXe7iUMOG+deICOfrDStO/1RmZQvZQuJDDOrsbtvVToySrcBOrPFk0fV/hQWdJq1v7ScF/J0terxrJLa+UwmcmStE1L0vL7Q+yFtbcliVOOAnDX2ZukZTc57GkyHf61su+71TLIxNnyTtDh0jLwkLreqD0RwKehbuUUGdXXnmltZQydkeCeBQuNm1o2ljx/9AhsCRqeu0XsXAjV34U/yAgEIWLWS0dOWZeljcoGHwAKKj+/fs3FlRTCyuRChfr/Aiarl1HA+hGaDCtww/puYdiCfoVANKALLeyFs33lRcGepxmdRekol/Q9BrXyU+AT9KjQFI/qhCD1157nXUan14xWy6JR+GyipWzrb5FH9PpmHuYu52ZG2Zz5wiKnFIzI7vqGdP5YE3C4pAnxadeF7JSuPILvX/wkEoZXGEGN0PnNddGnuFoGcADVlbkUOuGpQ7qjyN63O/yGz8at2WLpQm2S2t+XhiucIU/jwaaBtpQeihr4jFFe5f78K0+F9pBYmrH0kq70y3rCjxnqUDpVGTDiIaQCEfaLcuu7vRsGtDn0UDT8F0mDcg0u4G1DuIB0sMvR4rALwPd2jVGsTDtI8fke1+3e2VIw6+SX1YlZ44k4nytVbac5ZkICldmsbS9923JIiq4HRSRSywRILKH7DZIm0eGmUGRo1UynQnB3kdLdplRzlxyadG8gw/iycPnyLsjPpBMo3BN/t6Jq6Vl4QU8xwKNwvXRRx/ZaxBfJJapIsl3JCAtTupuS2VTNyso6Lu0GyzD6tcXLT+eq6LNLl/lg8GfOmTHeqw8AP02Sg5t0c1XNCRteFsMB71Pu0GBot34Ubjw1aL/UJcS7mEhY6LDkuJlnxITDn9UXCqQJ+TD/A9NNFtd+Zzdlc1pB1hZrSKVky0ZxR0MbikZRQZbtrMx4wi42yKnrXQ4MnS0keE/I7+tFHv5cIVkd/+3K+SRCdPkzcGD7JIi463SHwngQX3u3C4lWEpxUGdsjAR+FS7yxNqmaQnxEQ3Y9IGvrabnfZAJF3LApDDe9pEKCEThorNmaQPrgvW5MAXFzIsG2NSO1w2JVLjoQBA03Z0RDaCbqM2Y1jU995gdxbMEQBr8LM4///z1+GCwRxBRfpoqTLwDEtkfhatfv34x8+E59UM56JE3LNXdcENXabfJJjLFDNZNU7jYVh96x55nxyGuziCIMsazwtemSW6n7e3SDYNazg6HSFYvnJRNuvXynCdtesyQmQtNR57VwsjAzbJqLRYub2USnuCDjlAPPeYeAwdOrnpWnQLPCKHhro/mYqyzB/mm0skSJ52bLm2DXqDpWYKivlASucbnQjeqeFm4UFRQ0lhuQcbUygB6AfeRQW1rOtjprqdooPSTjqUo2n1Tl7XIBzqwXMDvvPmmbZh7S376UTIzWtijS96vXy4FpVi4qiXDKPKqNHkrXJnS6m+32/haTpRvJ/RDJkqTtcLieMz9BZL3+hxpuWdnGx2c93I7/EUKn//mD5l0ySZ5PPrdAhlkBjoUrhkhXxgti3DQ8kHpReHSI3BAQi8go/q+XyAty+FaX5Q7YXiaA0o/lmGsHZxwAF3RgPRYKPg+sqZ8aXBNteaB0YDnyB/5aP0xpjCJ1P4XZBAmb9r6H/XcotHB3+s7+i5KFgoUfnN2B6xHWoD75EX5kl7PBOYeEx2s6C/8sEC26G9k0Ox4tbYAAIS6SURBVCr7yAYbh5xlRe4hIzjBt77yVckqMQpWRqbgTuGctEH7MshyI9cZ2ZK//f5S8vAHUnjBvbZ/JF2mUbiKHh+zvvyFZBD3jb0HVcjDE2dIv4FvCeFJOElFeY0EPKNfpJxxRaG9gTfddJPtk6Id6RWPhQsLuboxsCIUDVD89Bgg+jSVIdUj9MiiaHwFAYEqXAx06k/CIIAvB0sLzS2kRChcVB4VhpmaClQTcTTgHWLb4EjIujbXvENDx6zMbz+8kYYlEmjXgYz/6pjtxniBd6CLhoYCxxmWXEcD3kExJj2dmf22eYdz3tq2aSvfT5vuKFw2KnJYQ1e0g5z+dwa6Fn0WmY7GzOz4Hep0GAgZ0NjuzABH0Mm8I843/NPJtJCcDjtKwQvfbZC/tXANmyPvTaVjyJY7br9D1qzmaB/vMtJyYHmGGajWFbM1ZrTqdKnAs0gKl9ZRvBiPwuU+U0/ve4GmR2FCbt2+P+5jp9y88duNmke072hnhiVXQ2NQDviq8G400HxJp0dM6REv8YLmxWwbfp1dmWvkZ5YWsnPsBGh4wy/Ssle1nP5xhRNg1yhLkRSurPxWUnz3W2YCYAYorFtWsUeujZLVN/QeoUmQUTNBKDr3bmHDh3P+XbYUPhRhS36fGjnj/Qop69/f0JUpdZW1UctYywerD+4EWj4gVhQmdXrtF0irfCp6fTseUPqxgCCf7KqMRRPp8SlEuXJbxLC2MAagXGq+0YAdu+H8oMCHlwv5cE0frlYRZBWM9h3uM1ahQOE3FylgMKDfwKUElwS3SwmTbXBo1ULJ7c2SolHgrdO8kasyJ9izlSsrk7hYmDb1BGfPbhKKD+fmkc0bhdL2mKuluNcsk0+dlJx3v5G/XHu8VEarzSWv3CMOl+1762Ufo3A9PmGm9DEKaG7LXHl3yLsReQJ4BrpdSpQvPXYKZSwSxKNwsYzoXhGIBrg2aDrGaKVJV2JQ5NMKlwEKgFkDAkzsF41XQgNkQNddK80pqERauBjoqEDojEUTdLPMQqNGQLkG2aqM4yS/IwF5a3ociN300+H6nfXFAv0OnRsdnttnLhLwDnWGKZ4dP5rH7WYwa9e6tXz5wxTZ5+3QLsVwy5Nt7AxedZJbqgEka2xaIi47HY92QHQ6zmDmdBBm1mfu5xx5oVW2ULpyN91Bip772nm+3nfmSWGv6fL17Fq7O+2ee++R1TbS/Ia8aTnCA8szbOPWxkm94Rug24oVeKYR5ROFsRQuBehAocCCEMuXUPkisCSKDEtReo9lEZa2/ciyX2AQYtOB8oQjK7PMaMC3FTUeEzNnaNT7foG01B1LwORjl/7XctbbL5Kfmyddu94s77OkWForBw0zg10ZMobcOTKDA3PRJaZebQykbMluu5k95zMTSxhyZdOhcIXkulHuTB6966RN1+7m3XxxQkZkGYVraOj5H8jEodOgevnXqBp5vXeZdeaf3+AMyJFAywH/TXZdEXiS8gGxzKDcaHn5BZa/VdGgrjTURHOBPFCc8TEkzAx0RQPSYy3CmsFRUlyDWDlRuNy7rsOBe1oOjCEqdwzU+BJ5veMGLF+UHe9QDnqeYjjo95mcoEARTiWawgVAE+MFE273CgduC0y4h1UvlpzeVaG+Tfs4lK0GMxEg8jyhSviPY3yDFPRqkOLHRkrLCx+U/AseNfigFN3WTwr/Pco5IqgPfWq1FO5tyoF6xQLWeivJ9VzWNhMEM9n4y8BqeXD8TOnB2YimfQw3ClQsgAdd4UCGtPxRdFC43MfxhZePH4XLDfRRmh7l3Z2vovbRpMH6Sx0poHBDJz6v2qdvTBCIwkVjw4mQqNaYe/UePiDsWtGCbSokUuFioKMCw3d2eQFCSEUz43crXPCK1YTfkYC8ec4gDM3aKaJsMXhqXtHy8ANatnTkdG7vvfdeTL54zpIU9YMyqLTefc8d0rp1G/l80rdSWDrddhQbKkJmwDFYfGMfaX/sZZLTdmvJ2mRbKXr0QyctnYxNF7Ii2KNXGNwWms5noRn46iXv0LPEbnk2mNNxB8n777fmebhiN0+KS6fJrPo6ycjOkIce7CarY0Sap3451ofGi3Ms97CQoByznOsua54xo2ZAIVq1HyQtZaZySLgQ9/vIiB+ADhxU6cijOegDyps6ubotIyj+WJW1zSUCyMe9nRseGWyigdIIagBet98O6Bc0Pcsb5MNsmyNzVq78XQpaFss/r7hWHv6mzh6pktm71llSRHbMQOc4Li+QNrf0blSaclpvJoVPfGxl0+4mAxkU15M15x5W1U1uQOFydiwSIbzowQ0VLmQb5eyZKYutT1aumcAt+tHZxRYJeEZ5sISPDOECoOVD1HKiz+u1X3Dv6mLyxLvxvO8Fmgcha9hN6We3KenxjWKjBfXGNe8wmOskUPMNB02LJYOQLsoPA7Wf8iCN21WDftZrSUy/w+QEayKWcMaoaEB6rD5MjBxLq5MHG8Sg9d3qn5zTDqyS5SwlOqFEmAQgU/R/5ndfNmcY5Nr6epm+0aRhs5AzEagNpZ1r+t1qyW+3vZHdXCFkyabn3BjyEQuTQRuUep49IeGmT+fIa6WlkmMUrliH4QNaDrQvxg2uwfvuu88q2fh/ah7h+cSrcDHWMS7pO4S3YXWFfCl/JlRsYtDn9D3uDRD0j9DJrmn692h8BQGBKFw0No6mYKeNRgam0FiT1cjnzSmoRCpcDHRY3mLNbgCeM6DS8TDbUsGksdJoowkA90H1sQDpFHXA1OfxYjjofZYGEWwNwxENSA/tzCb0yBt2gt1/Xzdp1aa9fPrtd1Lcc4bTQYQrXLYjWSDFl/9HWmTlWl8DBqhWXR606Z1BDf8FdoOR1uRBBxTqVEpemSJ5HbY35ZFhfXJydjpccmx07w0HwZJeVTLVNLjMzDz59+OPydoI5a1lAE84W6MMq8KFsoDFSwPVKug7oF8gLbKg9amOuvEC70Anu8Bibd7gGXQTrZvBC9M71yBtjkGXNufOg9+KpNPffoB0boULZZVlxmjg/pYG4GXbebzfBjQfdseRDxbA1WvNBGHN79K6qFiOv/BSuW18tWzZ3yhc1loFMiChbJnfRjaLnjWDQg5xnIyM5RZL4Z1vOnJrJwAMVMijvhtCFDJzv+Tix4w8Yx1jt2K2Ubg8lhSNPBeWVsnn85fJcy88L7nZubL0F2cCF41f7qN8YAlyb1ZBSaEt+hlQNH+W0/D70npCFrS8mwOaPwoXA6rfQ9+hnfR6nBCIrKqbg6YLB/f33LHE6PP1WTTgObsh9T0QpSAcSAdNOPezGYCQBYxb0fInPS4lWNCYTGke+CNhJRtWvUhyse7bfnKRUawcRQprFsvTeWVV0urJcdKm6+tG6R/nyKCRMTYQ2X7RhjL5Y0c3foXt/j0ytKRteDH9XvvrXzbPmbyGyaBV8lgGnytnfDBLXurRXfJM/z/uk08snbH4wopEf6KbrECW7VD8qQvNw50PaXBt0HKmvqN9B+A5/phqcKBNY0HHxYZ+xr0zkXA84fExsbSyIqWW1ljfSzWkXOGiEBBczhxkS7LutuM+gxNnh3HdnIJKpA8XZyBi0teI+NGAd3AapjNkYNQ8EBSWGaM1WO6zs8VNd1ORDiVSGep9nHERTA00Gw1IDx9aP6QHH3noIWlb0komfv2tvPDtDDnoXWZv4Q3doOkgCu8fIhlZ7OhyaMzbfEdp+fp0k8bpRCzagQ3HeRSwOsk2721y4YNOh5KVIVktcqT4791CHUqYwkXn07tSysZ+KbmZOfL0f542Ay9KlPdBusoDjdutDOPsykSADjZWufgBOhnlOd6wEArQRZwp6NSOPBLwDLox86Ows0yj9cc5iu5zPhVIzwyWWTlLfGCs2bwC7zKhUB5ZOsH6EAuUTt1NqYczxwvKG75a5GN93Mw1ebfZpL1ccum/5L25v8h+QyrN7B65QcZCmzWslaHOno2Y3WY7Q79RnExH3+aEKyTf3HPkqs6ZAHjINZHr8w8/SzKMssVEIrfDVlLw/FfrpzOIJe2wYbNl0pJlcsYNd0vL3CJZ7nMCx1IiSoj7kGeW4bB6UUd+8gB1yU/rifIir1jvxwLNHwWfftLvrmfSsBKAr6S2PaztyCwO7ppvJAjfpUaf74cf0vhVuED6A8JocCh3rDGAZw+ZPpFy1hUO7mFZJo8ZP/8qBT3ZKUvf5ciho0gtlPynP5fMNttKRmaRUTYKpfCwcyQL2bNyihyRlkmCUdRM35dl7uf1rJTC/U4z6dnBnS2Zhe1ssNRw+bNo83BcO059d5o8/+orkpuVKRMnTGzkNRLwDIMDir8q1CA7+BkTIu2cJg0KlypPpI32HYB36D/wq0Xu3fUEal5M7HCyV9lRQA7pB9TSGut7qYZALFwIrvrOsDbMPQqHBsjuguYWVKIsXNDRpUsX3+Z70uD0T8ejzpsIBI0V3mI5XaKVu+luKvpRuDTIoG7zjQakhw86EnbLkR7Eibx1q2L59Msvpc/kOdJ5uJfvADhPcsuqpc1h55oBLbSjKCNbCg86VwpfmRrqSEhPR8RSzQLJK58jbS9+wnQkIf8Y805+xx2k4NXvHYVrgwFwnmxRPks+/naSZGVnyXPPMcOJXAbKg/pGwR/XKL00dnw2uNdcSJTCxZFRzJJ1qSISwAPPWVpj8NI4O9zHasckJ3wDCM9YCiF/ZrF0dF6DkBcQYgIlC/7oDCk32ncs4PugxoPzE1jYC3iHesKygDw3nvW57nfpsGlHueCCf8r3i36RG8dPMwo88mkGMKtAOVYuZCnTXLe/+gXJtFHlW0hmQVtp/cSY0ODGgBga9BplzpHTwhe/kjwjkzbKd8j6mm0G1PXk0spmg2zap0au/niGHHnVbVJUXCirV5nJgJHPaABvDCrUh4bLAekjuRcp8rkbeA6qq4Ki+uLEej8WaP4MugzIfjfhkAaFqYvpX5UOrPnkoTILRoJwhYto87HeAXiOUuQui2gWLqy1KEu0P7WCRwKeEeYCxUJXOLhHm6Dv/MVMAIuxzmtfhzKF8lU+V1r2qJIsLPnIn+nvsoo7SLue02waZ3Jg3iGtnZQSrX6elDz4nmQVYEGnf8ySwhMul8zeTHrZ7OGSPyuD4Fy7qnDLp3PkWaOQ0F5Y0ofGWHzRxlgCZhcz1/BG/0/cs0insHCPiR/WKZANBdG+A2iZgVh1kQ/GX60r/OFQ9NS1QtMrqCsFvsbhzzYGCEThQnD1zEE6fwoGZOC75ZZbml1QiVxSxMeHhu2HJtIQZoHZJ34ByitxYhBM7SC98uFe+LE9TUUUrkj06vdffvllK5h+DuXmOfnR8eAUyu81a9fIk/95WtoWt5FxX06Q1ybNkcPec87+2qChm//4z5T8b7Jktt7MDMwoXSwRZkvR3sdL8T1vSNGTn9pDrIufmiBF3QZKmyPPtyZyG4SSLc/5JdLqsqckC2XLOtgz6K3/reJeFTL6y68NX7ny0kv/i7ikCChPWAtw/KSuuYc8spkD5Yi6ay40R+GCHhDasJKyJORnuQ6+UPiRQyyZmge+K8wMNUaQAunp3NwyhEMs90Ev0Gf4Xrnfw8LrzjsSkAYcOnSoVR78BBb2At6BNwZR5Nl2/mvMPUPbFltuLuf+4zyZ8tMvcu3Y6dK6L9YFlgKRFxyTkSOWtRdI0atTJbfjToJiz5E+JQedLYX//cqkbZDsMvX34j2T3lwXvjTJpDnDpOX8zxzJyMyVNje8Eso7DM27OeWV0ndmndx2z/3Sqk0rWbfa8B9F4dLywQLI0j9WHy1zNuZwz49fqebDIOWup1iHoPsFzYNyR1ny6xMKH1hs6RuVL9wbkNloE0Y3uH3SmLyTh9c7mpd+hzACaikBo72D4sS4RCiOaP2BpieQKysc6sDP9zjWDXeZX1etkc16T3MUKJYS1efVythcaXXStVb27KQ0I0sKtt1XCl4xfaZVuJyJaEbfetsHljw20jl+Cj4MZmQWSMlDI4y84fMVJn+guZdZXiub9auRe7+olqeefsb6un773beWzmig5QYPTz75ZCNfuP/Qv+F3FTQoDxwLhSIZbQwMEgJRuOggEWDWY90KFz4qGv+oOQWVSAsXyzBsC/ZDE2mYiWJZ0J0bNFKWgxBM7SC98uEes3R8xljmag5q7KVI3+EZmxMYoPycW6bvYAGBPn4Txf25Z5+VNiWtZKyZIT4wcbr8ZYDHdmSL7Lxh0DKdyh19pEWeUULoJEzd5GAdyC6Q3DYdJbvNlpLTdjPJyik0SpZzrA/O8i2yW8omV79iOiUOscY6EUHh6jlbRn32hWRnZcvrNnJ5bIWLgRplGJnkHhZXHMsJW+LHUhMLEqFwIUMsweN4q/F9IoHyhcKFpVUPp+Ues0wULi8LF470SifIbBYliGdewH1mmRoSQpFJRaR33MD3QcKTMMhCb1NAedMAxd+ZGe6adUwI1soO224nZ555loxq+FnO+2iqHDcCPy6iehvZ6YuihSUA2TQz//JFUnjG7ZJhlHUrm1n5kt1hZ9nktl42hhcW2uzepkx7Vcqm9w6VljseYuQ3ywyQhu+sDCne6zhp+RobRzaUSwbYfQZXyetT58v1N3W1Cv7vWF9DFlh3XSjofcJ6oFwRn5BrZIGNOQwqLAPDu9f7CjwjjYaZUdT70d71A7wP0o9gqdSQDtGA74IEb9Wle5AdtcidhgaKlQ917lac2L3p9Q739BsspbrLgf4y0jsgriFMuAnFQR8RCTQ9E1ld4eCab8IjMr7s95Vyxdgqx9KKlbUPfaKREWu5mivFr/4geZvuYOQPp3GjdBlZLNztaGl/5X+lqNccKepZKe0eHyGtT7tJskvaG9mjDzX8Z+ZL6wsfdoLu0jfavNeXQSYLBaXV8ujkBTLxx+Xy2BNP2d3cuhzoBcqTlh39JP2l3lN/Zeo+aFBa8QWlvWD4gEbubUwQiMIFsu2eBqcDCMKMhQefqeYUFO8lUuFikEQx9EMTz7EU0PHgM8E1fMErA69ux/fKR+97PYsHNI9o9PIM53cGKD2ZPxrwnI4eCwv1o/m/ZAbz4uIiGTtugg2mt33/KtPgwxq6nZn9MetiB03Jnf0lhzPAjGJkrV34IGSwC9FRsmxnw/3MbDPobSfF175q3qOTomNiZuitcLXqOUs+Hj9BcrJzpBRfkpAS5QXKA2ZxZqRcg/g3ESAUR81kKFyR6PECpQk62OnKGW2qLEXKh/vwRYevmxy4BlGWySNcadP8MMMrrSDtEwuLPncjHZsuJYJYqf4IihtbnhRZPmKAirUZIBJoPmwh1wkEuxTXGGVmp512lBNPPkm+MgPM1v2I8O3IiY39htLVuDxjlK8+HNlTLcWnXGcPAFYZzMjKkfzNdpbi/U6Skn1Pk/zNd5MMzvhEPrHSGqUrq3UnKXpkpJFP5HJ9mQRZtuxiBtqhVUvk6iuukC07bS6rQ7KpGA7coyx1UwFRuLmmHWJlQOFSdwyv9xU0H6w6WlcofHo/2rt+QPPBYsZAp+FrogHP6RfZ0cpEgvdB3kXh8nO+K8BzJoHKF4jLAz6I7nf5TbvGIkPfrEoa5RDpO9wDWZonndvXzAs0Pa4aWPpU4eIdlvL57s+//SY3flrpKPyhPoylQcfS6vRnRVhJzYTT0pgV8lliEpCdb0810MP9nc1H9JE5UnLytc5GIpsXMt2wnvxZROEyaV6esVCmL10hDxvFiQC806LE9dP7lBF8UA7q+wfiJ4XCxe7toEFpxUWG9uIngn4QEIjCRWUhwOwOY4mEe1Qog4Gu6YNNAd4jWB07sZi1g00BpYmgpThRk2+syiMNgeHoeJg5KB/sMGPgVWflWPkkG6AJXwMEM9oMR0HLAsUTXwkti5dNx0jYio/GfWIUrmmy7cA5HgMOnQrKEv4w5to859ywwtdmSsfLX5ScTXe1nYk9tJWBjLMTs0ynktNOOnZ5QgpfwWrg5GOPWbFWCWd2uP535kvrnjPlw7FjbefW18cMh2csgTHgM5BxjdwQq4ogoWxyaA6QH0q2yqKfJSA3kBbEOZqYQ5R/LBnSZ3T4yJwGogTxV3O3uXDAOkVcIvcAhrWW7yIvxCGzfnumk2VQcafDMk0Z+gGlEezRo4eVIT8xlLxA89EJhF0qW2P4XbNOdttzNznuhONl1k8/y6vTqyW3rMbIXkh+kEkCmPY1kwFkqq+5NjKUY9KUnNLVyCGWLpQqIng71liHV3YktpBsa1nIkPxOu0qbuwcYpSq0YcRT4ZorR703Uz5pWCwXdvmXnViuDtEdCXhGnTGY0Z8wkHOPMsaygMKlwTWjAc9Bd10hB4kCpZOlZcqf/35ooj9hAweTEJVP/Mxoi+on5CcfwmVQPigmIOWCbBJxHnkF8R1i8gF98K8Kl+649vqO3ieCPlZcP4ch84yjk/i+upTAF+4z0PXT8l/k2EFzGiegjvM8MthgJgDORCC7tEY63FYqGdmtTT+I7DnWLkf+HPqxgFnLf1YraXfFk5Lbkx3dyDSKXMi5PkwG+V6ekdHHv62RwRXz5O7777U0uWNoeYE+gw+WVvWMQlCPnfLr75lMUDqZINL/62ahjQ0Cs3Ax26bjUSdghJl1eISTymxqYakwNLewlSZmhlg8YjU2gO9iUkeQNXYW711hZrUMfrGsE6kAvg1d6vOikctjAR099fO3v/2tsYy7d+8hBUUFMsIoOSwpbs+SYviAwzWWBdsRYPLmNx1DrWSbmX9eWZ20euFLKbmttxTf1kda39pbWj05VlqW1kk2HZO1bIUsB7YjqXdmcRt8Z5606TlD3hs5UnJNg3uTGY6PDhKrDh0kGxrgCcWIaOw4Z/rdqRcJyF9Rywz0C/ouQWc7d+5slwOjWUkBfcYuKRx1qWf9LuEEWB6PpHBxDwsRy6k6OMdCBjsmJfEqTEong6s6GcfzvoLmQ1wz5Hn8+PGyZt0aWbt6rRyw335yjOFl8uKf5fT3Zxp5Ywcsgx1KFz5cyCGyhAKPjDlyxfJhyTUvScGuR0t2q03NwIZFCyusGfjsjrAcye2wg7Q8/UYpevZLyTDKvw3ca5W3DQc7rBjbD5gjAyoWyd/POU922nF7qxBG41f5oj7g66WXXrJ1SH/Cb/oY+s5Y8qT5oEgrorAlCsgbGghcC01+fULhA6UI2eF97n3yySfWwkVdch0rH94DacPIkJd8eiFKHb5W+l2v7+h9YkzRjvwchswzBnoGfBQZ0sMnk1TKpmLxj3LQOxWSafs1ZKPBTAAcmSM0hNOncW+uFJk+MO/Eq6VgxwPshDQrM8/kkSc5rTpJwc5/lfzjL5Xih4YZuUOmzXsmH2sts30s8vyH/Fk0aXKMXN9n+unHDN5+7932zFm1LEfiS5/BBz53LMG6yx2FCyts0KB06iYcPeN2Y4OUK1wAlcUsC3Owbp8FmfHgHMzvoIHKgg6sHQTVQ+BiVSDpMYvTuND6lS+dYelAF7QgQBOHIdOR44fDdTSAXhQuLH3suCH9aoOl5X2koGWhfDDmY7l/YoVsO9DMtMIbuqJVskB+O52Mc9/1bL20oU7DPgf1nbC0jThP2vaaJAOGfSBF2UUy8K2Bhm7qLMSEB8AXTuU0UD3Tk113BCqk3lHCggSVFSxPxPJB4SUejt73An1GuyIeEH6B8AWyHICfpEbBDgd9F0tcuM8PqJYBNzI4NgX0Wwx8WBCgtymg+aC4ofyNHTtG1q773cbiOvzgI+XQIw+XGUt/kTM+rJRdBs9yAkciR0YxchSuP+TnD1lz7mHtatVjprS+b5i0P+s2af/3m83/e2SL7l/Yw7CddGHvhd5dD8sXSn5pvYyZ97OccdrZph3tZdpT9JhOPKPOCJdBf4LPJdf0Q7rD2AZ5NfeCBKWT3ZT0J9DLdSze4INJDZZkfoMM3Pg6NSUWIwq7WrnCZVRRn2tMs2ig32f3LLvk/Gzm4pkGb9XYVPSbtCW+O+D72XLwu0ZBwqKFgqWyY+VEf/Pf+Y0ilYfy33OWg71mSVGvCmupddwrQu/a5Un+h9Ate404z8rzvUbZeuSzaXLLrbdKVnam7yDF1A8+pPBCOYA4pmOd9mPVTDYonRpaBMun3tuYILAlRXa7oTG717pxVk5UQL7mggoVO9ZYzvFDE2nU50IjZ4Mol1i4GFTII0jetKzZhQadlD80RgPeoeOgLIgpw/tr16yVN/v2k8K8fHl/5Mdy6eg51oLg3dhTgKajKelRIf3fGST5LfPlHdOpcojx2ihlDd/4EDFQo2jBJwoN/ltYAlB0ggSVFZbIoQmFS6Mug16gz7B+sASAksU1vBIZmp2mKofhoOkU8e/DmoLDMEs/isgzCk74bsd4gPdAlihxSobepoDmw+YA6vFjM+HBhwsfqSP/eoQcctDB8s3iZXLAwKlyOodX965zLKQsI3oNTo0Dl/OcgRG5zi5zBsms3vyfa5fFPd/3QN6/cPRsGTB7vpxw3LGy/777yio2dEQ45xNQvjSukNsXj4EOhSvapoZUATTSH6BoQCcKSiyaeIf+BJlm9YD05MEkFQsXMqH8+wUtGxQ/yord5SqvOK2TJ4OxWrJj0QjwfXZf4iyOb1gsmnjGNygH/Mj4BnwSzJr6Kp80W/J6cayZo+zbg/pZ1vaQmYSjkdVco/Tf+dl0edAoXNd3vclauLQNR+JLn1E/+HTqCRwgfSc7F7FMRno/VaB0okyjtEc7HipICEzhYjs+EXx1rZsKZZDjVHat0CCB70MTVh12KvI7VuXxHJ8LGhwBRXmHfHDix8KlwVCDFgLoovzpBCItL7mB59BN/bDEqnz1f6u/5LbMk+EffiwXjXGfgh8EzpNWPadLn/5vSFHLAhkyZKj15fHaeg8/yhMNlHLQ3bJYd7AmMRCg6AQJSidKFuWOkzrLi3rfC/QZM1esWXp0CkjQWqxekZbvNJ0bVe71v8ov//V3vMA7ioQ4cJ89Fy9oPixvoHCNGDHC1vmatavlmOOOloP221+mLlkhf/tgpuz4TqWRUSMrWATsEiJWhnA5ctAJvovShSWBiQSKlmNVsP+tz5f57/FuOLKt/9D3KuXjuUsdJfDAw0zZsVwdmV/liyUt+hMc5bXdMdBxDysK94IEaIQGnJShSZfSooHKDpM3JnEoJVzTd6JwsfuQa/L2C5qnvsd/BS3LcIwGmoYDlVmuZEUgFk08Y6cl/Yn7ODZcSiibXl/PMAp7tZUhR67AkHXKQ24Si/PseaJ3TZwmj0+YLldee72hKbPx1IlIfOkz6pgJHzEllS92ArI8qxtrggSlkzhwKFx+D0BPNQSmcBG8D4VLzeJUKL4zoFZokKA04TDMbInrWJVHGhoojYuZlvKBORqFS4O1BSkEfJsODp8EVTRi0cNz+GAJAL8Lhy8zm3t3iOTm5ch7H3xgLVyZUQawZCM7zc4cUSk9+/aWosI2Mux9M8Mx9efFG/eUJ52Rqj8MShY+TPCJ8hUkKJ3QwRInS+4aXRz0An2GQzUWZJaznfpydmTij9JUf6lEgdIITVgOoNOPA7gXaF4437NTkna3bh0D+Go58ZRTbJnV/7JCrhs7Q7bsj8KlAx1L1JEVJpZzGmNq9TVoB0nkG0UrJOdR3ncju9B2H1gp3//4sxx40H5y6BF/tUvysbiFLxQY5JNNC/RHlBmDCvewvnAdJEAjdOEsTn/iR7b0HVYzCMSrfNF3MoBzZAzXsfJJNvB9AoOicKkSGA1Ij+M/dUOEddLDGw733Bs0eZbkllcYhd3IUD9kKOQmkRKFa67klFXJ3RNnSvmUKrnkisslMzuz0UUhGvAcXggIrbtKuafKjZ7HGCTwfVDjYOJTGDRNXhCYwoUzL8sb7ALRe5iY999//8YGGCTwfejAybiLKxpyNCANs05m2qwhKx9E8Wat233IZ1DAt7UTwK8AJ/FY9PAcPvC3oNHxG/zQDG7ZOdky+P335WIUrkbn9jD07AASjOY7bXvMlFfLeklhqyIzw/lA1pqBl2XFcNA6sDyENjmo4s8yIg7q++67r11mDBKUTjpFFECsAbF2Tuo7KDDILrGJtL40bs7GpHAxGYFOQlU0BTQvjpRB4Xpv6Hs2JAQx2E47/QzZeZed5ZffV8k/Ppgt27xFYF4z0NkNHChLsRQmFLMQsgRZjvK0ILSjLDRYer4XhmYyUNBrhkz76RfZffe95OijjxJZvQbiQ1xsCMoXKwAM1lgntT8hdhkya0NgmOsgARqhCwsjNFGPsWjSdzgSimUq0nMPBRILF0vfyn9QoN/H6oY7CBbGSHxpWp4TloByYJmNa/jkvEjq8PXxkyS3d2Won0SuUOpTZOEy38wrrZNTP5wmPyxdKededJFkZefY/i5WOStv9IlMRrW+OPuSDUdY9WLlkQqABhT/jcXq5gUJU7i0EvR/NCQNwfvw3VATNMhyIjNS7VgUvPJINvJ96MAKh0mYa690biQNViwULs4+U1M5s3gsXLojMGiEL8Jy0DFgPfFT1qShfoidw2/wY9PQcnKz5J33hsnlo2dISY9KaVlaZQ9ozSmrN9hgsC5l2L77FHnptVekVUkb+YhZF0uKhnYFL57Y1UZniDLMNUt2+Oyh3OiOQK93U4nUEf6NLHMiU15pwpGBj7hpOLlS39zDzwnF3+23F/5eqpDvQxcWOOjEl0TBnSYWaFpmtjgrDx6M794qe47mOX8/R3bcfnupWPqr3PfFNMkvZWciuxTNAMTBwTEtVC6Fyypd7vTu39GRHWh55bNlXMMS2XWHXeT4k461smkIb6Q/HJR/llqRz3vvvbexX+R8Re752RGYbFA68eljAscSFdeR+AJ4Di/Ep2KnuvKl5zH68ZdKNuj38cml79ZNC140aVqeowTTr2JhUT5xKWFMeH3cV3LSyFq7C9HKku5qTYXCZeQ33yhcJ42YKV/9vFK2P+YUKcovirkTW3mDD/ofNhRpOeAnxSTHT7DbZIKWPUjQXJR29SuLRJf7nVTSnjCFiwoBcUqMhgxoIAoX/iTEgdJ7GmtI04W/m0pUmthBhZMwMwE/NGGxozNkxs07IJ0lHQk7eDRfr3dThXwfqx2NBQuXV5pw5B0sP1gj+L3c4EcjP5JsM8gN7D9Qlpg0C0zjHVQxV16dVCUvW6wO/U8BflclY+rmywsvPG9mpK1lhOnwli83Zf2bd1lrPWigPJYOuMaqhaMtij/+bdzzej+VyLIvlkWW25EnrzRuhGaWSFFkCLPCNUulRMFG4cLZOmi++D68EKOO3U848ruf0RHqQKwdpxdqOoKuonCxLX/NmtUWu5x/oWy17dbSsOxX+bh2npw8tFJOeL9ejhteL8eb/8fzf3hd0vGEYfVy04Raqfv1N9lq6+3ktNNOl1XECovCG89AFGfkk00uOoFj2RRemSxEyyMVqP0+FiCUCtqP0u6VHuQZ73ACB36G/IY3JqQ4YeNfGjRfIDTQP9BmNCxHJLr0Gc7y1BfxGOEJxIrLvVHfT5GbxkyXE4fNdeTi/Toji87vZOMJ79caOayWS0ZXyyvfVMiOx5wlxSXFMSdwyi/p6H80RBKIosWOQLf7TPj7qUD9NjQRG4yxFkVZn4Wn1/v6jjtNsiFhChedJFvQceyNhjihgywnMuBjUtZ7mG5Zf9Vrr/dTiQy6dCIohnodnsaN0Mz5kDQuFBO9x24xOkgCu4a/ExSy1Rne9BpfCtCdxo3wwUwPE7LWzXZmoMzJzLKD2l67mTrbfW/Zbfc9ZFfze9c99pJddwf3TBGab+65m2xuOvDc7BzZYTtT1oaOcD4UlV/kjxkpir7eh09mSVoe0colmag0IlO0C+jySheOvIODK3XFEiL1xT0GN+qc/LzeCwKRQ+hUmrSs6QQZgPGdefjhh6Miadg9RX9CzKNHHn1cHjH3991nHylu01oee+Rxeezhx2zabo8+IA888pA8+PAj5v/D8sDDjyYdHzLfesh885FHHzN1WCx7Gnl90Hw7Fm88Z7KGfOJugRsG91FSqUcs737KJ9kIDUxSoImlT/d9dzr3fZAlKhQsJt9cs8EDOWdgx2dN03nlkSok7hTyedZZZ8WkhedYs+j/sSxzjzqj7rh30y23y4MPGZkzsvDww0YGzX8veUkGPmjw4Ycel4fhweCue+wuBcUl9refMiYN1kjGbeqGe8gh4xqnjwRdT3wfZIMb/QD1FosmnqslMhXKFpAwhQvrDaH/6ejZfeIHsZjwH8sWGP48SFTamopufpqbVzLQTV9Ty/74406QEzufIMd1dt7v3PjMnR+8pwaP73ySoaGzHGs6f3vv+ND/Rlo2xI1R9rwQGv3IUTgveu2+vzHwCw3R6GDmyWya2SquB0x6+B+O3N8AN+0oHTq2k03N744dOtnrTTuAJg/+814InXvJxY7tOxk62kt7SzN0cW3+b2qe23uREX7cv90Y/nxjQDddsWhzpwn/vzFgImhx59HByIAjEx2NLGxm/oN6L8lo5K69kbf25n/H9k5b6Biizy+f6/OyoRy6r1OJ7m/yGz3E/dwLSadGB0I40d/8qSxcOBfCAI65OPnGg5ihve6nMXmIX5DXfd+4bKksWfajLP35J/nJ/F76M9dLzDOQ+nTuLTXPnHf4XnJx6bJFloblP/5irpfIsqXLDMYvWxujPMZDU7PrNmCEVzpA/Cc5kYLlRpBlUvdvN7qf19eae7U1Ul9Xa64bpLqhTmoa6qW2vsGkqTb3SVtrcMN8koOG5oZqS0ttPXSZe256N0j/58NI9RIL9T0v9EofBLrpiUaXpouUptZgA89M/dfZ3zX2P+iVPrFYJ7VW/sC5UsN/cx2Nn3DUtO7/iu50QWI4Le5rN638xw0Ba9gbb7yRMitXQhUuAsRxVAM+TyC7M/5/Ry2H/7Plcd31co35f4P5z+/w59eFXScTr7v+Bud715n/Bq+192/YIF0aN35UhYtt6Gw/j4TEfwL1t/PfPLP3zW9zPbD/GxbfHGDuDXjT3hsw4A0nD5s2+djffHsg/9fDP2iPhJrmD97+uNZ7QWI4HZF+x0JNG/7/z4bQHY6Nz4wMIJfIIfI3kOc8M7KQGhxo8E3bFqDF0hOiWWmMhJpmA57CroPEeOggLbHVsHD9KRUunI5RuFirBvE7APU6jWlMYxr9IP0GTrrq5wniK5LGNKYxjYlA7VPob1C4ULb+VArXF198YZ3eORuNXVWLFi1KYxrTmMYmoSpcxGpi5yFI/Kk0pjGNaWwu0p8QYBeFq2/fvn9OhYsdUcT6wTyXhjSkIQ1NBZYUUbg4czWVu4jSkIY0/N8EVapA+hR2KGLl+lMqXBqRV+OVpIL4NKQhDf83AYWLcCpss0/3JWlIQxoSCfQpRMj/UytcauFS4lPBQBrSkIb/e8CkDQtXWuFKQxrSkGigT8HChdN8WuFKQxrS8P81pBWuNKQhDcmEP/2SYlrhSkMa0pAISCtcaUhDGpIJf2qFS3cpphWuNKQhDc2FtMKVhjSkIZnwp1e40hauNKQhDYmAtNN8GtKQhmRCekkxDWlIQxoMqMLFgcbpfiQNaUhDouH/nMKVhjSkIQ3xAn0HS4qdOnWyFi5+pyENaUhDooA+5k8dFoKjfVThooNMK1xpSEMamgqqcKmFK92fpCENaUgU0J/86RUuzlJ0K1xeDOj9cHS/oxgkhNMSjl7glS4Wphq8aACjgVf6aBgUxEOLV1ovDBKaQo/XO5EwKPCiJRz18Gq1cIFe4PVuJAwK9Nvh9LjRC7zSRcKgwIsWN3qBV7pIGBR40eJGN3g9j4WpBi8awjESeKUNx6BBaQinKRJt9CcoXH/aOFzfffedbLrpplJUVCTt2rWTTTbZxP6Phe3bt18vLb+5p7+DwnAalE5FpdeNpHGn09/6zP2u/k416rfD/7ufR8NwPkB+c19/B4nQAbZt23aDZ0pvOJ3ue/p/Y+BH6Qqnw30/HMPT8V/rLFK6oFDp8iprzlLcYost5IgjjpCnnnrKIue0RkNN8+STTzZe62+93hgQmp5++un1aI6G4e+73yEvr+epRDcNSq/SFw31HS/k+cbAWzidbvrDUdO46eZ3+PMg0U2L+38sJB28KG/c29h4U3TTFQlJd9VVV1mFi8OrmeD9qRSuFStWSPfu3eVf//qX/POf/4yJ//jHP+zBkQcccIBceOGFcsEFF8ghhxxi751yyin2OmjcZ599pKCgQM4++2xLoxcf4dilSxc7UJSUlDTmc8IJJ1i+DjrooEZeg0Qt+6OOOsqTBy+EL+jPzMyUk08+Wc4//3ybF6FAtt56aznf8PX3Rt6cZxecv/53k4nnG6RsCSXAgK00g+G8uJHnKGdbbbVVY17IIafJn3HGGet9I9WosnL88cc3totY/CiSjnpBDs866yybD/fy8vJk9913X+87QeHpp59u6dtxxx034IsZKOcoYjVHxiIh7/O/uLjYlhH8MenjuqCg0N5r2bKlvQZ5FggWFtm+JDMzy1wXWlqgXTGcL0We5efnWz74zXuFhYV2oEBGla8geYMu6IFO5UfRiydF3qU/gR9+wwP5sMwTJD9upIwpe+iNxFv4fd6BD60X6l3lkDyD4q24yJE5flPuyKTSrLy4UZ8pKh/8t/kZPsgHfrUOg0ItU2gBY/Gj99A/qqqq/nwWLjpItEQ1/ysDXki6JUuW2Mp75plnZNWqVfadsrIye+/zzz+PmUeyke/ff//91o+krq7Ozrhj8abPTzrpJNluu+0ay2PixImWL5ZbNR+v91OBfHvevHm2obz77ru+aCEN+PLLL9vOkBAgXK9evUZ22mUnOePUM2XGkp/l4PJvZfIvv8ukn3+TSct+lyk//y7fLVspk83/ROP3rv/fm2/M/vV3WW1oPfLII+XAAw/0xRdIHe2xxx5y5plnNtZXnz59bOOdPHmy73ySgU4Zr7amb+Tn22+/9UUPAC9/+9vfZNttt5X6+np7TTtDubzjjjsC5Qvk+7NmzbJK4fXXX2+v3TTxW+sjFpJu6dKlVqYvvfRS+d3wufr33+XrL7+V7JxcGTxkqPz42+9S8ctv0rB8hcxdvlLqV6w0/39LCTYYnP/rSulnZtIFBcUydMggWQndYXyEI3UPb5dccoldXl25cqW9V1NTI1tuuaVcd911tk65FxRC3+LFi618PvLII77qjDS8O3bsWKukvf322418MKnbb7/9bBpF9/dSiXz74osvttZXNz1ePIH6/JhjjrE8aB66dNWzZ09ZsnKVkYeVRh5WSN0K5CM1cogM8n+++d5M0+4ys3Jk+HtDZY2h0YsXL8QyRP+P+xC8/W7aWIcOHeSiiy5q5B10l2EqUL/J/8MPP9wqUVx78eBG0vOf/iZVkDCFSztKPwiTv/76qxXCxx9/vJFp1lJV4dK0QQE03XnnnbZja2hosNdKZyTUNAzedJB6zQ5O+HrhhRca8wgK+DYdNvSwLRahc/MQCUmHBZNBDQXS8rZ6reyx5+5y3IknybSffpZjhv4gbfpUSV5ZrWSX10peqfM/p6wuwWjyLasxyO96ySmdJye8VyErDJ1Yp2h0Ws6xkHR77723VZItTwYHDBhgBwIULnfaVAPfpNyHDRtmy33atGnr0eOFCvCBJRPLHRMG5Y0OUhWcIAFap0+fbtvXLbfcYukJ58XrnheSbvny5Vam6fyRy7VrV8u330ySvPxceab3G3LT+ArZ4Y0K2ePtKtn1nWrZzeDub4M1Scfd3qmRwwb8ID3Lys1MvEiGD/9A1oY6+1g88vyGG26w9aZttba21tbrlVdeaQeW8HdSidC3YMECK58s07gHsUjIc9KNHz/eWn1ob3qPJWTao/IaJEITllj6cve9aPxBNxZpJnFaFmPGjLGy+UqP7vLvL6tkz7crjVwYGXy7VvZ6q3YDeUkW7vnWbOk6ZpaMn/S9ZJv6GjlmZFRewvHZZ5+1fKBwwRvIag6rHfHkkwzUejn44IPtpDteelIFCVW43P8jgTJIB4np78EHH2wsrP79+9sKpSEGDdDDDiksBHPnzm2kOxrwHCFkCRK/FK30b775xvKFwOq9oIBvM9BBz4QJEyy9fviCbmZoKMmffPKJuUcHuVb2339f6dz5ePlm0TK58ZOZkltWLRml86VF33pp0WeutOg9z/xfYNDcSxT2NvmB9nqeZJQtkGOHVcsKQyszy+OOO66xnKPxpnztu+++dlaq7wwaNMguTanCFRQofQxIDGhz5szxTQ/pWN6nQ2SA1ryw2F5++eWB8wVOmTLFDmZ33323pU1BnyuN7t/hoM9+++03O/tmGZa8VhuFi/prWZAv1/63XHZ8o1ra9a+RzDIjL30N9g7JTu+5ycfyedKq5zR5uWcvKSkpkhEjRhqaVxmMLqPch5dbb73VLq3yG2QCiGXwsssuW0/hCgKgBwsq8vniiy/67k9AJm4sT5WXl9t8eLdz586y5557NvIaFF98l+//7W9/s6sVSosbw0HfOfXUU2WHHXZoLItPP/3U9rf/ffU1OfejSsnsUydZ5fWSYeSPPsxTZhKN5fPtZPXq0TPkg88nSm5Gpkz43FmpiMSPG0jHCo1OuJVXxkdcFjSfIEDphwb6chTeWPToO6mGhClcfkEZxRxJY7vvvvts4YAMLAzoo0ePDqQw3AA9V199tfzlL3+xS3CxKhDgOemYFREiQ9/5/nszozB84cznJ59kAt+fNGmS7QBQBOPhiyVfd/0wSz/00IPlr0cdIdOWLJM7J86QQ4dXS4vyxbaRt+i90CAKkulYEork6QyYLXqbb5XNlU37VMkSQyuzY3yd/JYz6TBBu61iWJSYDLCE5yePZAHfptNmiZOOjoHNLz2kw9qDgqU+CvCHZQRFLGi+wB9++MEqXCzdQ1tTgbxYkqI/Oe/c82TdGlNua9fIlB+mSHFhK3mhZ5m8WzlfDhxSaeSlwShdCySrDBlqMBhS3pOImWawO+StmfLCq92lpHWhjBw1StaGlK1owHPK5Z577rF+JyqfTAAZ6KhHFK4gAZoqK40SYeTz1VdfjUvh+uyzz+zSPZZz8gHxD91tt90ar2PllSzgu0rPrrvu6osWfYcVjm222abxHfi0E+6XX5Z9B84yCpeRu3IjG6CVQWRxfZlJPM6Xnd+ukH7T62T0p+MkKzNLvvtukqXRD8AH9Us9OxNuh1f8L1EwuQaDAP029ND/4xvql69UQyAKF4UB4rR2++23N95766237IA+YsSIwAuM7+M7sdNOO8n8+fMbKzUaKF+s++NEqL5pDCw0uEcffdRex8onmcD3WbKFHixdfujR+mHJl/phKZJ7q82gdtTRR8rhhx4iXy/6VfboP1W2GFBjOpJ5ZvZWbxq5UYjoXFRBSigaha5ftRnMTP7mG3ml1fKjoQlT/t///nff5UwaliExRfMb1PgsLAXrvSCA7zKA9ejRw3Z0Cxcu9E0L6bBkEa1dLWPkxQTi3HPPteUTJPB9FH+WyrRdNAd4H/+0s882db/OaXeTp3wvRcUl8nL312RE7SIp6IW8IJNmxl+2KCSbqsQnD7PK58rdX1bLcy++LG3MRGzUJ2OtwiUxqpI6A/GNQpnU/gSFC6sLEzvuBQnQM2PGDNuflJaW2utYMspz0uELiiL5yiuvNN7DorTzzjs3Km6x8koWKD1Yy7GaxKNIspTPREfL4uuvv7bt95nnX5Cu46uMDJq+y/aP/E+NDGJlvWhsrZRPb5BRRuHPzsyWyVO/d+TQB8DH66+/bvnQCTdlgjXyxBNPbOQ9KFB62BC0MfRvkSAwCxcFgpkc/wS9984779iBbvjw4YEXGN8/77zzZJdddrEDnTaeaEAaEFM/fODkyjW+NwjqQw895CufZALfp8HRQWL54DoWaP28+eabVuH64IMPTENF4VprzbcH73+ATF26XG6ZMFPa9q6UFn2dpcTMspCFy70cmAhszFM7q5+kpOdsq3BRX+x481vOpPnrX/9qO1V95+OPP7Z8qq+an3ySAXyXToSlGurr559/jkkLz0Hovvbaa63ChXO65sUEghm4n3pPFiiNWFhZeidEQlPpcfOLc/Npp51mf69du06mTp1qJnWt5cWX/iulU+vkhA9rjaJl5MbIJ1YuR3ZC8pRExI/x7i9q5IlnnpV2rdvIuPHjTPtZbYgPMREBlDcs41hc2QkOb0wAt99+ezuwsFIQJEAfijPtxe/2eq0vJjSMAerbCtLnwptex8orWaA04g902GGH+eYLxLKMLCr9yDn9/5PPPC1dPzUKV1loMpoi+QNZUjzg3Wq5dly1DBk6zPQnuVJZUSHrDI1+AD569epl+VCDCNZVXDhwx/BTPskEvg0NWNwwlEDfxgiBKVwgcbtYttNrds3hOzNkyBB7HSRQYaxNozGzC0cbTzTgOZVOfA8ULjpI7s2ePdsOmN26dfOVTzKB76PQQg8zZb98gfjY0fGz5Ib/CY7Jp556mhyw9z4yYcEv0uWDaXL08Co7m8KHi0ZuTebhClNz0XZUDY6VovdCyS+tlHs/my6/GhrxncCy47ecSXP00Uc3OrlyPW7cOFs+mM7JJyiAFr7PTl7KHb/HWDzxXN/r2rWrtSBhgeAe/CHPqpQEBUoLM3+sUjrgNgXc/LI8yRKQ3kPhYkB/6tln5cqPZsqZH1cZ+WEy4FhF7ZK0l3wlGFle3/fNKfLov58w9JTI5xPwnfFfj9Q//QkbjbjHBBA5P+eccwJXuKBPNwWxQsE1NEYD5U3rH/54D0RZ0R3esfJJJvBt6MH67fbvjAbKFxNuXErggfdwKUFReezJJ4zCVS1ZWOXtMl9q5M+i+VZuebX8b3K1DHpriGTlZEtdfY2h17/Cha8dfAwdOtTyBX+UD0ppkPXFd5UeltrRKbjeGCHlCheggok/Cctvev3ee+/Z3WFYuoIGKgxfINaEUbiUxmjAcyodq53bIsGSDtf4YpBvrHySCXwbp3BmpPEokiD1wsBPPVmHXzNo/O3sc2S33XeVCuvDNV0KymrtkiL+CRnWR8HxH/DsBJqFCyW71LGgZZfXyP0TZ8tyQyu+E2yX91vOpMFRl2UM3UqsS65YurgOCqCN77OkpEvUsXjiub7H7j8ULt3diGxiySMu3MbAF0tKuBUQbqSp9Lj5xTLCEpDeY8kcS8OjTzwhN4yvlt0GzZEMaxVF6WJTh5dcJR4zjYJ37JAp0u3Rx6TVJpvIl19/bpc9DfUOEx7g5uull16y8kgoHe7RbrFUsjkHK3qQAH1svmEgZqLMNTRGA+UNH0ksnG7fVnZesiEAWeVeUAAtfB8Lju5g9ssXE263SwmbQyifBx991GXhSq3ClVE+V/YYXCXPfl0jb/brJ9n5BbJgfnwuCviSMm5oPVNHrA74tQAmC7TcoYFdzxvz+auBWbgoHAZHtpTqvffff98qXDpTChL4PgMxDtU//fRTI43RgOcM2lR4RkaG/PjjjzYfdonRYRL/KEjBBPg2pn+dMUOfH75IR0PjPRQvlhTXrFkn5//jH7LDjjvIvBUr5ZKPK2SHwTVW0crAimAtXFijNuwAmoXWRO7svsFikVdWKQ8YZW+5oYkGx64uP3wBpEMBYbBm8OIdnbF/+OGHjfn4ySvRoN/FMopi4reuQNLedddddkCjw+cesoc8E/CW50GB0ofChdM0SxVNpcfNL8vJDAB6D8seCufDZqAbWrVA8nvVSIu+zmQgKXIZAZHT44fOkLvvf0jatm8rk779XtaEaIwGytdrr71mB2zCL3BNf8QEAQs8uzODBOjBp4f2Yl0NfNSj1g+WH5a8mVDwHshkSf2f/OSVLIA+2gsWYfzKoMVPfYFYlhnHqBveQw5RVO578MGQhSsIhWuenPBRtbw+pUFeL+tufQJ/MuMTk2Y/AF+4lGj/zzW80XfSpwQ5rmm5g6ya0e8FKTvRIFCFi/VWdXAGGeAQBCqWNEEC36fzxmRKUEWlOxrwHD5uu+0220EuWrTIXrN0R4eExWFjULgY4OgQWI7wyxeIZQsLl1WIzTVhIS7t0kX+sv02smL1KjlxWLXkmtlbJgOadQqlsaMUbdgBNAvJ1w6YJm/TkeSW1hqFa4ZVuOjArSUxRHMsoH6YwaL8q4+M7uJk6ZRrP2WUDNDvIk8oTn5kR9+BbhQ1LDwa3oL32Rxw6KGH2udBgdKIjxxxmPqZGXdT6dG84A0HXuI46b2ZM2fawfuBBx6Qn9atlYLSOiMzIf8ZK0cpGvCMvG5WOl1uu/deadd+E6MAUx+rxFAZ4sIb4IFywRmd/kTjAWI5R7lkNxYyGyRAowb2xCKsZR8NNA1yyckQuksVJBQPbZjfsfJJJvBtaMCS6I4zFQ30HXig//jll1/sPXUpuef+bnLDuCrJCsDCZfvh8ga5/JM6efmV16R1cYn8+JMzrvkB0tHvo3ARTYBr2hw7FN1x04ICvk3Zc8rIww8/HCgt0SBQp3k6SN3CyT12v6FwYboMusB0cMJcGo/ChYXrXtOx0sA0nAQ+F3SYWL54HiRvfJslCspZG4kfvkB8v1C48OWyCpcZxK646irZcqutZcaSX+XKMTMlt7zSNO6F0gLnZBQvlhcT7StjFS6WLFkaWmh3KN4/cZr14WrfroM89LCzOcHPTjDKAJ8mlrfVR4YlOOrPWvJCshmrjJIB+l18ElAc/HRq+g50E+OODggFknu8j0KiM9IgAXqIt6cuBNDbVFB+aa9MkLTOGOiIQ0acr5/NvaLSCiMz+G4hN8hSaga8LKPkPfB5pdx8x53SoX07mT59hjMhCNEfCZQvjU+om1yWLVtmQxXg8oBfX5AAPfj00C9ouAAwGmgaDQuicdi4x293DMOggG/TRpiI4fbihx59h5UM+nsdNwibQf3daSaCN346R7KtwmVkQyeOYfKSFDTf2nxAnVw1pl6eeuppad2mlfzIEnVMKXQAPjgRgHpmhYTygFf1c+Z3rPJJFvBdEJrY9YpPYFC0xIJALVycVciWUhVmds+x9k28p6ALjPV3/F2wcqkvViyaeI5CxYyNBsdSIrzhc8E1u8Y2BoWLiNDuuD5+gLQaLqHxdPU1a6XrdTdK+47tZGT9Urn/mxrJLasVG1TSLikuNL+ToHBZxBeHfBdIdnmddPt6oaxas0LatG0jzz3ztKxbSwcQmz/qmU4DhYuBjPTs6qODxNKqZeS3nBIJfJPv40hMx++nU1Naee/f//63dRrnYHm9pxsE+B0UKC0M0HTgziaMppev5ofzLsokv7lXUVFh6xUL4U+m3Z38YZ2Vxwxr5QrJkKdsJRZxkn7gi0q5ruuNdolz1kxn12gsIA11js8l8ojFjntYTohVhWWW30EC9DAQs9kJBZrrWLxpGiY2uABQP9QZyCQBmQ1yAAf4NvRggaPfVpmKBjyHbmJL4lKivr/qUnLzHbe7nOZN32XRW2YSjSwp7j6oWt6c3SAPPvSwtGu/qSxdwpKiv34A/tnU5u7/uceuUlaq/JRPsoDvKj3oD/iEBkVLLAhU4eLMu2OPPbaxsuiAsbwQdyjoAsOfBwscO1TiUbjgC5MmDYyZDbzh7IrChUPoxtCRaKfmt5GQBsQCydKBjQxtlBl2Kd5x852ySbsOMvXnX+WfH8+U3NK6UJwZlm9wak+SwsXAia+YwUzz+6/DamXCoqX26JT/vfqaoW2Nr2VF6gPnYzp+fGMoE52RYmnVMvJTTokGvsn36dRY2vCjrCutvMdMj3pmW7rew6lc4xwFBUoLS1B04CjysfiKBpofPpfu8B7UI4pq15tukrcr5kt+aWiXopVPBjuWvj1kK8GIzw4K15Vm4MbHxO+JAaShnljKp//AIgRvWLVQuAjJsjEoXAzALA1rGJVYwDugHu2kTs7cY5LAZHBj6CehiSV5t0IYC6Cb8D/UFysc5KMuJV1vvUVuQOFiMqqTUvt/fXlJCppv5JbNkwGzauWuu++WzTptKT//tMh3GZMOH2vaKy4pWj4cNM/OwCDrS2nBZw6L+cZgsIkEgSpcWI+I8M1vCowjEFC4iGgbNGinhlOgrsXHqkTli04DxUTjH2E5oQG6j+IICvg2wWaZafttJKShfvRMMCfA4Tp7WHS3bvdJ29btZKXJ69KRlbLLOwxqTgN3BrUkKFsWWRZC6WLwbJBN+1VLnx+qpaCwQHqVlTsWrhD90QC+CFTI0hObHOBVjyrhKCOeBwVa7sTNQvmPR3ZI99xzz9nBSwO4Ut+ETaCD3Bj4YomadoJcNZce3j/jjDPWC+9RXV1tQwxcec018sL3tbLzIJa7HblxdiomSzbXRxSu+43CdekVV1qLCXT5rUf4QiGl3enJEAws8Mlklb4lSIAeJsj02+zu5ToWbzwHsdhhgXTvKibmXHFxsa98kgl8GxrYrKI+ZrHo4TmyRyBf+g/OMOWeupRcZxTLxz+rlKLepo+0/aNradFDbhKKRt5zSmvl7ZmVcuMtN8nWW23pLCn6LGPS0V5RuAiAqrwSgoe+0+9Ykgzgu9QPLiHQpysTGyMEqnBhPeJ0eH5TQGwvpuFyZlNQladA5anZXn17YtHEc/jgVHU6SOIAcQ/ljYHFHqzro+EmE/g2YSv8+gQByhczWPiyFkijcKF0PfjIQ1JYXCgrf18lPabWya52UAuFhLAKl0fjbzaafPvqkqLptPrOlc5Dq2XJyhWSl5cr/d98o3FJ0Y8PFxG76TR0FxgzU/hsTriCRICWO0rS/vvvH7fCha8egxcKF/mA7LiC142BL5YoKGfavV++IgH5YanEmVzlGsWGyPoXm0Hhjk8q7YHVmeWcY4dsGoXL/veSr8QiClc3o3BddOllsrlpd/WhgdgPwBeWf8pJLUhqfWd5GOt7kAA99NduOYvFG89BlnxR/rH863vsyGQM8BMCJZnAt2lv0PLYY4810hwL4IP+n/5ej9RSl5Krr71WfliyQnYZXG2X+Jx4cKlR+vlOVlmDPPtdlVx7/XWy/XbbyI+hlRs/QDo2taHQcDIAfILsyAx6kwPf5fuUM+2EJfigaIkFgSpcmMTdOxzYJo5pmllO0AWmO4FwqNaAk7Fo4jkVr6eqs+0Z3tTUqQfrBskb377iiisaY934oYU0oManYobDkiLn1T35+GOS19IoXCuXy+tG4dr2zQqrZDkdClYEr8bfTAzNCjm0mmVLrFydh82R+UuXSU5WjgwaPMiWMzTG4o8ywCyO864GgqXh4oPx/PPPB1pffBf6sASzs9BvfQGko54YMDjLTfkgWKY6JQcF0MH39VDur776qln0aH7sJkPBUsUU3xnCfXQxE537v6yWrQY6ZynaTR0oXCka7LLwMfy8ytBxsVV25yFnhr5YNal84RtFOWkgXvUvxWctaIULGrGkEuiTeuQajAaaBoWE+rr00kstXyDWc/zB6DNj5ZNM4NtMtPEx1MCsfviijRLIl/rSFQ5cSuhPrrjiSpm/4nfZ/12CQxvZoH+0crihzCQczbfYzd2/YoFccsnlstOOO8rPy+KzcNkjgYwiyURO64vlVjbm+CmfZAHf5fu6MuE3PEkQEKjCxQ5FdtvwmwIi8jADBApLUJWnwA4TPQZFG38smngOH//973+tYkJgP67pIJkB6hlPQfLG91Ew6Oj80qK8Uz/w5T777Jln/mM6pQJZumKF/GN4hew5eI6d0bfos0ha2P/J6FAYKFHoFkp22Vzp8kmF3PnFAlmwaJFtcPgaKM1gNIAHdiFh8aPBcs0gBp8cOROPkpNo4Lt8H2WL2Fnx0EI6fBlQ9LGMcA1izVP/vSABXggHQX0xMWkOPfDF+wzc7s0FhFGgDZ9reL7n0wrZZhCWBWcyYB3nUzTY0R7u/bza0HGhbLnlVrJ44XzfCheI5YhywocSPulP3DuogwToeeKJJ2zEeD3sHYwGmgYLJBHz9TB18kImsKIwyW2OTDQXoIeypR9AwfDb9qBZA9XqCgfLvihcuJTU/7ZS9h/MkiKTxRQpW6BVuKpkwKwGOzHZddedQ8q6//5k7Nixli8molyD7Mhn2VWvgwD9th6iDp3U18YIgSlcCCa7w9znZrF9HYWLgS6oylPAgVrjhMWrcOGDhmC6fWeYAWrMsSABerByMBBBSyyeANKAGp8KCyTLiWvXrJYXXnpeMrNz5Ku6uXLae9Pk9I9rnJ2J1rLVYJQuGnsSLAm2w1ogmX3q5cqJlfLIlwuszwQNTg9XVYwGlAEdIb41NTU19hqfPTp9lhL8llEygG8jO+zmxRrst9MHSMf2bawFumQHsqyN8o8VKCiADnjB+RZ5IjBkc8pZeWM3GZZKeCM/LJZM6P5u5L3H5ArJK6t25BLrqLW+psrCNVfu/aJa/nHe+bL5VlvIj0sWG4ULukMMRAB4gg/iVVFOTCRUJlC2NEZgkAA9+CzhXK6Kc6x61PqivdIPMQngPZBYT/CqG1iCAugjjiL9CS4UfvkinQaq1fIgVhr9CW0vSIUrr7RWXp9aK2eec7bsvcduRhH8NUR5bIA3+hHqRg0iIBvECF6sVmUw1cA3KWcUXOhTi/7GCIEqXAz8LG3xm3vswmFbJ0c9BFFxbqCxoQziUB1PgFB46d69u21wVLzeo0PCqVd5TTUo/XyfZVK1LOr9aKBpqB8EuvHss9Vr5JXXXpHMrEz5vLJa7ps4Xc4ZOUcy+mpnMk8yOMA6GUs3duBsMINonVw7oVIe/rJBZs50wjloufvhDT7wIcEPgRkS6XUJ2K+zbLKA71JHDEoEGIyHFtINHjzYLomwGYVr3sfJFd6CPBJG+dKBSeNL+eUtHHgPxJ+EXYAq1/jiESPodDOx6zF5lmSXcaC6I5f4GTqTguRjjlH0Hvt8hpzx93Nki623lGVLlwhnV0czLihPlAsnBbCUQ33qfSye7PJmuSpIgD4C7LJMrbsooS8aKA9YlHHbYCKqSrL69XFAd6x8kgl8Gwsp8skuTJWpaMBzeGAigUWLFQGuaWtMfFAsG377PRCFC6vu+WOqZeCsejnhpBNk/733lCXLlvu0bzm8YUCgbvBRU14Zq+lPNGh0rDJKBigtbCqBPiYoXG+MkHKFC9ACQuPHsoAwc01cFrTlxx9/PJCKcwMO1Cy7sSVfHThj0QQPIEs5dJDugY4lK5yf+R0Eb0o/32f7PE63SosfekjLDIIOiCUEHNKJNN/T8JpphHx2w3w58r1aM6DRkeDQbv7T2JNi3QrtTjT/CSJ44/iZ8tDEafK1GZhocBoGwQ9v8MXZZwzUOPGSHgUbxR9zeVD1BfBt2gY77dQ66pcW0hGQkpk1uwC5Vl51ySYogBb4Ul8XXcptKpAfyAkDTGx0cGTQ3muvveQUM8HoOWm25BrlHKd5e+yUtXClZsDbd1CNTF/yi3VP2NJMMJct/0VWQXOI/kigdYYFEMUZ64/ySngPzvnDEhQkQB9HqbDrWZfQwFhAGhQaJn64lqjChWN2ImSiOaA8MBGAFuKMQUssvnhOOvp/3sPnlXtul5KgFC76ym3eqJMBRuE6uvNxsu+B+8tyQor47NrgSxUaHZ+5x+Sb/kR38gcBSgvjLfSx+5XrjRECtXDR+bsd7ojLgsLFURxBVZ4CyxEMdPg7aQceiyZNw1IOCpcubcEfu3FQdJTXVIPSxvcJxcEyldISix59T88EYwlhrSmT1WtWSf83+kt2ZpaMmjpDdh5Q4SzVNC4lEvgUJ+Wwxt9cxDKBU36feZJVXitdx083CtcMGWs6ODo6PazZD2/whWXEBqQMObmC+CXgEOonj2QB34U+rG/xbrggHYMX9aVHriDH119/vS0jDScQBG9KC7NjaNHdoU0F8uN9wrHomZP4SLEdHznvfMKJUvH7askrNwOdkc2M8kXOgJeiwKfHDKuSX9euklNPO1W23WZ7+X05LgqxfUyULwZ+NhO5A04yedOD9YMEaNFD0um/oQ+MBpoGCyThLbDeopQgE0wOkAlilZF3qkFp49v0dwzg7iO+ooG+R//PexoIlnv4uDFpmrdyleznVrispX5DmUk4mn64TVmVPPNtrRx26GFyyMEHy6920uW/P2GJlLrh7EuuqS/1V9ao+mCqQWkZMWKEpQ/fwCBkxw8EYuECKCR8LuggKSyuGfBQuDBRB1FxbmCGxXInjrhKXyyaNI0e8qkBHal8/MHidXxOBkALM2OWI5TeWKA86JlgBE5du2atrDIK19sD3rZLil/OqJBD3q20ClamdiKNgU9dDT8RaPK20ezN79Z9q2X/IRXywBfVMjq0fV4Dzvrhj3QMGCyJuH2J6CBRxPzkkSzgu9DDpAQ/s3hoIZ3uKtJdOyDnvNEpBWkZgTbagcYrYlkM2poKWi4sdWCZxLcQhWvRogWy/377yt5HHCdXfTRDOgwgyjeDHHKJwpUaC8Mxw6plheHvxBOPlx132skoF78bokPERwDliXLBtxDfVuLC6T3cE1guDVrhgh76cSYF7glLNFAesEBiaee0EZbdkAn8hJAJJk3NkYnmAjSq7xwTFmjxwxeIRYx2h/O23sOCfvrpZxiFS324kD2ULiMjob4smchEuPOHVTKu/kfZ74D95K9HHC0rlv9qxNB/f6IuJWoQoUzYCU19MblRXlMNfBPZYTkaWjTg7MYIgSpcDHSYWpndUHks6RCoUc/WChJw6ETh4hw7bWyxKpHnpB04cKBdAtDdctyjY+EcO80rKODbzCrZ+cZvP7RoOo3AjkJs+Vi9RoYMeU+yzb3pRhm7fUK17Dm4XjJKnSWbTM5TTIb/FhiaIe4xuFZalc+Tbt8ubFyO0EN+/fBHOgLBonC5LWN0kFhg/eSRLOC7LLXQRq655pq4ZId0hBGgPIYMGWLfBbHacQ8fRU2XauCbdJAcgcLEhO330NYcIE9m2ygmq1attHHiFi1cJAccuL8cdvSx8r8fGiSvtOoPC2xvrFxJks0wtAqXmaAc2/lY2c2eOxd7wwL8gJQLChcTUTbjaD0Sc4w4gQx0QQK04AOJy4RG0AejgfIF7Sz5ElxafYAILUEfwwYdroMCaIQW2gpLVdDihy+QOFBuyzLvEg7kxJNPkfm/rZQDBhmFixhwtg/zlpmEo/lOcc8qWWba3V577yGdj+4sy1eu8LuiaPlQlxIdn8Hwg9VjlVEygG/Sn3DmKOWu1raNEQJTuKgc1v5xuNMtwJjOGVz0KIUggU6ORkKQUBWkWJXIc9JyGC9Okji5cg1yxhtbuTWvoIBvsxmA2E5+eAKULz0TjAaHgK9dvVaGfzhCckyDm/zDZCmfUi1nfcyyDY283oZsSJaFi3yzyupkr0HVUtJnjnT7erEtdxo/s37lLRZ/PFffH2a0XMMbEbD9HlqbLOC7OPAjS1jb4qGFdBq/iQHA1pd5n7rjHst4mi7VwDdBFF2WyrBuNLeceRdnZcpq+fJfZN2adfLj4h/loEMOkkMPO0xe/b7GOs1n2PM9UbiQpdQpXL8Z+o466q+yjz16yJ+VmzSUC30Ru5yJd6X3WGLmiKagFS7ooZ2wOxQ6uY7Fm6ahnbLkiz+aKlxYUZBPYjJyHRRAH4oWtMQb0JWjmJhIuC3L9LnHHn+CzP3td9nXTBKdg/295SUpaCYahaXV8kndQtlppx3l+OM7mzI3ExOfTQ6+dImVdgtP9Cksn1JGjA3KfxAAPbR/DB1+42YGAYEpXFQWAx0VqA53NFgsXDfffLMtwCCB2RoO/bfeeqtvWrSSGfgZSLB08S6IRcl9sG5QwPc5vywefzLli1mMNjhnAF8lo0aPMveyZdzX38gr382Wwl5zbONmuSbTdijJULhMnnbAXGC+4cRU6vbNYunXz/GdIL6M3zImHbsRWUJUZ3t4w3+PDRNB1hff1eMqdBISD19qLXDLoR6szpK5pks18E1oYXlTQ1Rwrzm0kB/OypSVrX9zveSnn2y7O/jQQ+SlSZWSU14X8i00GPIB9JSvBOPRKFxr1xnFz9ByyCGGVn8nBmiZ0C8in/io6T2UHGJYqeIcFFDu7L5jgqKDbixQHljW5gQFjihSKyfLksinBnkNCqCPJXnaj1rbYvGmfLGywcDPEhfvgWwO+Otfj5aKX36Xzd4I+XClUuEy/XF+aYVMWrhEtvvLX+Skk0+S5SsdxcQPkA6XEixIjIk6gWP5lDJidcpPGSUDtNyJD8m4y6anoGiJBYEoXBQEFcYhn1QWPhzcYxDAp8t9mGlQgHDhl3DnnXdaWv0A9II0NJY20P7hA+QYDqJDk1eQfDG4sVyGGd9vGStfeuQNCrHT4NbIBDMLZEmx98gxct+E6ZJbViuZNvo7VgRn2c+7A2gGGoXLiaNE/lgt6uX+b360Pi5YOOKJUk06PcxbI2XDG6EYWLYJUg75th58Hu+OSdJ999139l2crXlX2xydJo6lmi4I4LssRSUqSjV5sKSAfP646CdZs26NLF36kxxx+JFy4KGHyWtfV8gR73O0D/KIwp4s2eS/TgiQ0XlyjPkuCteBBx0of8WPM06FC0UGCywxj7iGV8oOqwltMkhApjS8j9+dhcoXSz9MQukb2cTBu7ozEP9XP3klC6APCxVtRf3JuBcNlC/eQ/FnVynvgVjyDj/8CJm89HfTR9ZYGbHHn1k5SQGaCUZh6Rz5bv6Pst3WW8mpp58uK5dj4fLf7qgbyoPxmXoH2QlNfbHc6KeMkgFa7sTvZOkduoKgww+kXOHSwqFQ2KVEvBLM4lQWnQemcz3MNCiAPsynKCb4mfgVJOWNGQ4V37t3b3vN+ziGxnsAcSJBaUMZYZA75ZRTbB34AX1XAwGyvOU0uLXy5Recr5gpA0Z8LNeMnWWdkrPtzK3OIIpXWMNPFGLlsp3WXNn+7Wq5/9vF9kw3FN14yph0BDhF4dL4XfCGn1uQcdMAvs2yC2WOUhhPR0I6dXJ1Dht3FC54pdP062+TDNDvYqXBigxtYHOA91nKoazsEU3rnBMDWDo/4KCDpN+k2fL3j/HhYiLATsUkKFxm8GTJ0p7vaf/XSUbZPDlt+BzrNL/vvvvI8XaiE1s+tYxA/EkpJ/WdBNltys5neA0SaGuEdcAiDC2x+FIgHUoWZ+lSR6pwaewr6rK5MtEcgD58H7FUqfUmFmh9sVuOiZ97wo07yaGHHiJTlv0mm/WttP2iI4NGHlNgaSUO1z6Dq6X35Dmy1RZby9lnnSUrf3PiS/oFLK30J4zP9CXwpTuh/VoBkwFa7kxI0B+CosMPBKpwsauosYM0hYR5HAsXzspcBwFKH7MaFC62wPqtQH2XU9VRuFhT5pr33ccY+ckr0aC0sb6NUEIPtPgF3lVrCw7cOP6uMwrXN99+I1nZufLRqE/k5GEVkldeYZ3lbZwsM8NPisLFwMZg2Zco3g1y1Wc18tDX8608sSQdT4MjHe9RJrqNm0GEnZwcXB5PXokGvs0khDJnOSke2SEdyzN0kOwk0g7yqaeesveYUJAmCN70uyzZxnOmZyTgXfLAskBZMROHVwZxrCcHHHigzDCyu5WRTWc52gx05T9aOfKUr6ainQRg1TJoBlNOXCjqWSn9ZjVYhQsH8dOtEh+bXy0jECUEHyms7VzDG1ZmlvF4FiSw4YkQFcQs1GClYCwgDcuIKCJsJtJVDiZ1yKdah4ICaIEGfIyxBvvhS9PgLM/SVnl5ueUBZIf6AQceLLUrVknXcTPNpNQo5dZKn3xly6L5Tqvec6T0u9myxZZbyLnn/ENWroxP4ULWUK6c/t/pTwjjQX2xOsB1PPklCvgm38YnHEtwUHT4gUAVLg18yAyOQmI2j8LF4co8DwKUPqwD7FwjyKffCtR30frxTSHiPO+CmN0JDdHcwaWpoLQx60e54Fglv5Yg0sAD71Jf1M9qtt6bgQNH84ycbMPzSCmdUidnfoy5nJkbHUmd+W9+e3UAzUFrSeD/XMk014cOnikf1S6WB+5/wPq6KK9+gHSYoimTcePG2WvqiJl3kHHTAL7LrJIyJ8BgvJY7XZ7Rw2bhSw9WR75JEwRvfBN6CATa3DahPJAfPjfwq+EJGNCPOeYY2Xf//eWlz6fIbm+bsizDwsVgp47ziURkvt7xK7QK11wp7mlks2aeLDfs7b77bvIPe55qfAoXS3X4XapvK4jyxaaeoBUu/GWw3rO8GU9oANLgKM/xRPjZ6VE+KF4M6modCgr4NgoTFnO/ChdAGuIv8p72/8g3R3Ptu89+1mn+gYnTJKes1sifkZcULSsii8d8MEde/2q6bL7FVnL+BRfISlwvOGPKB8AXCjV9h47P8KbH/fjdyZks4NtscNNA6kHREQsCVbg42oPKUpMtjY2B75JLLrHPgwCljyBvLL0xQPkVJH2Xjh/FESc+3gW7dOlilwCCEgaljY6NMubIongHcAYwBjTqh6Cnqw1f02fMkLycLBk69AO569MKOWNUpelE5ttBh4EtaX4KVuly/MRal8+WxWuc8A743fmtL4B0HMZKfWncHOqIWTdLHUE2Xvhg6Y82Es8BugDp8P2hvpBh3iU/Jjm6BBAUaBljGWHpVmlrDvA+S8Lwy1E4XGPNZQccOwOHzqySktJqM/AwCUAxwrrgIVfNQvJF7s1vO9Gok8LSSun1Q5WsMDzjF/iviy8ytMUnU1g56TtYRoQvkOVFBhcmq0ECO0wpYxRn9+7gWEAa3Bs4ExIrF+/CF30My3i6DB4U8G3GJyzmfjcDAKTD6kM8ON7X+uI4tT332sNGmr93IhYuo3AZmXH6yXA5Sjxmmr7ykrGV8trEybJZp62ly0Vd5PeV8SlcrEDRvohNqXwRTZ/+iTGPa7/llGjguyiCWH2D7LNjQaAKF4eCUlnqlIgFhYFPo7sHAUofDsf49ah1wE8F6rs0OPhwDnl2BBMlhVlqUMKgtGGyR+FiZ5HSEoseTUMHSWeo9UPw04o5FZJv7r01eIjc+el0OQM/GduJhAa0pClcfGOBZPWulSPenSOjahfbAIw0uHgUSeDll1+29aUBDuGNnVMMBEHVFwAtRO+mjdB5x0ML6ZiR4iPJMqKtL5MfvJIf57wFBdAGPVifWLpNRBnD27ffftvIG9dYULAsEJG9YvGPzg5aoxA5flaOsu4pW01FI+eO5ZXreXYwzSurkfsnTrcK11+2/4tceSXuEvHxi8KFBYkBBb54F38VLPBBKVzQAFLGWIIJUaHLgn54Iw3WMSY1BGGmX9J7LONpzLGggG8zOWEMoIz98gRiKWeFg7hw5AOywoFLScMKFK5p9pgpKye2HwvJTzLR9MfbvDlH3vx6qmy+eSczHl0kq37330/Cw48//mj7k3/961+2j+Ue4yRtDr81rv3ml0jgm3z7/PPPt76EQfbZsSDlChegBcQ2biqL5Q2umd2gDBBjhkILCqCPTpvGprMUv8C7bGmGj8ZDng3ilxakuZNvgnTezNo4xxK6/NJCOmazdIYItvPuGqmqqjb3Wkr//gOk++RZkl86RzL6EFSSRp4sczmdlKNw7fZujTzw2QwZW7vAzLwus74k8coOdUwHqZ0G77NMws6iIBsv39Vo1+zAjIcW0mHNZEaKH6K+yzIH+ek5b37zSyTwTeg58sgj7TFT/KbcmwO8r5sEJk6caPNEXu1mlb32kmfGfS+FPSsly571aWSIaPNMBjzlqxnIMnej1YKt+PVyj5HPFaatbL3NdnLTjV1lHfyu88cvZUWbJQQEbVbLCp8+LPDxWF+SAShc+CdxCDU+c35kStPg/4WPHUq3KlwM5FiHsDo3VyaaAkob32ZTF0qtljEYC0jDMht9rK6OgExSd9xhZ5n320qjcM2Q7PIaa3XylKFkoJHJwp6z5YfaOum4eUe54rLLTFnHV77UL+3LPVnHmsw9divCp58ySjTwTej529/+ZhV/pW1jhEAVLt3GTfwjrmm8+OCw3EWhBQXQR7A7BmEc36HNL/AuDQ6FiwbLuyD+FzTeoISBb4L4g9AZYHGDLj+06Lt0hmwG4BBW+66ZqeNjVFBQKH37viE9pjZIQS+WFPGRMTP8MjPw6PEVXp1Ak5EBjZ1m8yW3tEG6jp8hX877ySiCF9iOHzrjASyt1DVO1/AJb+zi1OUuP2WUDIAOtdr06dMnLlpIx7Z7FC5ib2ldI8+qlATFF9+FFywbWLkSUcbwp0dPYWEmT6wldtlyzz2l19fTZdN+FWYyoArXXCNHCR7wVJGz1t0FstOgaikqr5a/D59tFK610mmLLeX2OwkaicJl2lSI9mhAueAbxUCiAx28MpjTx9D+gqpHgGVbFGei3jNhhpZY9Gga2inLkYTLcft/0T9hlY2VTzJAaaCMOXoKFwW1cPmhhzS0LeWBfKgzduRifWFJ8YEJ0yTHKFwtrEtEmAwlDedJca8KmV5ZJZt22kyuueoa+X3NqrgizatLiY7P3MMCTwgMgivDa1DAt9nkxHFX/PZTV0FAIAoXQKGwC4QOEt8LKpAZKbsMOOQzyMqjsrAA4PioMYz8VCBp9F2sY5yqzrsgOyi45zevRIPShgMonYEuT/gBfZf01A8zCcvXutW2w0cJ69Gjl5ROrZNTR9UJgUidJZUkzuCsH06dbPpWlZw6dLqMrF0sZ5xxeqOS5BfgC2UGHvSQWt5HBoPc5ABACxG36eSYnHDtlxbS0UHSGepRHNwjVAltDifXoPjiuwy2LPVhgaKMoa85wPtMJuBNI3xjQWE3Ls7qs+Y1SGEvTkGYZ+QT65ZRilj+85KtpqJVuFDonOXKg4ZUSXHvajl2WLX8aop6sw4djfJLPLWQTEUpfp4rooyg0Gi/CLI0zCTBrXDp/1QB3yNoNX5YDHRMmP3QQBoQPvBtQg7wD9J7WO6IF6fpUglu2vCTY3coGxP80kIaJusow+7+n519W261hVG4VhmFyygp1mk+GX6EkbHIyP/3syukQ4f2csP1N8rva/0rXAD1i/+nyiG8MsnBzWTAgAGN91INfJNvszzNTuAg++xYEJjCRYFw9A2Die5wYEZKKAaNfxQUQBuzFJbPdHuynwokDUiDQ7nCz4J3QeIooegExZfSxnmIKBd6Np8f0HdJz4yP0/35zZJibS2nAxTLSy+/Kr2m1MrZOM2bxs3h0lbxSlaHYge3Bmn3RrUcPOgHmf3LCjN4n9AYXNYvwFe/fv3sMgaxf5RPZnE4Kjt8BtN4+bbuAtJjovzSQjraE9vT3VHq2f1FB4mTa1B88V0ULqyRKETQBjYHyJOBkf6EwMPIAN+wywzmO6NnVtjlvT92KOqyXwIRmQ+FQyH/7d5ukLw+9fKPkVWyYu06ade2nfz7yX8bXlEwaVMh4iMAPIEstzGRQDnRssIqi8xqANsgANpYZsLXkRiDTJi5FwuUL/hgpyq8sWyq9zp06CB33HGH/e0nv0SC0ob8sBMUv1uNL+aHFtLgjoLChdKo9cWpCriUoHBdMXqmZLFb1spJEpa1vdDI4479K+TZjz6Tdh02secYE0cxHo2LCQxGCOpM64ad0IyTTFr9llGigW9SX+ws5+SCIOTGLwSqcBEgVJcAKCQKDQHXjiUogDYGOoLX6SCsGA00DctALI1yqjp8gJiX6SCDEgaljS3zzIyJFqx0xKKH50q3PYS10SqBwlUtbdq2lmeef1Ee+3S6bP+WUbj6zpdM6x9jBrdk7MKx+WGhWCB7vtMgO70xS4ZVL7YzHBpdPEuK8IT1CMUEpUZ57dKli+WVazAIgA52TjKrjNdHgnR0kCjX7pMbmImicBG6JCi++C7yg0KLMzHXzaWF99npRn/CcSPwyzdQnFG43p8yUwpKmQyEYsNZ+UQ5cslVcxG5VKuZUeqc8BDz5I4vF8laQ0txm9by3Iv/tccOrYbnEO2RQMsFZ2Vm7u64cFjekdkgFS6AjU5Ei8cPC3lTmqOBpoEXFGLrTB6yInEPxURlNtWgtCE7KEnEifMbX0zTqMKlQbNBlLcO7TpI/XIOr55t5AJLaILlLwoS8Pf4UTVyZvePZJN27eSuu2+3MulX4YIv+lXGDibcyqvjUuKEwNB7qQa+SX2h9KP8U95B0OEHAlW4cFJmMNFjHLiH0zMDehCNTQE62GnCwASNXCtGA02DozP+WnocC8iOl3iPnUkkKG2suTMIY/VQOmLRw3Plg63t6nfD8Sl1dTXSnpn7f56RVyZXSI7dfYMyRENnBpckhcviPNljcK3cPXG6fFi50Hb6LG/EIzvwhqLF4MUZmLzLPZZcmWnzO1b5JAugBfljWVD9y/wCaXmfjl9PbuAe5yoihyhwQfGmtLFcw44npa05wPssodKfqBsAyAacHY3MTq2rk6Jec6yyZScDdumPZWmXXCUCbb7mf19kn8C89XLQoEpZtmatFJt2173763Yrvh9+SQOy+QGlhp2zyheWd/onlnQ0Lz95JhpQuLAqu3f0xqJD08AHfmn4p6mfFHmw0zio4NdKF3j11Vdbvyu/8cU0DSFXmHDjRqJ5sdrRpk1baVi5SvZ9t9pR+FOocLGUnltWLfe/84Fsssmmcl83MzZZekPExwD4om5YuUHxV17ZUMB4wikfei/VwDcpYzaW4E/I7yDo8AOBKVwA2/DdgwmI3wyOlBRakMCSC7QRxC4eWuCBnRsoXMxqtPIRSPJTx9JUg5YvZ15haePgcL906Lvwgq8GMaqswmWKpaa+2vC6mTz074flpPdCW509G3wCkW9Yha5Bckrr5OwPpsrC31fZpQl2TMVbXygf4X4IKCl0LjqIBAHQgl8ZChIWKaXND2h9sUSPw67ygVJJfji5ch0Eb0obbcQd6qA5wPs4cFOP7hMeUOi2Nx3xiMlTJK/cDHRm4HEGOhSiJAx4ukSkEw3zjV0HVcu38xdLfn6R9O7bx57QwKK3X44Jt8AGAwYT6hG+mCTQnzCB0vJrbhnGA/o9Nmbgg0Wf4JcOTUN6dl4S8kJ90eAPJQeZ5XkQoLRddtllljbdQQlGA03DblkULg551jLRUzAaVqyU/QeHDq9OocKFpfXo96vkgbfelTabtJOHHnrQt+KvQFqsj6r4c43CBV/xxKtMNPBNvo2i7qZtY4RAFS7CJ9BBcmaVFhqDJluF+R0k6BlRHPcSDy3wQSfIYOI+VV1jjjEjDEooQQK6onCxc80vHfoufDCbJTI0v9eYBltfXycdO3aS+x6+X04ZVuMMNB4NPqFolTrznb7zJLtsnhw8cJaMqf/RdtR6KLdfgC8UfuTQ7ZjOcgLmc8zofssp0QAtLI/hIzFy5MjGevALvI8VCSuC8sVATX4ol/Hmlyjgm7QLYp8RHToRdPA+S1pYKgnzwTU8E6QRq/nUykrZaQDBJkM7w8oXOEuLXvLVHLTyT94hC5oZWI95f44sXv6b5OXmyMCByJjpE+A5RHssQKmhzYGqODNJoH9icNd7zS3DeEC/hzJIn+0e6GLRoWm0flBqNJo7vDDp1tAzQYDShnUU6xtLukpzNNA0TGpRuOhDyAckJiP9bt3yFYEoXJm96+XysZUydNx4adO6rT1TldAksXhSUN5YYnVbkVC4sKITpkTTpBr0u6xI6OpYEHT4gUAVLpQZOn+WOSggCoplIWLz8DsIUDrw3UJB0nhFfoB04MyZM61lgcFEFS52h+HQq7OlVIPShn8Ba+6YuP3Soe/CC3WDn9QaBg3zN69hrmzZaXO5575ucteXSd6Z6EY7sM2VrQfUyJ2fzZJRtQutcqH+BX6BulFrJs7zXINErWfwxvFc+U81QAdKIPWlTu5+6SAd72+zzTbWj0n5YnJDfjjPa7pUA99EkYUOt0N/c0D5ZXnjueeea7xmaYoy+G7OHLukmMkgF5Kd5Ax4Tt4sW3ISQsc3a+SsERVSv4QYRrny3pBhpu2stm3HL8coXAxyOATrBIClZvon/EXhMwiADpQRlBK3fxnoB0jH5h18+XC+5po88Ok6++yzA+FL6efb+BeyO5QlXT886bv0/+y05JB/8gEJ5MpYV/PL8sAUrqs+qZIxEyfYpc3/EAzZZyw4QMsE5VjHZ5ClYJRL3SDgp5ySAYxNWNrU/zsoOmJB4AoXyxv4XGiF4gugjm9BgNLB0gsKEjHCuOenAjUdfhUoXEQ+p4MkPwZO8ovnRP1EgtKGAokiwZZlv3Tou/Dhjg7OTqt5c+fLlltuLbfecbucNCxFS4oGORsso7xedh9UaRSu2TK6ZqG0D4Ws8MsXQFr89bAW6GGz8Ib/HUoYy1TKf6oBWtj9g6UNa3A8dJCO9/G5012/IBtVUErIV9OlGvgm5Ur5srQNXc2lQ/mlrHQ7PvXI0jBLDd/OmilFpbOcQc4OdoSG8JatJqNdQjR5Y0XDV6x3g1z8WZ10+2q+LFwwV7IzW8j71l91jaxbQ12GiI8BKFwslbN0x05AeGOjEf0JIXW4DgIocyaQWKQ4mzWeeiQdqI7pHGGldcgGAeLgBcGX0sW32Y2HI7ZG0I8F+i5H1bHCgQ8Y+YAE+aaPqfhpiewX0JLiEYNmyodmzG3dpo28+NzzstbIoF/QMsGayYRb+SIUC5YlQmgo/6kGvqk7spFD2n0QdPiBQBQurRg6CwpJz80C9agHCi3VoHRBBxYAOjT8sfR+LNB0hF5grfvKK69sVLhYyiG/oAIVKm0ouVgW8CnwS4e+Cx8s2dlYJ6tRuNbI3PnzZGszoN1w801y46fVst07RumyyymhpZtkKGDWQsFyzTzZfGCN3D1xtnxWv8goEsVy3nnnWTr9AnyxI5W6IZo77yJ77DANcgkY4Lv4IzFzi/dwWNLBBx2kWh9Alk/JT/2cguCNb1KulC8z40R0kLwPfyxvEIJF+WVAZ+fzlzNmSGGv6tBSH0oRihdy5CFfTcVGeWd3Lg7zc+X6iZXy0NfzpaqySjKzMmXsJ2Nl9RpTj2ay4tfERVnhZkFdqsKl4ULcLg+prEu+BeJQzpKttjs/NOi7pMftgvpBSeEesoDbgh4cn2pQ2qCDdsNpEyi83IsF+i7KIwoXPmDwADKeUF8zFywyCheuF8iK04clpY/cAOdKqx6zZLhR1Fu3aS0vvfQ/u0rhhy+AdPChO1KVL3aXEipI/ZWDAGhjMxoKLVbJRPQnyYJAFS6COrKu7T7kmTVYhDyIylO6+DYzEgZhwijo/Vig6VjX7tSpk21w+JWQHwOdO79Ug9KGpYQyZ9nFL+i78MEMwonm61zXL1wgW2+zvVx7w42y1Ag6jZpQEBl0JHZw82r8CUCTf3avn2y8r8KeU+X9qnnCEUNdunSxdPkF+MLqR2foPmyWKNPUF7NbrkmXauC7r7/+uvV10sjwfukgHR0PVhGUZH6TH0tR5Bf0Nm5COFC+TzzxREL85Hgf/hjoNIYTyG8G9O+mTZN93ppmZ/ot+johG6yVy0u2mo1GmbMKV4N0nTBbHvyiUiYbhS/b8PvFl1/YM0gNtSHKYwPBRTkTkuUtgk/C11dffWXLz72pJ5V1ybdAApbiO4nzu96LBZoOutnJhyuA7rZEThnUmXgrX0EAdKD0sYyLwusHlC+WR7H66PFpICsm2Ubhrlq4SM4YPkf2eLdCMk0f5pw76yVDiUVWBP46aLoM+/hjKWlTaPqV7oau+No/ZXLIIYfY8VnHNVZsqD9OUuE6nvwSBXyTNkJ70NMYNlYIXOFito1DIddUmD1Vfc89Ayk0pYtvM9BRgepb4Af0fda1EUJ22qhgsiOTQV0tZqkGpY0OGgsXkar9gr4LHzizagR2nC4X2g53G7nqqitlqWnA+MnYRm6Xa1C4TIdi/VrW7wCajSwp2uWhubLDgDkydFa9rS+ccOORHfhi2Zi6cR82y7FM5MeAwjXpUg18E5qw2tBWtB78AOmgG0drlqNsfZlr5JD8mOTEk18igW/SUVO+7G6CtubSwfvkw2wb30mtR5Ysmfx8NfUHOWpotZUX62doLQxYusLkqrlo8wWNUtenXm76dJo8NHG6fDZpsuRkZskk8986zdt9itFB64fBBKUZ3yZ2OcMXm18oPyZyXGv6VAMxqlgSxJqv9MYCTQfdWCNZDdCJKHXIoB6kWwnAEpWuthDc1Q8oX6xiIIcM/rrCwW7j7MxsqZ7bIFeMqZcLx1VJVhlBeDkKyiU/yULTD+/7ToW89+EIaV1UImW9SuN2mocPXEoYn3WSRDtmyf7666+3z/3ml0jgm0yM9WDtRPQnyYJAFS5mafhcYG2hskCODWAmR6GlGpQuvo0SyCDMGrUKEhgNNI1q/VQ+DZf38RMiP05Xj5VPMkBpI+YZy7jsmvQL+i58cAgrM9rVq41Qr1kni+cvlF2229EoOpfIsrWrpBA/GQ18ajoSO4NLtMJFB1XOAdl1kte7Vm6YUCmDp1WbBpdpO37o9AvwRdwcBi+3HKIIUF+YzLkmXaqBb0IH4SnY7KD14AdIhxwzaLh3t+H7g4ULRS6e/BIJfJNBiTJ/6aWXEtJB8j75oFzpKQogu3EZ0D/7YbK06TnHHl5tlxXtkmKYXCUK7WRjrvnWXKNwTZcHJ86QURPGSUZWhsyaMcsMdPDrv39DyWJ5C4WLwR++pk2bZsuPTRBByCffA4kQjwURB3G95wdIB90crI41iJ3deg+nbNwW+J1qUB5YoqLdgCi8fkDfZcKNwsWZs8gkfNDvZhmFe2Z1pVw9plYu+2SOZKNwWZlJwoQ0HI3C1apXhbw1bLiUFLSW3n37GTlcBdUO8TFA64ZNSZwQwW/uUf9sSrn88ssb+U818E0NeqwT7iDo8AOBKlzssGEw0UM+QZaE2PXC71SD0kWFPf3007ZDc1s4wGigafBrIEo524pV4cJCgUDwP0jehg8fbhUulkz9gr4L3TQsZrSr15iZ27rVsnDRYtl+5+2lyz+7yOi6nyTfBj5F0cKpPUlLiuRprVsNsvegeun22QwZ9MMsW184SVN/fgG+2MbNu9S5dpAoJNQXioHWf6qB72JpwyKFUhgvHfDCdn2WaJQvlpRpcyhyWq+pBr6JRYMyR/FX2poD5Ek+yCadLvmBLA2zgeWLyZNlz7dnG5kxg5tFHNuTZOGyy0QL7IB646cz5SGjcA0fNdIoXJlSbQbcPxQuf2XPMiKWfwY69SdiCQ751Kj6qa5HvgcyIUHJZVev3osFmg66WVLmfFYUSL2HRRblkt+pBqWNTR0oWwRSRuH1A/qu+jWxO1hXOGh32Ubh+nL6DHlw/HQZWL9Msu2ObpSu5Ctc9MfnflQhA4cOlfzifBkQCoETD9C+2IDDCgfvwisWTnaZ6vIp91INfBPFj/6EyRZ0BkGHHwhU4cLaw5ZSOkUqC9S4LJgsUw1KFxXGTicqUHeoKEYDTcPOHRQuZjjq5MqASQeJpStWPskAvgkdxO9he7KGBfALyhtOyFgMbOMyuOinn2T3XXaTf5x7gTz7bY0cMHimaeALhaMk/nBMTgJap/wFss2bNXLPxOky7PsZtr7Ul8AvwBODP3VDLBkd/PFx4h4Dm+U1gDrju7QN2ginF2gd+AHSwQu7vfDjUr5wskbh0k0TQfDFN1lap3z79OmTkA5S+cWBm4kOvIJM5tq1by9jv5skrXriX8gkAPlRWfIeoJqEdiLghIPIKFsomX2q5aZPZxiFa5oMGva+ZLfIlbnz5zohVeJQuLC2sGOOHafqU8hEgPLTUCaprke+B+ouNY6x0XuxQNNB9/PPP28nFEx69B7+atSjn7wSDUoblkR242Eh9rtTWdOghLDCwY5pnXBzvm5WVo6MMXL4KBbPxSslh7M96SO9ZCnBiE/tRaOq5I1B70peQa68984QWQO9IdpjAXzBB2MadaNtVn343LH+Ug18E6si7YGlzUT0J8mCQBUu/BCIV+LeVcSSECbKoAqNb0IHSxHsesCcrPTGAk1H3BbM7MxwVOFSKwo+NH7ySjTwTejgYF+CfBL7zC8oX7xP3CQ6WOoHX5QlPy22TvRn/v3v8shXc2SzNytsA88sW2T+15vBh8GNQS7BaDqqTDOo7T6kUrp9NlOGTZpuGxxO0vEo6/DFriLqhuUNh6+1dhcf+bkjeaca+C5tgzaiA5JfOrS+GKixjKgvCTuDUbiCDlSI3xxl7o7u3xzgfeqO4z3YqUSe4DPPPGPLb7z53s4D5kiWUdSt5bUvFlhk0/EDTBwahcv+N4OckdHjh1XJ/Z9XyJuGT/qTn35cGrJwhQj3AShcbFbBskDcK/hSHzjd4Z3qutTvMdBRvrSdeGkgLUvK+PGigCsfLFvRf8aTV6JAecCSiGUYnyUsjHo/GmgalBAULtqeWriYMGVlZcrwzz+XJyZMl9FG4couq5PMcvy4mDyGy1GisV4OHTRT+r01UPJb5smHQz+wKxSxeHIDaS+55BJrRdZ+EuMCBhJtc/HklyjgmwTOpX1hEAhKd/ADgSpcREnGnKyxeEAcXmlsQRSa0gUdd99993pnH8ZDC7MjLFzMcFThwlJCB+l2ck0lKA/slkHhIkyFX9B3oZt4K3Sw/GZr+5IlS2XvPfaRU844XW6fUG0GtLmSXWoGtMaORC0JCUSTZ2aZ4/ycXV4nt46vkl4THMd3ZAnZiQdorNQNyg3vglheuEdHaXmNo/4TBXwXywFthGCKWg9+QOsLn0idkXLNTBuFqykDZKKAb7LrkvLliCHoApsD5AmPuCOcfvrpjXlyhin8fvrN13L2KDMLLjMzft2dqA7LCUXk0rSBsnn2Wxl9GuS+rxdJn96lkpWbI78u+9lRuOJgFysJgUBRJhng4Au3BcqPzT1cp7ou9XsaadxtMY1Fhzsd9BMXjrFA+aD+mNTFyicZoHQxaSb8ATsV/Y4BmgZ/IpZZWX5TCxcTt6ysbBn+yQR5fMJMa+HKLgv1j55ylGicJ0e+M1PKB7wpWfm5MvKjj5oUFgKXEnhTp3l4ZSKgsf785pdI4Ju6xO4OpBwELbEgUIWLWTvbuFn/p5BALBQsWWmFphKULvCWW25Z72gXv7SQjjV/dm7QcdBY4YslADRwPcMu1aDlSwBWAk7iyxUPTyDvs0SD0zU7XDja5+elS2SvffaTE085USYvXCLtXp8hRb1mS8vyCinqWWV/O2iuE4U950hBKXmb/72qZOfe0+X1sY6PHAphPLIDT6z/8y7BTnmXgRvLC/ewxGjZpRqgg/ZAG8EKBw3x1BnpMfWrxRjEb5IlSuKMxZNfIoFv6iYSdm8lonzJE/7YcMOSlPJGhO9WrVrLuC++lKPfmi455VUGaySnjP+h34nCshrJKzUzbTMJyCutk5zeVZJXVi0Pfb1QXnutu7TML5SVv68wylZ8Fi6sJCzlYElQn1ImdZQfm3vgG15TjdBBv0Y/iaXK/SwauNMR9Jpd06pwgUwSkFH4UnC/kwpEsSX8AbtD41W4WPbFaMByPu/CB7vds7IzZNCo0fLYxKkydvFvpg+rdOTES5YSjBxcfdGoOdK7Tz/JNor/2E9Gh4Lv+u9P4AMfWXwita6wuGJBZ1NHUHIIotAyAdEDw/X+xgaBKFwKOEpSeWjNBAtFKFmDxYLCb70XBOIEiGVBhSgewASN2RWH5RkzZlg+iPWEokM4Bq/vpQKhQ53B413aJC2CjM8FHSQziqo5Vaaj/F722n13OfKIo2TcpO9lanWlTDPfmlpZbf7XOL/B6gRj1RyZXmXKdeYsGfLtDzJy1CjJMg0Oyw0DlF/eqF9VuIgMjWIDMvNGQWYJVssuvDyTjXyTw51pI/yGJ798kQ7eeB9rAe+DnBHKYMauMq9vpgrxPcLSyu6tePiKBMovW9YJEspvEKf84uIio3CNl0Gz5stbFQtl4JxF5v8ieXvOAnlrzsKE4jsm3/72/wIZAM5ZbM/5fOHF/0mromJZZQMGmwlBiG4/gDwTWBRfGZYSmRSgcFF+7o0eqUbowDpMXD8NGhxPPZL2rbfesj6l+PMqHyiX5KnWoVSiyg2KLTslUSRYpfAjozwnD5YjUbh4l7GAcmLplf7k/REfyTQzMa36dbn0nj7XyIi3HCUakcev5/8kPct6WYVr4gQC5sa3uYhyIcAp47NOTFG4cCk57rjjGusv1ch3Udgp3yAj3vuBQBUuZkdYgjAps6uDgYXZEoMfVq4gETpsRHVTmfFWHsJILBn4gid4Y9BDA2ew8/peqpDlFcoX/zm/fKkAg5wxSUe/6WYdZbOOm0vHTptKTn6OFOQZXjt2Mt8waO9vJpsbvjvaa/PtBGIn/m9mvmFwC/ONzTbbUjq072gbHAotjdAvb9QvTrEsi+BLQl1pOZEfnUt4GaYKoQUZovNmCUnrwA+QDjlEAYUPlgFUDql/5Nvrm6lCyhVLqZ5VSp01BzQPAlWS98knn2wRBQz+jzzkMDnh5FOsJfbkk06UE/l98klyohkUE4rmmxZPOtX8P11OOuUkOcl8Z9ddd5N2HdrK2tUMElhgQ4T7AOqRCSCywBIXlhMsL9SjWhdSiVq2/MbHiYkkPqHxtDuAtPQnvH/EEUc05on/E7y5v5kqJPA2SDkjn/jOofhBayzeVAZRhrEq09bIi3xRSDIMTwcdeIDl8/jTTjFyeIqRD/M9vpt0NGVrZHGvvfc17SFLvsVyv8a0OZ/VBV/0lWwmo/9HBpUv+k2ME265SDVy1ijjqx7rFY8cphICVbioQJbY2MqJszzIYbOKei8IxAKAUgKN8QKVjZUEBz43L0Hypt+lrFlWRCjjBfiiPNjK7eTr5oPff1xfwf8r9Fmy0fk2S4L4FMRTZ9pJclQK1lWtm6DqKRwx4ROsFjoV/YDWFYoa/ogbAy/hSPBVLACJAOWXPPG9YWcmyLIQE6d99t6n8V5qkO8539xnH+fe448/ZmlcF0fASQD5ZHcpgwr8KE/rfy+1qHSABEMmGnu8fQplgHLCrlJ3vvy3dRbKX5+lCvW7KIEjR46Miy94Ij3nsmpUdk8eAuAL3G+//W0/p64ufkHbFzsw2dSgfClvQcqj0oHy5958sTFCoAoXhaICSmUqch0UhtPRlIpz8+T+rxh+HRQ2BXjPix9F9/1UoZq39fvx1JnmETQPXqi08F/bil/eSOfmRXlTDP9GKtH9zXjqKhqQj+bplocg+AtHNy3x1KFCtPzCn6USw+mIly+tM+rLq87C/6cKw+loKl+aV6R8U436bcpa7/kFfd+dj9e13ksl6ne13Pkfb52lCjYKhWtjx3jBK4+NEZsCvKeCHp7fxoR+wevdjQm9ytoPuNP/X6mrWKD5RSoz9+9UgpsON/oF0io/kXgD3L+TDfotNx3xfp/0Xvx4YarA69ugH3Cndb/rdT/V4KbDXd5+wf1+LAwCvGRoY4RAFa40pCENsWFj7Tw2Vvi/Wl4b80DSVPi/yFMaUg9/FjlKK1xpSEMa0pCGQCCtcKXh/ydIK1xpSEMa0pCGNKQhDUmGtMKVhjSkIQ1pSEMa0pBkSCtcaUhDGtKQhjSkIQ1JhrTClYY0pCENaUhDGtKQZEgrXGlIQxrSkIY0pCENSYa0wpWGNKQhDWlIQxrSkGRIK1xpSEMa0pCGNKQhDUmGtMKVhjSkIQ1pSEMa0pBUEPl/aHfKv3EZmYcAAAAASUVORK5CYII=)"
   ]
  },
  {
   "cell_type": "code",
   "execution_count": 25,
   "metadata": {
    "colab": {
     "base_uri": "https://localhost:8080/"
    },
    "id": "tzlgaDRFryZ5",
    "outputId": "051b8b93-d917-461c-a3d1-a2a67f6890f7"
   },
   "outputs": [
    {
     "name": "stdout",
     "output_type": "stream",
     "text": [
      "3\n",
      "1\n"
     ]
    }
   ],
   "source": [
    "def solve1(n,z):\n",
    "    l = [i for i in range(1,n+1)]\n",
    "    s = [i for i in l if i%z==0]\n",
    "    return len(s)\n",
    "\n",
    "print(solve1(10,3))\n",
    "print(solve1(7,5))"
   ]
  },
  {
   "cell_type": "markdown",
   "metadata": {
    "id": "Z156jsRrsYdR"
   },
   "source": [
    "![M2.PNG](data:image/png;base64,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)"
   ]
  },
  {
   "cell_type": "code",
   "execution_count": 26,
   "metadata": {
    "colab": {
     "base_uri": "https://localhost:8080/"
    },
    "id": "Pu1717rZsv4N",
    "outputId": "441c0e27-d8d7-45ae-9c34-f0e1aa02dd05"
   },
   "outputs": [
    {
     "name": "stdout",
     "output_type": "stream",
     "text": [
      "4\n",
      "6\n",
      "11\n"
     ]
    }
   ],
   "source": [
    "def solve2(countF:int,wall:int,Tf:list):\n",
    "    X = 0\n",
    "    if countF == len(Tf):\n",
    "        for i in Tf:\n",
    "            if i<=wall:\n",
    "                X = X+1\n",
    "            elif i>wall:\n",
    "                X = X+2\n",
    "        return X\n",
    "    else:\n",
    "        return \"Error!\"\n",
    "\n",
    "print(solve2(3,7,[4,5,14]))\n",
    "print(solve2(6,1,[1,1,1,1,1,1]))\n",
    "print(solve2(6,5,[7,6,8,9,10,5]))\n"
   ]
  },
  {
   "cell_type": "markdown",
   "metadata": {
    "id": "tcnk9SCTGPrv"
   },
   "source": [
    "# Well Done 🤩"
   ]
  }
 ],
 "metadata": {
  "colab": {
   "provenance": []
  },
  "kernelspec": {
   "display_name": "Python 3 (ipykernel)",
   "language": "python",
   "name": "python3"
  },
  "language_info": {
   "codemirror_mode": {
    "name": "ipython",
    "version": 3
   },
   "file_extension": ".py",
   "mimetype": "text/x-python",
   "name": "python",
   "nbconvert_exporter": "python",
   "pygments_lexer": "ipython3",
   "version": "3.10.6"
  }
 },
 "nbformat": 4,
 "nbformat_minor": 1
}
